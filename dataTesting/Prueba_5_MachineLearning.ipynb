{
 "cells": [
  {
   "cell_type": "markdown",
   "metadata": {
    "deletable": true,
    "editable": true
   },
   "source": [
    "En este notebook resumiré en una única celda todo lo hecho en la prueba 3 donde creabamos el dataframe que vamos a emplear en este notebook. \n",
    "\n",
    "Y a continuación probaremos todos los algóritmos de machinelearning aprendidos para ver cuál es el que mejor se adapta a nuestros datos.\n",
    "Es probable que también usemos técnicas de reducción de dimensionalidad así como de visualización."
   ]
  },
  {
   "cell_type": "code",
   "execution_count": 1,
   "metadata": {
    "collapsed": false,
    "deletable": true,
    "editable": true
   },
   "outputs": [],
   "source": [
    "import pandas as pd\n",
    "dd = pd.read_csv('../../Archivos_tfm/dataTesting/usuarios_DD_1809a1110.csv')\n",
    "dd.columns = ['ID','Usuarios'] # Cambiamos el nombre de la columna.\n",
    "dd.drop('Usuarios',1, inplace=True) # Eliminamos la columna usuarios, ya que no la vamos a necesitar.\n",
    "\n",
    "profundidad = pd.read_csv('../../Archivos_tfm/dataTesting/profundidad.csv', index_col=0)\n",
    "profundidad.drop('page', 1, inplace=True)\n",
    "profundidad.drop('neutral_metric', 1, inplace=True)# Eliminamos esas columnas que no necesitamos\n",
    "def countUsers(lista): # Definimos la función que cálcula la profundidad.\n",
    "    \"\"\"\n",
    "    method para contar veces que aparece un usuario\n",
    "    inputs:\n",
    "        *lista: lista de usuarios\n",
    "    output: diccionario de {'ID usuario':profundidad en el proceso}\n",
    "    \"\"\"\n",
    "    hist = {} # Creamos un diccionario vacío\n",
    "    for user in lista:\n",
    "        if user in hist:\n",
    "            hist[user] += 1\n",
    "        else:\n",
    "            hist[user] = 1\n",
    "    return hist\n",
    "dict_user = countUsers(profundidad['ID']) # aplicamos la función a nuestra lista de usuarios\n",
    "profundidad = pd.DataFrame(dict_user.items(), columns=['ID','Profundidad']) # Diccionario a dataframe\n",
    "dd = pd.merge(dd,profundidad, on = 'ID') # UNIMOS TABLAS\n",
    "\n",
    "navigation_data = pd.read_csv('../../Archivos_tfm/dataTesting/usersFeatures_1809a1110.csv') #\n",
    "navigation_data.columns = ['ID','sesiones','visualizaciones','visualizacionesUnicas','duracionMediaSesion']\n",
    "dd = pd.merge(dd, navigation_data, on = 'ID') # Añadimos datos de navegación generales\n",
    "\n",
    "# Cálculo de características básicas\n",
    "dd['visualizacionesPorSesion'] = (dd['visualizaciones']/dd['sesiones']) # New feature\n",
    "dd['visualizacionesUnicasPorSesion'] = (dd['visualizacionesUnicas']/dd['sesiones']) # New feature\n",
    "\n",
    "# Cuatro características más\n",
    "timepage1 = pd.read_csv('../../Archivos_tfm/dataTesting/Tiempo1_1809a1110.csv')\n",
    "timepage1.columns = ['ID','avgTimePage1']\n",
    "timepage2 = pd.read_csv('../../Archivos_tfm/dataTesting/Tiempo2_1809a1110.csv')\n",
    "timepage2.columns = ['ID','avgTimePage2']\n",
    "timepage3 = pd.read_csv('../../Archivos_tfm/dataTesting/Tiempo3_1809a1110.csv')\n",
    "timepage3.columns = ['ID','avgTimePage3']\n",
    "# UNIMOS TABLAS\n",
    "dd = pd.merge(dd, timepage1, how='left', on='ID')\n",
    "dd = pd.merge(dd, timepage2, how='left', on='ID')\n",
    "dd = pd.merge(dd, timepage3, how='left', on='ID')\n",
    "\n",
    "# No queremos tener en cuenta los usuarios cuyo tiempo en la primera página es NaN.\n",
    "dd = dd[dd['avgTimePage1'].notnull()]\n",
    "\n",
    "# Añadimos una columna más que sea la suma de las tres anteriores.\n",
    "# Obtenemos por tanto el tiempo medio que cada usuario a empleado en el proceso.\n",
    "dd = dd.fillna(0) # Para poder sumar debemos sustituir los NaNs por cero.\n",
    "dd['avgTimeInTheProcess'] = dd['avgTimePage1'] + dd['avgTimePage2'] + dd['avgTimePage3']\n",
    "\n",
    "# Y otra columa que sea el tiempo que está fuera del proceso\n",
    "dd['avgTimeOutOfTheProcess'] = dd['duracionMediaSesion'] - dd['avgTimeInTheProcess']\n",
    "\n",
    "# Añadimos un par de columnas más con datos de visitas a la primera, segunda y tercera página del proceso.\n",
    "processViews = (pd.read_csv('../../Archivos_tfm/dataTesting/visualizacionespantallasproceso_1809a1110.csv',\n",
    "                            index_col=0))\n",
    "dd = (pd.merge(dd, processViews[processViews['page']=='page1'].drop('page',1).\n",
    "         rename(columns = {'PageProcessViews':'visitsToTheProcess',\n",
    "                           'uniquePageProcessViews':'uniqueVisitsToTheProcess'}),\n",
    "                            how='left', on = 'ID')) # visitas página uno\n",
    "dd = (pd.merge(dd, processViews[processViews['page']=='page2'].drop('page',1).\n",
    "         rename(columns = {'PageProcessViews':'visitsPage2',\n",
    "                           'uniquePageProcessViews':'uniqueVisitsPage2'}),\n",
    "                            how='left', on = 'ID')) # visitas página dos\n",
    "dd = (pd.merge(dd, processViews[processViews['page']=='page3'].drop('page',1).\n",
    "               rename(columns = {'PageProcessViews':'visitsPage3',\n",
    "                                 'uniquePageProcessViews':'uniqueVisitsPage3'}), how ='left', on = 'ID'))\n",
    "# Añadimos la última feature, por el momento, que indicará la cantidad de veces que un usuario ha visto\n",
    "# una página de error en el proceso.\n",
    "\n",
    "ErrorPageViews = (pd.read_csv('../../Archivos_tfm/dataTesting/usuariosError_DD_1809a1110.csv'))\n",
    "ErrorPageViews.columns = ['ID','Errores']\n",
    "dd = (pd.merge(dd, ErrorPageViews, how = 'left', on = 'ID'))   \n",
    "dd = dd.fillna(0)\n",
    "\n",
    "# ETIQUETAS\n",
    "    dd['Y'] = dd['Profundidad']\n",
    "    dd['Y'] = (dd['Y'].replace(to_replace=[4,3,2,1],\n",
    "               value=[1,0,0,0]))"
   ]
  },
  {
   "cell_type": "code",
   "execution_count": 3,
   "metadata": {
    "collapsed": true,
    "deletable": true,
    "editable": true
   },
   "outputs": [],
   "source": [
    "dd.to_csv('../../Archivos_tfm/dataTesting/df_prueba.csv',sep=',',)"
   ]
  },
  {
   "cell_type": "code",
   "execution_count": 4,
   "metadata": {
    "collapsed": false,
    "deletable": true,
    "editable": true,
    "scrolled": true
   },
   "outputs": [
    {
     "name": "stdout",
     "output_type": "stream",
     "text": [
      "Nuestro dataframe tiene 15130 filas y 21 columnas\n"
     ]
    }
   ],
   "source": [
    "print \"Nuestro dataframe tiene %d filas y %d columnas\" %(len(dd.index),len(dd.columns))"
   ]
  },
  {
   "cell_type": "code",
   "execution_count": 5,
   "metadata": {
    "collapsed": false,
    "deletable": true,
    "editable": true
   },
   "outputs": [
    {
     "data": {
      "text/html": [
       "<div>\n",
       "<style>\n",
       "    .dataframe thead tr:only-child th {\n",
       "        text-align: right;\n",
       "    }\n",
       "\n",
       "    .dataframe thead th {\n",
       "        text-align: left;\n",
       "    }\n",
       "\n",
       "    .dataframe tbody tr th {\n",
       "        vertical-align: top;\n",
       "    }\n",
       "</style>\n",
       "<table border=\"1\" class=\"dataframe\">\n",
       "  <thead>\n",
       "    <tr style=\"text-align: right;\">\n",
       "      <th></th>\n",
       "      <th>ID</th>\n",
       "      <th>Profundidad</th>\n",
       "      <th>sesiones</th>\n",
       "      <th>visualizaciones</th>\n",
       "      <th>visualizacionesUnicas</th>\n",
       "      <th>duracionMediaSesion</th>\n",
       "      <th>visualizacionesPorSesion</th>\n",
       "      <th>visualizacionesUnicasPorSesion</th>\n",
       "      <th>avgTimePage1</th>\n",
       "      <th>avgTimePage2</th>\n",
       "      <th>avgTimePage3</th>\n",
       "      <th>avgTimeInTheProcess</th>\n",
       "      <th>avgTimeOutOfTheProcess</th>\n",
       "      <th>visitsToTheProcess</th>\n",
       "      <th>uniqueVisitsToTheProcess</th>\n",
       "      <th>visitsPage2</th>\n",
       "      <th>uniqueVisitsPage2</th>\n",
       "      <th>visitsPage3</th>\n",
       "      <th>uniqueVisitsPage3</th>\n",
       "      <th>Errores</th>\n",
       "      <th>Y</th>\n",
       "    </tr>\n",
       "  </thead>\n",
       "  <tbody>\n",
       "    <tr>\n",
       "      <th>0</th>\n",
       "      <td>F10001681</td>\n",
       "      <td>1</td>\n",
       "      <td>3</td>\n",
       "      <td>53</td>\n",
       "      <td>16</td>\n",
       "      <td>1246.333333</td>\n",
       "      <td>17.666667</td>\n",
       "      <td>5.333333</td>\n",
       "      <td>10.0</td>\n",
       "      <td>0.000000</td>\n",
       "      <td>0.0</td>\n",
       "      <td>10.000000</td>\n",
       "      <td>1236.333333</td>\n",
       "      <td>1</td>\n",
       "      <td>1</td>\n",
       "      <td>0.0</td>\n",
       "      <td>0.0</td>\n",
       "      <td>0.0</td>\n",
       "      <td>0.0</td>\n",
       "      <td>0.0</td>\n",
       "      <td>0</td>\n",
       "    </tr>\n",
       "    <tr>\n",
       "      <th>1</th>\n",
       "      <td>F10004567</td>\n",
       "      <td>1</td>\n",
       "      <td>111</td>\n",
       "      <td>1419</td>\n",
       "      <td>409</td>\n",
       "      <td>167.756757</td>\n",
       "      <td>12.783784</td>\n",
       "      <td>3.684685</td>\n",
       "      <td>3.0</td>\n",
       "      <td>0.000000</td>\n",
       "      <td>0.0</td>\n",
       "      <td>3.000000</td>\n",
       "      <td>164.756757</td>\n",
       "      <td>1</td>\n",
       "      <td>1</td>\n",
       "      <td>0.0</td>\n",
       "      <td>0.0</td>\n",
       "      <td>0.0</td>\n",
       "      <td>0.0</td>\n",
       "      <td>0.0</td>\n",
       "      <td>0</td>\n",
       "    </tr>\n",
       "    <tr>\n",
       "      <th>2</th>\n",
       "      <td>F10007287</td>\n",
       "      <td>4</td>\n",
       "      <td>68</td>\n",
       "      <td>935</td>\n",
       "      <td>301</td>\n",
       "      <td>155.485294</td>\n",
       "      <td>13.750000</td>\n",
       "      <td>4.426471</td>\n",
       "      <td>8.8</td>\n",
       "      <td>7.333333</td>\n",
       "      <td>0.0</td>\n",
       "      <td>16.133333</td>\n",
       "      <td>139.351961</td>\n",
       "      <td>10</td>\n",
       "      <td>6</td>\n",
       "      <td>4.0</td>\n",
       "      <td>3.0</td>\n",
       "      <td>2.0</td>\n",
       "      <td>1.0</td>\n",
       "      <td>1.0</td>\n",
       "      <td>1</td>\n",
       "    </tr>\n",
       "    <tr>\n",
       "      <th>3</th>\n",
       "      <td>F10019099</td>\n",
       "      <td>4</td>\n",
       "      <td>10</td>\n",
       "      <td>111</td>\n",
       "      <td>48</td>\n",
       "      <td>112.500000</td>\n",
       "      <td>11.100000</td>\n",
       "      <td>4.800000</td>\n",
       "      <td>18.0</td>\n",
       "      <td>5.000000</td>\n",
       "      <td>16.0</td>\n",
       "      <td>39.000000</td>\n",
       "      <td>73.500000</td>\n",
       "      <td>1</td>\n",
       "      <td>1</td>\n",
       "      <td>1.0</td>\n",
       "      <td>1.0</td>\n",
       "      <td>1.0</td>\n",
       "      <td>1.0</td>\n",
       "      <td>0.0</td>\n",
       "      <td>1</td>\n",
       "    </tr>\n",
       "    <tr>\n",
       "      <th>4</th>\n",
       "      <td>F10020552</td>\n",
       "      <td>1</td>\n",
       "      <td>3</td>\n",
       "      <td>48</td>\n",
       "      <td>15</td>\n",
       "      <td>140.333333</td>\n",
       "      <td>16.000000</td>\n",
       "      <td>5.000000</td>\n",
       "      <td>14.0</td>\n",
       "      <td>0.000000</td>\n",
       "      <td>0.0</td>\n",
       "      <td>14.000000</td>\n",
       "      <td>126.333333</td>\n",
       "      <td>1</td>\n",
       "      <td>1</td>\n",
       "      <td>0.0</td>\n",
       "      <td>0.0</td>\n",
       "      <td>0.0</td>\n",
       "      <td>0.0</td>\n",
       "      <td>0.0</td>\n",
       "      <td>0</td>\n",
       "    </tr>\n",
       "  </tbody>\n",
       "</table>\n",
       "</div>"
      ],
      "text/plain": [
       "          ID  Profundidad  sesiones  visualizaciones  visualizacionesUnicas  \\\n",
       "0  F10001681            1         3               53                     16   \n",
       "1  F10004567            1       111             1419                    409   \n",
       "2  F10007287            4        68              935                    301   \n",
       "3  F10019099            4        10              111                     48   \n",
       "4  F10020552            1         3               48                     15   \n",
       "\n",
       "   duracionMediaSesion  visualizacionesPorSesion  \\\n",
       "0          1246.333333                 17.666667   \n",
       "1           167.756757                 12.783784   \n",
       "2           155.485294                 13.750000   \n",
       "3           112.500000                 11.100000   \n",
       "4           140.333333                 16.000000   \n",
       "\n",
       "   visualizacionesUnicasPorSesion  avgTimePage1  avgTimePage2  avgTimePage3  \\\n",
       "0                        5.333333          10.0      0.000000           0.0   \n",
       "1                        3.684685           3.0      0.000000           0.0   \n",
       "2                        4.426471           8.8      7.333333           0.0   \n",
       "3                        4.800000          18.0      5.000000          16.0   \n",
       "4                        5.000000          14.0      0.000000           0.0   \n",
       "\n",
       "   avgTimeInTheProcess  avgTimeOutOfTheProcess  visitsToTheProcess  \\\n",
       "0            10.000000             1236.333333                   1   \n",
       "1             3.000000              164.756757                   1   \n",
       "2            16.133333              139.351961                  10   \n",
       "3            39.000000               73.500000                   1   \n",
       "4            14.000000              126.333333                   1   \n",
       "\n",
       "   uniqueVisitsToTheProcess  visitsPage2  uniqueVisitsPage2  visitsPage3  \\\n",
       "0                         1          0.0                0.0          0.0   \n",
       "1                         1          0.0                0.0          0.0   \n",
       "2                         6          4.0                3.0          2.0   \n",
       "3                         1          1.0                1.0          1.0   \n",
       "4                         1          0.0                0.0          0.0   \n",
       "\n",
       "   uniqueVisitsPage3  Errores  Y  \n",
       "0                0.0      0.0  0  \n",
       "1                0.0      0.0  0  \n",
       "2                1.0      1.0  1  \n",
       "3                1.0      0.0  1  \n",
       "4                0.0      0.0  0  "
      ]
     },
     "execution_count": 5,
     "metadata": {},
     "output_type": "execute_result"
    }
   ],
   "source": [
    "pd.set_option('display.max_columns',100)\n",
    "dd.head()"
   ]
  },
  {
   "cell_type": "markdown",
   "metadata": {
    "deletable": true,
    "editable": true
   },
   "source": [
    "# Normalizamos los datos antes de empezar con los algoritmos"
   ]
  },
  {
   "cell_type": "code",
   "execution_count": 3,
   "metadata": {
    "collapsed": true,
    "deletable": true,
    "editable": true
   },
   "outputs": [],
   "source": [
    "from sklearn import preprocessing"
   ]
  },
  {
   "cell_type": "code",
   "execution_count": 14,
   "metadata": {
    "collapsed": false,
    "deletable": true,
    "editable": true
   },
   "outputs": [],
   "source": [
    "X = (dd[dd.columns[2:20]]).values\n",
    "X_norm = preprocessing.scale((dd[dd.columns[2:20]]).values)"
   ]
  },
  {
   "cell_type": "code",
   "execution_count": 9,
   "metadata": {
    "collapsed": false,
    "deletable": true,
    "editable": true
   },
   "outputs": [
    {
     "data": {
      "text/plain": [
       "array([[-0.96318605, -0.93261177, -1.06181878, ..., -0.76199454,\n",
       "        -0.45005762, -0.69847547],\n",
       "       [ 3.37013683,  3.46671116,  3.18345298, ..., -0.76199454,\n",
       "        -0.45005762, -0.69847547],\n",
       "       [ 1.64483235,  1.90794666,  2.01681341, ...,  2.41899804,\n",
       "         0.61349128,  0.41558038],\n",
       "       ..., \n",
       "       [-0.72244589, -0.64597945, -0.78096111, ...,  0.29833632,\n",
       "         1.14526573,  0.41558038],\n",
       "       [ 0.12014467, -0.26917068, -0.21924576, ..., -0.76199454,\n",
       "        -0.45005762, -0.69847547],\n",
       "       [-0.64219917, -0.67818533, -0.70534558, ...,  0.29833632,\n",
       "         0.08171683,  0.41558038]])"
      ]
     },
     "execution_count": 9,
     "metadata": {},
     "output_type": "execute_result"
    }
   ],
   "source": [
    "X_norm"
   ]
  },
  {
   "cell_type": "code",
   "execution_count": 5,
   "metadata": {
    "collapsed": true,
    "deletable": true,
    "editable": true
   },
   "outputs": [],
   "source": [
    "y = dd['Y']"
   ]
  },
  {
   "cell_type": "markdown",
   "metadata": {
    "deletable": true,
    "editable": true
   },
   "source": [
    "# Reducción de dimensionalidad\n",
    "\n",
    "## TSNE"
   ]
  },
  {
   "cell_type": "code",
   "execution_count": null,
   "metadata": {
    "collapsed": true,
    "deletable": true,
    "editable": true
   },
   "outputs": [],
   "source": [
    "from sklearn.manifold import TSNE"
   ]
  },
  {
   "cell_type": "code",
   "execution_count": null,
   "metadata": {
    "collapsed": false,
    "deletable": true,
    "editable": true
   },
   "outputs": [
    {
     "ename": "MemoryError",
     "evalue": "",
     "output_type": "error",
     "traceback": [
      "\u001b[0;31m---------------------------------------------------------------------------\u001b[0m",
      "\u001b[0;31mMemoryError\u001b[0m                               Traceback (most recent call last)",
      "\u001b[0;32m<ipython-input-19-b75c8f2e78bb>\u001b[0m in \u001b[0;36m<module>\u001b[0;34m()\u001b[0m\n\u001b[1;32m      3\u001b[0m \u001b[0;34m\u001b[0m\u001b[0m\n\u001b[1;32m      4\u001b[0m \u001b[0mmodel\u001b[0m \u001b[0;34m=\u001b[0m \u001b[0mTSNE\u001b[0m\u001b[0;34m(\u001b[0m\u001b[0;34m)\u001b[0m\u001b[0;34m\u001b[0m\u001b[0m\n\u001b[0;32m----> 5\u001b[0;31m \u001b[0mXb\u001b[0m \u001b[0;34m=\u001b[0m \u001b[0mmodel\u001b[0m\u001b[0;34m.\u001b[0m\u001b[0mfit_transform\u001b[0m\u001b[0;34m(\u001b[0m\u001b[0mX\u001b[0m\u001b[0;34m)\u001b[0m\u001b[0;34m\u001b[0m\u001b[0m\n\u001b[0m",
      "\u001b[0;32m/home/dsc/anaconda2/lib/python2.7/site-packages/sklearn/manifold/t_sne.pyc\u001b[0m in \u001b[0;36mfit_transform\u001b[0;34m(self, X, y)\u001b[0m\n\u001b[1;32m    882\u001b[0m             \u001b[0mEmbedding\u001b[0m \u001b[0mof\u001b[0m \u001b[0mthe\u001b[0m \u001b[0mtraining\u001b[0m \u001b[0mdata\u001b[0m \u001b[0;32min\u001b[0m \u001b[0mlow\u001b[0m\u001b[0;34m-\u001b[0m\u001b[0mdimensional\u001b[0m \u001b[0mspace\u001b[0m\u001b[0;34m.\u001b[0m\u001b[0;34m\u001b[0m\u001b[0m\n\u001b[1;32m    883\u001b[0m         \"\"\"\n\u001b[0;32m--> 884\u001b[0;31m         \u001b[0membedding\u001b[0m \u001b[0;34m=\u001b[0m \u001b[0mself\u001b[0m\u001b[0;34m.\u001b[0m\u001b[0m_fit\u001b[0m\u001b[0;34m(\u001b[0m\u001b[0mX\u001b[0m\u001b[0;34m)\u001b[0m\u001b[0;34m\u001b[0m\u001b[0m\n\u001b[0m\u001b[1;32m    885\u001b[0m         \u001b[0mself\u001b[0m\u001b[0;34m.\u001b[0m\u001b[0membedding_\u001b[0m \u001b[0;34m=\u001b[0m \u001b[0membedding\u001b[0m\u001b[0;34m\u001b[0m\u001b[0m\n\u001b[1;32m    886\u001b[0m         \u001b[0;32mreturn\u001b[0m \u001b[0mself\u001b[0m\u001b[0;34m.\u001b[0m\u001b[0membedding_\u001b[0m\u001b[0;34m\u001b[0m\u001b[0m\n",
      "\u001b[0;32m/home/dsc/anaconda2/lib/python2.7/site-packages/sklearn/manifold/t_sne.pyc\u001b[0m in \u001b[0;36m_fit\u001b[0;34m(self, X, skip_num_points)\u001b[0m\n\u001b[1;32m    764\u001b[0m                 \u001b[0mneighbors_nn\u001b[0m \u001b[0;34m=\u001b[0m \u001b[0mneighbors_nn\u001b[0m\u001b[0;34m[\u001b[0m\u001b[0;34m:\u001b[0m\u001b[0;34m,\u001b[0m \u001b[0;36m1\u001b[0m\u001b[0;34m:\u001b[0m\u001b[0;34m]\u001b[0m\u001b[0;34m\u001b[0m\u001b[0m\n\u001b[1;32m    765\u001b[0m             P = _joint_probabilities_nn(distances, neighbors_nn,\n\u001b[0;32m--> 766\u001b[0;31m                                         self.perplexity, self.verbose)\n\u001b[0m\u001b[1;32m    767\u001b[0m         \u001b[0;32melse\u001b[0m\u001b[0;34m:\u001b[0m\u001b[0;34m\u001b[0m\u001b[0m\n\u001b[1;32m    768\u001b[0m             \u001b[0mP\u001b[0m \u001b[0;34m=\u001b[0m \u001b[0m_joint_probabilities\u001b[0m\u001b[0;34m(\u001b[0m\u001b[0mdistances\u001b[0m\u001b[0;34m,\u001b[0m \u001b[0mself\u001b[0m\u001b[0;34m.\u001b[0m\u001b[0mperplexity\u001b[0m\u001b[0;34m,\u001b[0m \u001b[0mself\u001b[0m\u001b[0;34m.\u001b[0m\u001b[0mverbose\u001b[0m\u001b[0;34m)\u001b[0m\u001b[0;34m\u001b[0m\u001b[0m\n",
      "\u001b[0;32m/home/dsc/anaconda2/lib/python2.7/site-packages/sklearn/manifold/t_sne.pyc\u001b[0m in \u001b[0;36m_joint_probabilities_nn\u001b[0;34m(distances, neighbors, desired_perplexity, verbose)\u001b[0m\n\u001b[1;32m     98\u001b[0m     \u001b[0mP\u001b[0m \u001b[0;34m=\u001b[0m \u001b[0mconditional_P\u001b[0m \u001b[0;34m+\u001b[0m \u001b[0mconditional_P\u001b[0m\u001b[0;34m.\u001b[0m\u001b[0mT\u001b[0m\u001b[0;34m\u001b[0m\u001b[0m\n\u001b[1;32m     99\u001b[0m     \u001b[0msum_P\u001b[0m \u001b[0;34m=\u001b[0m \u001b[0mnp\u001b[0m\u001b[0;34m.\u001b[0m\u001b[0mmaximum\u001b[0m\u001b[0;34m(\u001b[0m\u001b[0mnp\u001b[0m\u001b[0;34m.\u001b[0m\u001b[0msum\u001b[0m\u001b[0;34m(\u001b[0m\u001b[0mP\u001b[0m\u001b[0;34m)\u001b[0m\u001b[0;34m,\u001b[0m \u001b[0mMACHINE_EPSILON\u001b[0m\u001b[0;34m)\u001b[0m\u001b[0;34m\u001b[0m\u001b[0m\n\u001b[0;32m--> 100\u001b[0;31m     \u001b[0mP\u001b[0m \u001b[0;34m=\u001b[0m \u001b[0mnp\u001b[0m\u001b[0;34m.\u001b[0m\u001b[0mmaximum\u001b[0m\u001b[0;34m(\u001b[0m\u001b[0msquareform\u001b[0m\u001b[0;34m(\u001b[0m\u001b[0mP\u001b[0m\u001b[0;34m)\u001b[0m \u001b[0;34m/\u001b[0m \u001b[0msum_P\u001b[0m\u001b[0;34m,\u001b[0m \u001b[0mMACHINE_EPSILON\u001b[0m\u001b[0;34m)\u001b[0m\u001b[0;34m\u001b[0m\u001b[0m\n\u001b[0m\u001b[1;32m    101\u001b[0m     \u001b[0;32massert\u001b[0m \u001b[0mnp\u001b[0m\u001b[0;34m.\u001b[0m\u001b[0mall\u001b[0m\u001b[0;34m(\u001b[0m\u001b[0mnp\u001b[0m\u001b[0;34m.\u001b[0m\u001b[0mabs\u001b[0m\u001b[0;34m(\u001b[0m\u001b[0mP\u001b[0m\u001b[0;34m)\u001b[0m \u001b[0;34m<=\u001b[0m \u001b[0;36m1.0\u001b[0m\u001b[0;34m)\u001b[0m\u001b[0;34m\u001b[0m\u001b[0m\n\u001b[1;32m    102\u001b[0m     \u001b[0;32mreturn\u001b[0m \u001b[0mP\u001b[0m\u001b[0;34m\u001b[0m\u001b[0m\n",
      "\u001b[0;32m/home/dsc/anaconda2/lib/python2.7/site-packages/scipy/spatial/distance.pyc\u001b[0m in \u001b[0;36msquareform\u001b[0;34m(X, force, checks)\u001b[0m\n\u001b[1;32m   1609\u001b[0m \u001b[0;34m\u001b[0m\u001b[0m\n\u001b[1;32m   1610\u001b[0m         \u001b[0;31m# Create a vector.\u001b[0m\u001b[0;34m\u001b[0m\u001b[0;34m\u001b[0m\u001b[0m\n\u001b[0;32m-> 1611\u001b[0;31m         \u001b[0mv\u001b[0m \u001b[0;34m=\u001b[0m \u001b[0mnp\u001b[0m\u001b[0;34m.\u001b[0m\u001b[0mzeros\u001b[0m\u001b[0;34m(\u001b[0m\u001b[0;34m(\u001b[0m\u001b[0md\u001b[0m \u001b[0;34m*\u001b[0m \u001b[0;34m(\u001b[0m\u001b[0md\u001b[0m \u001b[0;34m-\u001b[0m \u001b[0;36m1\u001b[0m\u001b[0;34m)\u001b[0m\u001b[0;34m)\u001b[0m \u001b[0;34m//\u001b[0m \u001b[0;36m2\u001b[0m\u001b[0;34m,\u001b[0m \u001b[0mdtype\u001b[0m\u001b[0;34m=\u001b[0m\u001b[0mX\u001b[0m\u001b[0;34m.\u001b[0m\u001b[0mdtype\u001b[0m\u001b[0;34m)\u001b[0m\u001b[0;34m\u001b[0m\u001b[0m\n\u001b[0m\u001b[1;32m   1612\u001b[0m \u001b[0;34m\u001b[0m\u001b[0m\n\u001b[1;32m   1613\u001b[0m         \u001b[0;31m# Since the C code does not support striding using strides.\u001b[0m\u001b[0;34m\u001b[0m\u001b[0;34m\u001b[0m\u001b[0m\n",
      "\u001b[0;31mMemoryError\u001b[0m: "
     ]
    }
   ],
   "source": [
    "X_tsne = (preprocessing.scale((dd[dd.columns[2:19]]).values))\n",
    "#X_tsne = X.sample(5000).values\n",
    "\n",
    "model = TSNE()\n",
    "Xb = model.fit_transform(X)"
   ]
  },
  {
   "cell_type": "code",
   "execution_count": 7,
   "metadata": {
    "collapsed": false,
    "deletable": true,
    "editable": true
   },
   "outputs": [
    {
     "data": {
      "text/plain": [
       "array([[ -4.46318564,  -5.54674886],\n",
       "       [  0.4895659 ,   2.16525872],\n",
       "       [  1.58451678,  -8.41145624],\n",
       "       ..., \n",
       "       [  8.86310436,  -4.95413163],\n",
       "       [ 10.56597446,   1.61839909],\n",
       "       [ -7.61027568,  11.28791105]])"
      ]
     },
     "execution_count": 7,
     "metadata": {},
     "output_type": "execute_result"
    }
   ],
   "source": [
    "#Xb"
   ]
  },
  {
   "cell_type": "markdown",
   "metadata": {
    "deletable": true,
    "editable": true
   },
   "source": [
    "# Pruebas algoritmos machine learning\n",
    "\n",
    "1. K-Neighbour\n",
    "2. Support Vector Machines\n",
    "3. Decision Tree\n",
    "4. Random forest"
   ]
  },
  {
   "cell_type": "markdown",
   "metadata": {
    "deletable": true,
    "editable": true
   },
   "source": [
    "# 1. K-Neighbour"
   ]
  },
  {
   "cell_type": "code",
   "execution_count": 10,
   "metadata": {
    "collapsed": false,
    "deletable": true,
    "editable": true
   },
   "outputs": [],
   "source": [
    "from sklearn.neighbors import KNeighborsClassifier\n",
    "from sklearn.model_selection import train_test_split\n",
    "from sklearn.metrics import accuracy_score\n",
    "from sklearn.model_selection import cross_val_score\n",
    "import matplotlib.pyplot as plt\n",
    "%matplotlib inline\n",
    "import numpy as np\n",
    "\n",
    "\n",
    "#clf = KNeighborsClassifier() así creamos una instancia del algorítmo\n",
    "#clf.fit(X_norm,y) así lo entrenamos"
   ]
  },
  {
   "cell_type": "code",
   "execution_count": 13,
   "metadata": {
    "collapsed": false,
    "deletable": true,
    "editable": true
   },
   "outputs": [
    {
     "name": "stdout",
     "output_type": "stream",
     "text": [
      "KNeighborsClassifier(algorithm='auto', leaf_size=30, metric='minkowski',\n",
      "           metric_params=None, n_jobs=1, n_neighbors=3, p=2,\n",
      "           weights='uniform')\n",
      "0.831879460745\n"
     ]
    }
   ],
   "source": [
    "# Prueba con train_test_split\n",
    "X_train, X_test, y_train, y_test = train_test_split(X,y)\n",
    "clf = KNeighborsClassifier(n_neighbors=3)\n",
    "print clf.fit(X_train,y_train)\n",
    "print accuracy_score(y_test,clf.predict(X_test))"
   ]
  },
  {
   "cell_type": "code",
   "execution_count": 14,
   "metadata": {
    "collapsed": false,
    "deletable": true,
    "editable": true
   },
   "outputs": [
    {
     "name": "stdout",
     "output_type": "stream",
     "text": [
      "[ 0.82970297  0.86732673  0.84950495  0.86336634  0.83366337  0.83762376\n",
      "  0.82178218  0.88118812  0.84554455  0.86930693  0.86930693  0.85940594\n",
      "  0.82772277  0.85346535  0.84554455  0.84158416  0.85119048  0.84325397\n",
      "  0.84920635  0.8452381   0.85515873  0.83333333  0.83928571  0.86309524\n",
      "  0.84493042  0.82107356  0.8528827   0.86083499  0.83101392  0.85685885]\n",
      "0.848113198071\n",
      "0.0146999471104\n"
     ]
    }
   ],
   "source": [
    "print cross_val_score(clf,X,y,cv=30)\n",
    "print cross_val_score(clf,X,y,cv=30).mean()\n",
    "print cross_val_score(clf,X,y,cv=30).std()"
   ]
  },
  {
   "cell_type": "code",
   "execution_count": 15,
   "metadata": {
    "collapsed": false,
    "deletable": true,
    "editable": true
   },
   "outputs": [
    {
     "data": {
      "text/plain": [
       "array([[ 1.        ,  0.        ],\n",
       "       [ 0.66666667,  0.33333333],\n",
       "       [ 1.        ,  0.        ],\n",
       "       ..., \n",
       "       [ 1.        ,  0.        ],\n",
       "       [ 0.        ,  1.        ],\n",
       "       [ 0.33333333,  0.66666667]])"
      ]
     },
     "execution_count": 15,
     "metadata": {},
     "output_type": "execute_result"
    }
   ],
   "source": [
    "clf.predict_proba(X_test)"
   ]
  },
  {
   "cell_type": "code",
   "execution_count": 16,
   "metadata": {
    "collapsed": false,
    "deletable": true,
    "editable": true
   },
   "outputs": [
    {
     "data": {
      "text/html": [
       "<div>\n",
       "<style>\n",
       "    .dataframe thead tr:only-child th {\n",
       "        text-align: right;\n",
       "    }\n",
       "\n",
       "    .dataframe thead th {\n",
       "        text-align: left;\n",
       "    }\n",
       "\n",
       "    .dataframe tbody tr th {\n",
       "        vertical-align: top;\n",
       "    }\n",
       "</style>\n",
       "<table border=\"1\" class=\"dataframe\">\n",
       "  <thead>\n",
       "    <tr style=\"text-align: right;\">\n",
       "      <th></th>\n",
       "      <th>0</th>\n",
       "      <th>1</th>\n",
       "    </tr>\n",
       "  </thead>\n",
       "  <tbody>\n",
       "    <tr>\n",
       "      <th>0</th>\n",
       "      <td>1.000000</td>\n",
       "      <td>0.000000</td>\n",
       "    </tr>\n",
       "    <tr>\n",
       "      <th>1</th>\n",
       "      <td>0.666667</td>\n",
       "      <td>0.333333</td>\n",
       "    </tr>\n",
       "    <tr>\n",
       "      <th>2</th>\n",
       "      <td>1.000000</td>\n",
       "      <td>0.000000</td>\n",
       "    </tr>\n",
       "    <tr>\n",
       "      <th>3</th>\n",
       "      <td>0.000000</td>\n",
       "      <td>1.000000</td>\n",
       "    </tr>\n",
       "    <tr>\n",
       "      <th>4</th>\n",
       "      <td>0.333333</td>\n",
       "      <td>0.666667</td>\n",
       "    </tr>\n",
       "    <tr>\n",
       "      <th>5</th>\n",
       "      <td>0.000000</td>\n",
       "      <td>1.000000</td>\n",
       "    </tr>\n",
       "    <tr>\n",
       "      <th>6</th>\n",
       "      <td>0.000000</td>\n",
       "      <td>1.000000</td>\n",
       "    </tr>\n",
       "    <tr>\n",
       "      <th>7</th>\n",
       "      <td>0.666667</td>\n",
       "      <td>0.333333</td>\n",
       "    </tr>\n",
       "    <tr>\n",
       "      <th>8</th>\n",
       "      <td>0.666667</td>\n",
       "      <td>0.333333</td>\n",
       "    </tr>\n",
       "    <tr>\n",
       "      <th>9</th>\n",
       "      <td>0.333333</td>\n",
       "      <td>0.666667</td>\n",
       "    </tr>\n",
       "    <tr>\n",
       "      <th>10</th>\n",
       "      <td>0.333333</td>\n",
       "      <td>0.666667</td>\n",
       "    </tr>\n",
       "    <tr>\n",
       "      <th>11</th>\n",
       "      <td>1.000000</td>\n",
       "      <td>0.000000</td>\n",
       "    </tr>\n",
       "    <tr>\n",
       "      <th>12</th>\n",
       "      <td>1.000000</td>\n",
       "      <td>0.000000</td>\n",
       "    </tr>\n",
       "    <tr>\n",
       "      <th>13</th>\n",
       "      <td>0.000000</td>\n",
       "      <td>1.000000</td>\n",
       "    </tr>\n",
       "    <tr>\n",
       "      <th>14</th>\n",
       "      <td>1.000000</td>\n",
       "      <td>0.000000</td>\n",
       "    </tr>\n",
       "    <tr>\n",
       "      <th>15</th>\n",
       "      <td>0.000000</td>\n",
       "      <td>1.000000</td>\n",
       "    </tr>\n",
       "    <tr>\n",
       "      <th>16</th>\n",
       "      <td>1.000000</td>\n",
       "      <td>0.000000</td>\n",
       "    </tr>\n",
       "    <tr>\n",
       "      <th>17</th>\n",
       "      <td>1.000000</td>\n",
       "      <td>0.000000</td>\n",
       "    </tr>\n",
       "    <tr>\n",
       "      <th>18</th>\n",
       "      <td>1.000000</td>\n",
       "      <td>0.000000</td>\n",
       "    </tr>\n",
       "    <tr>\n",
       "      <th>19</th>\n",
       "      <td>0.333333</td>\n",
       "      <td>0.666667</td>\n",
       "    </tr>\n",
       "    <tr>\n",
       "      <th>20</th>\n",
       "      <td>0.333333</td>\n",
       "      <td>0.666667</td>\n",
       "    </tr>\n",
       "    <tr>\n",
       "      <th>21</th>\n",
       "      <td>1.000000</td>\n",
       "      <td>0.000000</td>\n",
       "    </tr>\n",
       "    <tr>\n",
       "      <th>22</th>\n",
       "      <td>0.333333</td>\n",
       "      <td>0.666667</td>\n",
       "    </tr>\n",
       "    <tr>\n",
       "      <th>23</th>\n",
       "      <td>0.000000</td>\n",
       "      <td>1.000000</td>\n",
       "    </tr>\n",
       "    <tr>\n",
       "      <th>24</th>\n",
       "      <td>0.000000</td>\n",
       "      <td>1.000000</td>\n",
       "    </tr>\n",
       "    <tr>\n",
       "      <th>25</th>\n",
       "      <td>0.000000</td>\n",
       "      <td>1.000000</td>\n",
       "    </tr>\n",
       "    <tr>\n",
       "      <th>26</th>\n",
       "      <td>0.666667</td>\n",
       "      <td>0.333333</td>\n",
       "    </tr>\n",
       "    <tr>\n",
       "      <th>27</th>\n",
       "      <td>0.000000</td>\n",
       "      <td>1.000000</td>\n",
       "    </tr>\n",
       "    <tr>\n",
       "      <th>28</th>\n",
       "      <td>0.333333</td>\n",
       "      <td>0.666667</td>\n",
       "    </tr>\n",
       "    <tr>\n",
       "      <th>29</th>\n",
       "      <td>1.000000</td>\n",
       "      <td>0.000000</td>\n",
       "    </tr>\n",
       "    <tr>\n",
       "      <th>...</th>\n",
       "      <td>...</td>\n",
       "      <td>...</td>\n",
       "    </tr>\n",
       "    <tr>\n",
       "      <th>3753</th>\n",
       "      <td>0.000000</td>\n",
       "      <td>1.000000</td>\n",
       "    </tr>\n",
       "    <tr>\n",
       "      <th>3754</th>\n",
       "      <td>0.333333</td>\n",
       "      <td>0.666667</td>\n",
       "    </tr>\n",
       "    <tr>\n",
       "      <th>3755</th>\n",
       "      <td>0.333333</td>\n",
       "      <td>0.666667</td>\n",
       "    </tr>\n",
       "    <tr>\n",
       "      <th>3756</th>\n",
       "      <td>0.000000</td>\n",
       "      <td>1.000000</td>\n",
       "    </tr>\n",
       "    <tr>\n",
       "      <th>3757</th>\n",
       "      <td>1.000000</td>\n",
       "      <td>0.000000</td>\n",
       "    </tr>\n",
       "    <tr>\n",
       "      <th>3758</th>\n",
       "      <td>1.000000</td>\n",
       "      <td>0.000000</td>\n",
       "    </tr>\n",
       "    <tr>\n",
       "      <th>3759</th>\n",
       "      <td>0.333333</td>\n",
       "      <td>0.666667</td>\n",
       "    </tr>\n",
       "    <tr>\n",
       "      <th>3760</th>\n",
       "      <td>0.666667</td>\n",
       "      <td>0.333333</td>\n",
       "    </tr>\n",
       "    <tr>\n",
       "      <th>3761</th>\n",
       "      <td>0.333333</td>\n",
       "      <td>0.666667</td>\n",
       "    </tr>\n",
       "    <tr>\n",
       "      <th>3762</th>\n",
       "      <td>0.666667</td>\n",
       "      <td>0.333333</td>\n",
       "    </tr>\n",
       "    <tr>\n",
       "      <th>3763</th>\n",
       "      <td>0.666667</td>\n",
       "      <td>0.333333</td>\n",
       "    </tr>\n",
       "    <tr>\n",
       "      <th>3764</th>\n",
       "      <td>0.666667</td>\n",
       "      <td>0.333333</td>\n",
       "    </tr>\n",
       "    <tr>\n",
       "      <th>3765</th>\n",
       "      <td>1.000000</td>\n",
       "      <td>0.000000</td>\n",
       "    </tr>\n",
       "    <tr>\n",
       "      <th>3766</th>\n",
       "      <td>1.000000</td>\n",
       "      <td>0.000000</td>\n",
       "    </tr>\n",
       "    <tr>\n",
       "      <th>3767</th>\n",
       "      <td>0.000000</td>\n",
       "      <td>1.000000</td>\n",
       "    </tr>\n",
       "    <tr>\n",
       "      <th>3768</th>\n",
       "      <td>1.000000</td>\n",
       "      <td>0.000000</td>\n",
       "    </tr>\n",
       "    <tr>\n",
       "      <th>3769</th>\n",
       "      <td>0.333333</td>\n",
       "      <td>0.666667</td>\n",
       "    </tr>\n",
       "    <tr>\n",
       "      <th>3770</th>\n",
       "      <td>0.666667</td>\n",
       "      <td>0.333333</td>\n",
       "    </tr>\n",
       "    <tr>\n",
       "      <th>3771</th>\n",
       "      <td>0.000000</td>\n",
       "      <td>1.000000</td>\n",
       "    </tr>\n",
       "    <tr>\n",
       "      <th>3772</th>\n",
       "      <td>0.666667</td>\n",
       "      <td>0.333333</td>\n",
       "    </tr>\n",
       "    <tr>\n",
       "      <th>3773</th>\n",
       "      <td>1.000000</td>\n",
       "      <td>0.000000</td>\n",
       "    </tr>\n",
       "    <tr>\n",
       "      <th>3774</th>\n",
       "      <td>0.000000</td>\n",
       "      <td>1.000000</td>\n",
       "    </tr>\n",
       "    <tr>\n",
       "      <th>3775</th>\n",
       "      <td>1.000000</td>\n",
       "      <td>0.000000</td>\n",
       "    </tr>\n",
       "    <tr>\n",
       "      <th>3776</th>\n",
       "      <td>1.000000</td>\n",
       "      <td>0.000000</td>\n",
       "    </tr>\n",
       "    <tr>\n",
       "      <th>3777</th>\n",
       "      <td>0.000000</td>\n",
       "      <td>1.000000</td>\n",
       "    </tr>\n",
       "    <tr>\n",
       "      <th>3778</th>\n",
       "      <td>0.666667</td>\n",
       "      <td>0.333333</td>\n",
       "    </tr>\n",
       "    <tr>\n",
       "      <th>3779</th>\n",
       "      <td>0.666667</td>\n",
       "      <td>0.333333</td>\n",
       "    </tr>\n",
       "    <tr>\n",
       "      <th>3780</th>\n",
       "      <td>1.000000</td>\n",
       "      <td>0.000000</td>\n",
       "    </tr>\n",
       "    <tr>\n",
       "      <th>3781</th>\n",
       "      <td>0.000000</td>\n",
       "      <td>1.000000</td>\n",
       "    </tr>\n",
       "    <tr>\n",
       "      <th>3782</th>\n",
       "      <td>0.333333</td>\n",
       "      <td>0.666667</td>\n",
       "    </tr>\n",
       "  </tbody>\n",
       "</table>\n",
       "<p>3783 rows × 2 columns</p>\n",
       "</div>"
      ],
      "text/plain": [
       "             0         1\n",
       "0     1.000000  0.000000\n",
       "1     0.666667  0.333333\n",
       "2     1.000000  0.000000\n",
       "3     0.000000  1.000000\n",
       "4     0.333333  0.666667\n",
       "5     0.000000  1.000000\n",
       "6     0.000000  1.000000\n",
       "7     0.666667  0.333333\n",
       "8     0.666667  0.333333\n",
       "9     0.333333  0.666667\n",
       "10    0.333333  0.666667\n",
       "11    1.000000  0.000000\n",
       "12    1.000000  0.000000\n",
       "13    0.000000  1.000000\n",
       "14    1.000000  0.000000\n",
       "15    0.000000  1.000000\n",
       "16    1.000000  0.000000\n",
       "17    1.000000  0.000000\n",
       "18    1.000000  0.000000\n",
       "19    0.333333  0.666667\n",
       "20    0.333333  0.666667\n",
       "21    1.000000  0.000000\n",
       "22    0.333333  0.666667\n",
       "23    0.000000  1.000000\n",
       "24    0.000000  1.000000\n",
       "25    0.000000  1.000000\n",
       "26    0.666667  0.333333\n",
       "27    0.000000  1.000000\n",
       "28    0.333333  0.666667\n",
       "29    1.000000  0.000000\n",
       "...        ...       ...\n",
       "3753  0.000000  1.000000\n",
       "3754  0.333333  0.666667\n",
       "3755  0.333333  0.666667\n",
       "3756  0.000000  1.000000\n",
       "3757  1.000000  0.000000\n",
       "3758  1.000000  0.000000\n",
       "3759  0.333333  0.666667\n",
       "3760  0.666667  0.333333\n",
       "3761  0.333333  0.666667\n",
       "3762  0.666667  0.333333\n",
       "3763  0.666667  0.333333\n",
       "3764  0.666667  0.333333\n",
       "3765  1.000000  0.000000\n",
       "3766  1.000000  0.000000\n",
       "3767  0.000000  1.000000\n",
       "3768  1.000000  0.000000\n",
       "3769  0.333333  0.666667\n",
       "3770  0.666667  0.333333\n",
       "3771  0.000000  1.000000\n",
       "3772  0.666667  0.333333\n",
       "3773  1.000000  0.000000\n",
       "3774  0.000000  1.000000\n",
       "3775  1.000000  0.000000\n",
       "3776  1.000000  0.000000\n",
       "3777  0.000000  1.000000\n",
       "3778  0.666667  0.333333\n",
       "3779  0.666667  0.333333\n",
       "3780  1.000000  0.000000\n",
       "3781  0.000000  1.000000\n",
       "3782  0.333333  0.666667\n",
       "\n",
       "[3783 rows x 2 columns]"
      ]
     },
     "execution_count": 16,
     "metadata": {},
     "output_type": "execute_result"
    }
   ],
   "source": [
    "probabilidades = pd.DataFrame(clf.predict_proba(X_test))\n",
    "probabilidades"
   ]
  },
  {
   "cell_type": "code",
   "execution_count": 22,
   "metadata": {
    "collapsed": false,
    "deletable": true,
    "editable": true
   },
   "outputs": [
    {
     "data": {
      "text/plain": [
       "(array([  1.,   0.,   7.,   9.,   5.,  10.,  19.,  29.,  16.,   4.]),\n",
       " array([ 0.94701987,  0.95231788,  0.95761589,  0.96291391,  0.96821192,\n",
       "         0.97350993,  0.97880795,  0.98410596,  0.98940397,  0.99470199,  1.        ]),\n",
       " <a list of 10 Patch objects>)"
      ]
     },
     "execution_count": 22,
     "metadata": {},
     "output_type": "execute_result"
    },
    {
     "data": {
      "image/png": "[encoded data removed]",
      "text/plain": [
       "<matplotlib.figure.Figure at 0x7f40c73d2610>"
      ]
     },
     "metadata": {},
     "output_type": "display_data"
    }
   ],
   "source": [
    "plt.hist(cross_val_score(clf,X_norm,y,cv=100))"
   ]
  },
  {
   "cell_type": "code",
   "execution_count": 23,
   "metadata": {
    "collapsed": false,
    "deletable": true,
    "editable": true
   },
   "outputs": [
    {
     "data": {
      "text/plain": [
       "<matplotlib.text.Text at 0x7f40c2fc7f90>"
      ]
     },
     "execution_count": 23,
     "metadata": {},
     "output_type": "execute_result"
    },
    {
     "data": {
      "image/png": "[encoded data removed]",
      "text/plain": [
       "<matplotlib.figure.Figure at 0x7f40c3499f90>"
      ]
     },
     "metadata": {},
     "output_type": "display_data"
    }
   ],
   "source": [
    "import seaborn as sns\n",
    "from sklearn.metrics import confusion_matrix\n",
    "mat = confusion_matrix(y_test,clf.predict(X_test))\n",
    "dfmat = pd.DataFrame(mat,index = [\"Slow\",\"Fast\"],\n",
    "                  columns = [\"Slow\",\"Fast\"])\n",
    "sns.heatmap(dfmat,annot=True)\n",
    "plt.ylabel('True label')\n",
    "plt.xlabel('Predicted label')"
   ]
  },
  {
   "cell_type": "code",
   "execution_count": 24,
   "metadata": {
    "collapsed": false,
    "deletable": true,
    "editable": true
   },
   "outputs": [
    {
     "name": "stdout",
     "output_type": "stream",
     "text": [
      "['Slow', 'Fast']\n",
      "[ 0.99503968  0.96038483]\n",
      "[ 0.96628131  0.99414177]\n",
      "[ 0.98044966  0.97697179]\n"
     ]
    }
   ],
   "source": [
    "from sklearn.metrics import precision_score, recall_score, f1_score\n",
    "print [\"Slow\",\"Fast\"]\n",
    "print precision_score(y_test,clf.predict(X_test),average=None)\n",
    "print recall_score(y_test,clf.predict(X_test),average=None)\n",
    "print f1_score(y_test,clf.predict(X_test),average=None)"
   ]
  },
  {
   "cell_type": "code",
   "execution_count": 12,
   "metadata": {
    "collapsed": true,
    "deletable": true,
    "editable": true
   },
   "outputs": [],
   "source": [
    "# Accuracy Score according to the number of neighbors\n",
    "scores=[]\n",
    "for i in range(1,40):\n",
    "    clf = KNeighborsClassifier(n_neighbors=i)\n",
    "    scores.append(cross_val_score(clf,X,y,cv=3))"
   ]
  },
  {
   "cell_type": "code",
   "execution_count": 13,
   "metadata": {
    "collapsed": false,
    "deletable": true,
    "editable": true
   },
   "outputs": [
    {
     "data": {
      "image/png": "[encoded data removed]",
      "text/plain": [
       "<matplotlib.figure.Figure at 0x7f6ebc8ea890>"
      ]
     },
     "metadata": {},
     "output_type": "display_data"
    }
   ],
   "source": [
    "plt.figure(figsize=(10,10))\n",
    "plt.plot(scores)\n",
    "plt.show()"
   ]
  },
  {
   "cell_type": "code",
   "execution_count": 14,
   "metadata": {
    "collapsed": false,
    "deletable": true,
    "editable": true
   },
   "outputs": [
    {
     "name": "stdout",
     "output_type": "stream",
     "text": [
      "{'n_neighbors': 2}\n"
     ]
    }
   ],
   "source": [
    "from sklearn.model_selection import GridSearchCV\n",
    "nclf = KNeighborsClassifier()\n",
    "clf = GridSearchCV(nclf,param_grid={\"n_neighbors\":range(1,50)},scoring='precision')\n",
    "clf.fit(X,y)\n",
    "print clf.best_params_"
   ]
  },
  {
   "cell_type": "markdown",
   "metadata": {
    "collapsed": true,
    "deletable": true,
    "editable": true
   },
   "source": [
    "# Support Vector Machines"
   ]
  },
  {
   "cell_type": "code",
   "execution_count": 36,
   "metadata": {
    "collapsed": false,
    "deletable": true,
    "editable": true
   },
   "outputs": [
    {
     "data": {
      "text/plain": [
       "SVC(C=1.0, cache_size=200, class_weight=None, coef0=0.0,\n",
       "  decision_function_shape=None, degree=3, gamma='auto', kernel='rbf',\n",
       "  max_iter=-1, probability=False, random_state=None, shrinking=True,\n",
       "  tol=0.001, verbose=False)"
      ]
     },
     "execution_count": 36,
     "metadata": {},
     "output_type": "execute_result"
    }
   ],
   "source": [
    "from sklearn.svm import SVC\n",
    "clf = SVC()\n",
    "clf.fit(X_norm, y)"
   ]
  },
  {
   "cell_type": "code",
   "execution_count": 37,
   "metadata": {
    "collapsed": false,
    "deletable": true,
    "editable": true
   },
   "outputs": [
    {
     "name": "stdout",
     "output_type": "stream",
     "text": [
      "1.0\n"
     ]
    }
   ],
   "source": [
    "X_train, X_test, y_train, y_test = train_test_split(X_norm,y)\n",
    "clf = SVC(kernel='linear')\n",
    "clf.fit(X_train,y_train)\n",
    "print accuracy_score(y_test,clf.predict(X_test))"
   ]
  },
  {
   "cell_type": "code",
   "execution_count": 38,
   "metadata": {
    "collapsed": false,
    "deletable": true,
    "editable": true
   },
   "outputs": [
    {
     "data": {
      "text/plain": [
       "array([ 1.,  1.,  1.,  1.,  1.,  1.,  1.,  1.,  1.,  1.,  1.,  1.,  1.,\n",
       "        1.,  1.])"
      ]
     },
     "execution_count": 38,
     "metadata": {},
     "output_type": "execute_result"
    }
   ],
   "source": [
    "cross_val_score(clf,X_norm,y,cv=15)"
   ]
  },
  {
   "cell_type": "code",
   "execution_count": 40,
   "metadata": {
    "collapsed": false,
    "deletable": true,
    "editable": true
   },
   "outputs": [
    {
     "name": "stdout",
     "output_type": "stream",
     "text": [
      "[ 1.  1.  1.  1.  1.  1.  1.  1.  1.  1.  1.  1.  1.  1.  1.  1.  1.  1.\n",
      "  1.  1.  1.  1.  1.  1.  1.  1.  1.  1.  1.  1.]\n",
      "1.0\n"
     ]
    }
   ],
   "source": [
    "# Kernel rbf\n",
    "print cross_val_score(clf,X_norm,y,cv=30)\n",
    "print cross_val_score(clf,X_norm,y,cv=30).mean()"
   ]
  },
  {
   "cell_type": "markdown",
   "metadata": {
    "deletable": true,
    "editable": true
   },
   "source": [
    "# Decision tree"
   ]
  },
  {
   "cell_type": "code",
   "execution_count": 42,
   "metadata": {
    "collapsed": false,
    "deletable": true,
    "editable": true
   },
   "outputs": [
    {
     "data": {
      "text/plain": [
       "DecisionTreeClassifier(class_weight=None, criterion='gini', max_depth=None,\n",
       "            max_features=None, max_leaf_nodes=None,\n",
       "            min_impurity_split=1e-07, min_samples_leaf=1,\n",
       "            min_samples_split=2, min_weight_fraction_leaf=0.0,\n",
       "            presort=False, random_state=None, splitter='best')"
      ]
     },
     "execution_count": 42,
     "metadata": {},
     "output_type": "execute_result"
    }
   ],
   "source": [
    "from sklearn import tree\n",
    "\n",
    "clf = tree.DecisionTreeClassifier()\n",
    "clf.fit(X_norm, y)"
   ]
  },
  {
   "cell_type": "code",
   "execution_count": 43,
   "metadata": {
    "collapsed": false,
    "deletable": true,
    "editable": true
   },
   "outputs": [
    {
     "name": "stdout",
     "output_type": "stream",
     "text": [
      "1.0\n"
     ]
    }
   ],
   "source": [
    "X_train, X_test, y_train, y_test = train_test_split(X_norm,y)\n",
    "clf = tree.DecisionTreeClassifier()\n",
    "clf.fit(X_train,y_train)\n",
    "print accuracy_score(y_test,clf.predict(X_test))"
   ]
  },
  {
   "cell_type": "code",
   "execution_count": 44,
   "metadata": {
    "collapsed": false,
    "deletable": true,
    "editable": true
   },
   "outputs": [
    {
     "data": {
      "text/plain": [
       "array([ 1.,  1.,  1.,  1.,  1.,  1.,  1.,  1.,  1.,  1.,  1.,  1.,  1.,\n",
       "        1.,  1.])"
      ]
     },
     "execution_count": 44,
     "metadata": {},
     "output_type": "execute_result"
    }
   ],
   "source": [
    "cross_val_score(clf,X_norm,y,cv=15)"
   ]
  },
  {
   "cell_type": "code",
   "execution_count": 62,
   "metadata": {
    "collapsed": false,
    "deletable": true,
    "editable": true
   },
   "outputs": [
    {
     "data": {
      "text/plain": [
       "1.0"
      ]
     },
     "execution_count": 62,
     "metadata": {},
     "output_type": "execute_result"
    }
   ],
   "source": [
    "accuracy_score(y_test,clf.predict(X_test))"
   ]
  },
  {
   "cell_type": "markdown",
   "metadata": {
    "collapsed": true,
    "deletable": true,
    "editable": true
   },
   "source": [
    "#  Random forest"
   ]
  },
  {
   "cell_type": "code",
   "execution_count": 15,
   "metadata": {
    "collapsed": false,
    "deletable": true,
    "editable": true
   },
   "outputs": [
    {
     "data": {
      "text/plain": [
       "RandomForestClassifier(bootstrap=True, class_weight=None, criterion='gini',\n",
       "            max_depth=None, max_features='auto', max_leaf_nodes=None,\n",
       "            min_impurity_split=1e-07, min_samples_leaf=1,\n",
       "            min_samples_split=2, min_weight_fraction_leaf=0.0,\n",
       "            n_estimators=10, n_jobs=1, oob_score=True, random_state=42,\n",
       "            verbose=0, warm_start=False)"
      ]
     },
     "execution_count": 15,
     "metadata": {},
     "output_type": "execute_result"
    }
   ],
   "source": [
    "from sklearn.ensemble import RandomForestClassifier\n",
    "clf = RandomForestClassifier(oob_score=True, random_state=42)\n",
    "clf.fit(X_norm,y)"
   ]
  },
  {
   "cell_type": "code",
   "execution_count": 7,
   "metadata": {
    "collapsed": false,
    "deletable": true,
    "editable": true
   },
   "outputs": [
    {
     "data": {
      "text/plain": [
       "0.96900198281559813"
      ]
     },
     "execution_count": 7,
     "metadata": {},
     "output_type": "execute_result"
    }
   ],
   "source": [
    "clf.oob_score_"
   ]
  },
  {
   "cell_type": "code",
   "execution_count": 16,
   "metadata": {
    "collapsed": false,
    "deletable": true,
    "editable": true
   },
   "outputs": [
    {
     "name": "stdout",
     "output_type": "stream",
     "text": [
      "[ 0.00345845  0.00454368  0.00493741  0.00457871  0.00435105  0.00526978\n",
      "  0.00584126  0.00737535  0.19573784  0.05053247  0.0047567   0.00313365\n",
      "  0.00223392  0.07612821  0.00193093  0.23324368  0.38701761  0.0049293 ]\n",
      "Index([u'sesiones', u'visualizaciones', u'visualizacionesUnicas',\n",
      "       u'duracionMediaSesion', u'visualizacionesPorSesion',\n",
      "       u'visualizacionesUnicasPorSesion', u'avgTimePage1', u'avgTimePage2',\n",
      "       u'avgTimePage3', u'avgTimeInTheProcess', u'avgTimeOutOfTheProcess',\n",
      "       u'visitsToTheProcess', u'uniqueVisitsToTheProcess', u'visitsPage2',\n",
      "       u'uniqueVisitsPage2', u'visitsPage3', u'uniqueVisitsPage3', u'Errores'],\n",
      "      dtype='object')\n"
     ]
    }
   ],
   "source": [
    "print clf.feature_importances_\n",
    "print (dd[dd.columns[2:20]]).columns"
   ]
  },
  {
   "cell_type": "code",
   "execution_count": 17,
   "metadata": {
    "collapsed": false,
    "deletable": true,
    "editable": true
   },
   "outputs": [
    {
     "data": {
      "text/plain": [
       "<Container object of 18 artists>"
      ]
     },
     "execution_count": 17,
     "metadata": {},
     "output_type": "execute_result"
    },
    {
     "data": {
      "image/png": "[encoded data removed]",
      "text/plain": [
       "<matplotlib.figure.Figure at 0x7f0d21585390>"
      ]
     },
     "metadata": {},
     "output_type": "display_data"
    }
   ],
   "source": [
    "import matplotlib.pyplot as plt\n",
    "%matplotlib inline\n",
    "plt.bar(range(len(clf.feature_importances_)),clf.feature_importances_)"
   ]
  },
  {
   "cell_type": "code",
   "execution_count": 16,
   "metadata": {
    "collapsed": false,
    "deletable": true,
    "editable": true
   },
   "outputs": [
    {
     "data": {
      "text/plain": [
       "Index([u'ID', u'Profundidad', u'sesiones', u'visualizaciones',\n",
       "       u'visualizacionesUnicas', u'duracionMediaSesion',\n",
       "       u'visualizacionesPorSesion', u'visualizacionesUnicasPorSesion',\n",
       "       u'avgTimePage1', u'avgTimePage2', u'avgTimePage3',\n",
       "       u'avgTimeInTheProcess', u'avgTimeOutOfTheProcess',\n",
       "       u'visitsToTheProcess', u'uniqueVisitsToTheProcess', u'visitsPage2',\n",
       "       u'uniqueVisitsPage2', u'visitsPage3', u'uniqueVisitsPage3', u'Y'],\n",
       "      dtype='object')"
      ]
     },
     "execution_count": 16,
     "metadata": {},
     "output_type": "execute_result"
    }
   ],
   "source": [
    "dd.columns"
   ]
  },
  {
   "cell_type": "code",
   "execution_count": 31,
   "metadata": {
    "collapsed": false,
    "deletable": true,
    "editable": true
   },
   "outputs": [
    {
     "name": "stdout",
     "output_type": "stream",
     "text": [
      "RandomForestClassifier(bootstrap=True, class_weight=None, criterion='gini',\n",
      "            max_depth=None, max_features='auto', max_leaf_nodes=None,\n",
      "            min_impurity_split=1e-07, min_samples_leaf=1,\n",
      "            min_samples_split=2, min_weight_fraction_leaf=0.0,\n",
      "            n_estimators=10, n_jobs=1, oob_score=True, random_state=42,\n",
      "            verbose=0, warm_start=False)\n",
      "1.0\n"
     ]
    }
   ],
   "source": [
    "X_train, X_test, y_train, y_test = train_test_split(X_norm,y)\n",
    "clf = RandomForestClassifier(oob_score=True, random_state=42)\n",
    "print clf.fit(X_train,y_train)\n",
    "print accuracy_score(y_test,clf.predict(X_test))"
   ]
  },
  {
   "cell_type": "code",
   "execution_count": 33,
   "metadata": {
    "collapsed": false,
    "deletable": true,
    "editable": true
   },
   "outputs": [
    {
     "name": "stdout",
     "output_type": "stream",
     "text": [
      "[ 1.  1.  1.  1.  1.  1.  1.  1.  1.  1.  1.  1.  1.  1.  1.  1.  1.  1.\n",
      "  1.  1.  1.  1.  1.  1.  1.  1.  1.  1.  1.  1.]\n",
      "1.0\n"
     ]
    }
   ],
   "source": [
    "print cross_val_score(clf,X_norm,y,cv=30)\n",
    "print cross_val_score(clf,X_norm,y,cv=30).mean()"
   ]
  },
  {
   "cell_type": "code",
   "execution_count": 35,
   "metadata": {
    "collapsed": false,
    "deletable": true,
    "editable": true
   },
   "outputs": [
    {
     "data": {
      "text/plain": [
       "(array([   0.,    0.,    0.,    0.,    0.,  100.,    0.,    0.,    0.,    0.]),\n",
       " array([ 0.5,  0.6,  0.7,  0.8,  0.9,  1. ,  1.1,  1.2,  1.3,  1.4,  1.5]),\n",
       " <a list of 10 Patch objects>)"
      ]
     },
     "execution_count": 35,
     "metadata": {},
     "output_type": "execute_result"
    },
    {
     "data": {
      "image/png": "[encoded data removed]",
      "text/plain": [
       "<matplotlib.figure.Figure at 0x7f40c73d2fd0>"
      ]
     },
     "metadata": {},
     "output_type": "display_data"
    }
   ],
   "source": [
    "plt.hist(cross_val_score(clf,X_norm,y,cv=100))"
   ]
  },
  {
   "cell_type": "code",
   "execution_count": null,
   "metadata": {
    "collapsed": true,
    "deletable": true,
    "editable": true
   },
   "outputs": [],
   "source": []
  }
 ],
 "metadata": {
  "kernelspec": {
   "display_name": "Python 2",
   "language": "python",
   "name": "python2"
  },
  "language_info": {
   "codemirror_mode": {
    "name": "ipython",
    "version": 2
   },
   "file_extension": ".py",
   "mimetype": "text/x-python",
   "name": "python",
   "nbconvert_exporter": "python",
   "pygments_lexer": "ipython2",
   "version": "2.7.13"
  }
 },
 "nbformat": 4,
 "nbformat_minor": 2
}
