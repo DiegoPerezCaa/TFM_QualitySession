{
 "cells": [
  {
   "cell_type": "markdown",
   "metadata": {
    "deletable": true,
    "editable": true
   },
   "source": [
    "En este notebook resumiré en una única celda todo lo hecho en la prueba 3 donde creabamos el dataframe que vamos a emplear en este notebook. \n",
    "\n",
    "Y a continuación probaremos todos los algóritmos de machinelearning aprendidos para ver cuál es el que mejor se adapta a nuestros datos.\n",
    "Es probable que también usemos técnicas de reducción de dimensionalidad así como de visualización."
   ]
  },
  {
   "cell_type": "code",
   "execution_count": 1,
   "metadata": {
    "collapsed": false,
    "deletable": true,
    "editable": true
   },
   "outputs": [],
   "source": [
    "import pandas as pd\n",
    "dd = pd.read_csv('../../Archivos_tfm/dataTesting/usuarios_DD_1809a1110.csv')\n",
    "dd.columns = ['ID','Usuarios'] # Cambiamos el nombre de la columna.\n",
    "dd.drop('Usuarios',1, inplace=True) # Eliminamos la columna usuarios, ya que no la vamos a necesitar.\n",
    "\n",
    "profundidad = pd.read_csv('../../Archivos_tfm/dataTesting/profundidad.csv', index_col=0)\n",
    "profundidad.drop('page', 1, inplace=True)\n",
    "profundidad.drop('neutral_metric', 1, inplace=True)# Eliminamos esas columnas que no necesitamos\n",
    "def countUsers(lista): # Definimos la función que cálcula la profundidad.\n",
    "    \"\"\"\n",
    "    method para contar veces que aparece un usuario\n",
    "    inputs:\n",
    "        *lista: lista de usuarios\n",
    "    output: diccionario de {'ID usuario':profundidad en el proceso}\n",
    "    \"\"\"\n",
    "    hist = {} # Creamos un diccionario vacío\n",
    "    for user in lista:\n",
    "        if user in hist:\n",
    "            hist[user] += 1\n",
    "        else:\n",
    "            hist[user] = 1\n",
    "    return hist\n",
    "dict_user = countUsers(profundidad['ID']) # aplicamos la función a nuestra lista de usuarios\n",
    "profundidad = pd.DataFrame(dict_user.items(), columns=['ID','Profundidad']) # Diccionario a dataframe\n",
    "dd = pd.merge(dd,profundidad, on = 'ID') # UNIMOS TABLAS\n",
    "\n",
    "navigation_data = pd.read_csv('../../Archivos_tfm/dataTesting/usersFeatures_1809a1110.csv') #\n",
    "navigation_data.columns = ['ID','sesiones','visualizaciones','visualizacionesUnicas','duracionMediaSesion']\n",
    "dd = pd.merge(dd, navigation_data, on = 'ID') # Añadimos datos de navegación generales\n",
    "\n",
    "# Cálculo de características básicas\n",
    "dd['visualizacionesPorSesion'] = (dd['visualizaciones']/dd['sesiones']) # New feature\n",
    "dd['visualizacionesUnicasPorSesion'] = (dd['visualizacionesUnicas']/dd['sesiones']) # New feature\n",
    "\n",
    "# Cuatro características más\n",
    "timepage1 = pd.read_csv('../../Archivos_tfm/dataTesting/Tiempo1_1809a1110.csv')\n",
    "timepage1.columns = ['ID','avgTimePage1']\n",
    "timepage2 = pd.read_csv('../../Archivos_tfm/dataTesting/Tiempo2_1809a1110.csv')\n",
    "timepage2.columns = ['ID','avgTimePage2']\n",
    "timepage3 = pd.read_csv('../../Archivos_tfm/dataTesting/Tiempo3_1809a1110.csv')\n",
    "timepage3.columns = ['ID','avgTimePage3']\n",
    "# UNIMOS TABLAS\n",
    "dd = pd.merge(dd, timepage1, how='left', on='ID')\n",
    "dd = pd.merge(dd, timepage2, how='left', on='ID')\n",
    "dd = pd.merge(dd, timepage3, how='left', on='ID')\n",
    "\n",
    "# No queremos tener en cuenta los usuarios cuyo tiempo en la primera página es NaN.\n",
    "dd = dd[dd['avgTimePage1'].notnull()]\n",
    "\n",
    "# Añadimos una columna más que sea la suma de las tres anteriores.\n",
    "# Obtenemos por tanto el tiempo medio que cada usuario a empleado en el proceso.\n",
    "dd = dd.fillna(0) # Para poder sumar debemos sustituir los NaNs por cero.\n",
    "dd['avgTimeInTheProcess'] = dd['avgTimePage1'] + dd['avgTimePage2'] + dd['avgTimePage3']\n",
    "\n",
    "# Y otra columa que sea el tiempo que está fuera del proceso\n",
    "dd['avgTimeOutOfTheProcess'] = dd['duracionMediaSesion'] - dd['avgTimeInTheProcess']\n",
    "\n",
    "# Añadimos un par de columnas más con datos de visitas a la primera, segunda y tercera página del proceso.\n",
    "processViews = (pd.read_csv('../../Archivos_tfm/dataTesting/visualizacionespantallasproceso_1809a1110.csv',\n",
    "                            index_col=0))\n",
    "dd = (pd.merge(dd, processViews[processViews['page']=='page1'].drop('page',1).\n",
    "         rename(columns = {'PageProcessViews':'visitsToTheProcess',\n",
    "                           'uniquePageProcessViews':'uniqueVisitsToTheProcess'}),\n",
    "                            how='left', on = 'ID')) # visitas página uno\n",
    "dd = (pd.merge(dd, processViews[processViews['page']=='page2'].drop('page',1).\n",
    "         rename(columns = {'PageProcessViews':'visitsPage2',\n",
    "                           'uniquePageProcessViews':'uniqueVisitsPage2'}),\n",
    "                            how='left', on = 'ID')) # visitas página dos\n",
    "dd = (pd.merge(dd, processViews[processViews['page']=='page3'].drop('page',1).\n",
    "               rename(columns = {'PageProcessViews':'visitsPage3',\n",
    "                                 'uniquePageProcessViews':'uniqueVisitsPage3'}), how='left', on = 'ID'))\n",
    "dd = dd.fillna(0)"
   ]
  },
  {
   "cell_type": "code",
   "execution_count": 2,
   "metadata": {
    "collapsed": true,
    "deletable": true,
    "editable": true
   },
   "outputs": [],
   "source": [
    "# ETIQUETAS\n",
    "dd['Y'] = dd['Profundidad']\n",
    "dd['Y'] = (dd['Y'].replace(to_replace=[4,3,2,1],\n",
    "           value=[1,0,0,0]))"
   ]
  },
  {
   "cell_type": "code",
   "execution_count": 3,
   "metadata": {
    "collapsed": false,
    "deletable": true,
    "editable": true,
    "scrolled": true
   },
   "outputs": [
    {
     "data": {
      "text/html": [
       "<div>\n",
       "<style>\n",
       "    .dataframe thead tr:only-child th {\n",
       "        text-align: right;\n",
       "    }\n",
       "\n",
       "    .dataframe thead th {\n",
       "        text-align: left;\n",
       "    }\n",
       "\n",
       "    .dataframe tbody tr th {\n",
       "        vertical-align: top;\n",
       "    }\n",
       "</style>\n",
       "<table border=\"1\" class=\"dataframe\">\n",
       "  <thead>\n",
       "    <tr style=\"text-align: right;\">\n",
       "      <th></th>\n",
       "      <th>ID</th>\n",
       "      <th>Profundidad</th>\n",
       "      <th>sesiones</th>\n",
       "      <th>visualizaciones</th>\n",
       "      <th>visualizacionesUnicas</th>\n",
       "      <th>duracionMediaSesion</th>\n",
       "      <th>visualizacionesPorSesion</th>\n",
       "      <th>visualizacionesUnicasPorSesion</th>\n",
       "      <th>avgTimePage1</th>\n",
       "      <th>avgTimePage2</th>\n",
       "      <th>avgTimePage3</th>\n",
       "      <th>avgTimeInTheProcess</th>\n",
       "      <th>avgTimeOutOfTheProcess</th>\n",
       "      <th>visitsToTheProcess</th>\n",
       "      <th>uniqueVisitsToTheProcess</th>\n",
       "      <th>visitsPage2</th>\n",
       "      <th>uniqueVisitsPage2</th>\n",
       "      <th>visitsPage3</th>\n",
       "      <th>uniqueVisitsPage3</th>\n",
       "      <th>Y</th>\n",
       "    </tr>\n",
       "  </thead>\n",
       "  <tbody>\n",
       "    <tr>\n",
       "      <th>0</th>\n",
       "      <td>F10001681</td>\n",
       "      <td>1</td>\n",
       "      <td>3</td>\n",
       "      <td>53</td>\n",
       "      <td>16</td>\n",
       "      <td>1246.333333</td>\n",
       "      <td>17.666667</td>\n",
       "      <td>5.333333</td>\n",
       "      <td>10.0</td>\n",
       "      <td>0.000000</td>\n",
       "      <td>0.0</td>\n",
       "      <td>10.000000</td>\n",
       "      <td>1236.333333</td>\n",
       "      <td>1</td>\n",
       "      <td>1</td>\n",
       "      <td>0.0</td>\n",
       "      <td>0.0</td>\n",
       "      <td>0.0</td>\n",
       "      <td>0.0</td>\n",
       "      <td>0</td>\n",
       "    </tr>\n",
       "    <tr>\n",
       "      <th>1</th>\n",
       "      <td>F10004567</td>\n",
       "      <td>1</td>\n",
       "      <td>111</td>\n",
       "      <td>1419</td>\n",
       "      <td>409</td>\n",
       "      <td>167.756757</td>\n",
       "      <td>12.783784</td>\n",
       "      <td>3.684685</td>\n",
       "      <td>3.0</td>\n",
       "      <td>0.000000</td>\n",
       "      <td>0.0</td>\n",
       "      <td>3.000000</td>\n",
       "      <td>164.756757</td>\n",
       "      <td>1</td>\n",
       "      <td>1</td>\n",
       "      <td>0.0</td>\n",
       "      <td>0.0</td>\n",
       "      <td>0.0</td>\n",
       "      <td>0.0</td>\n",
       "      <td>0</td>\n",
       "    </tr>\n",
       "    <tr>\n",
       "      <th>2</th>\n",
       "      <td>F10007287</td>\n",
       "      <td>4</td>\n",
       "      <td>68</td>\n",
       "      <td>935</td>\n",
       "      <td>301</td>\n",
       "      <td>155.485294</td>\n",
       "      <td>13.750000</td>\n",
       "      <td>4.426471</td>\n",
       "      <td>8.8</td>\n",
       "      <td>7.333333</td>\n",
       "      <td>0.0</td>\n",
       "      <td>16.133333</td>\n",
       "      <td>139.351961</td>\n",
       "      <td>10</td>\n",
       "      <td>6</td>\n",
       "      <td>4.0</td>\n",
       "      <td>3.0</td>\n",
       "      <td>2.0</td>\n",
       "      <td>1.0</td>\n",
       "      <td>1</td>\n",
       "    </tr>\n",
       "    <tr>\n",
       "      <th>3</th>\n",
       "      <td>F10019099</td>\n",
       "      <td>4</td>\n",
       "      <td>10</td>\n",
       "      <td>111</td>\n",
       "      <td>48</td>\n",
       "      <td>112.500000</td>\n",
       "      <td>11.100000</td>\n",
       "      <td>4.800000</td>\n",
       "      <td>18.0</td>\n",
       "      <td>5.000000</td>\n",
       "      <td>16.0</td>\n",
       "      <td>39.000000</td>\n",
       "      <td>73.500000</td>\n",
       "      <td>1</td>\n",
       "      <td>1</td>\n",
       "      <td>1.0</td>\n",
       "      <td>1.0</td>\n",
       "      <td>1.0</td>\n",
       "      <td>1.0</td>\n",
       "      <td>1</td>\n",
       "    </tr>\n",
       "    <tr>\n",
       "      <th>4</th>\n",
       "      <td>F10020552</td>\n",
       "      <td>1</td>\n",
       "      <td>3</td>\n",
       "      <td>48</td>\n",
       "      <td>15</td>\n",
       "      <td>140.333333</td>\n",
       "      <td>16.000000</td>\n",
       "      <td>5.000000</td>\n",
       "      <td>14.0</td>\n",
       "      <td>0.000000</td>\n",
       "      <td>0.0</td>\n",
       "      <td>14.000000</td>\n",
       "      <td>126.333333</td>\n",
       "      <td>1</td>\n",
       "      <td>1</td>\n",
       "      <td>0.0</td>\n",
       "      <td>0.0</td>\n",
       "      <td>0.0</td>\n",
       "      <td>0.0</td>\n",
       "      <td>0</td>\n",
       "    </tr>\n",
       "  </tbody>\n",
       "</table>\n",
       "</div>"
      ],
      "text/plain": [
       "          ID  Profundidad  sesiones  visualizaciones  visualizacionesUnicas  \\\n",
       "0  F10001681            1         3               53                     16   \n",
       "1  F10004567            1       111             1419                    409   \n",
       "2  F10007287            4        68              935                    301   \n",
       "3  F10019099            4        10              111                     48   \n",
       "4  F10020552            1         3               48                     15   \n",
       "\n",
       "   duracionMediaSesion  visualizacionesPorSesion  \\\n",
       "0          1246.333333                 17.666667   \n",
       "1           167.756757                 12.783784   \n",
       "2           155.485294                 13.750000   \n",
       "3           112.500000                 11.100000   \n",
       "4           140.333333                 16.000000   \n",
       "\n",
       "   visualizacionesUnicasPorSesion  avgTimePage1  avgTimePage2  avgTimePage3  \\\n",
       "0                        5.333333          10.0      0.000000           0.0   \n",
       "1                        3.684685           3.0      0.000000           0.0   \n",
       "2                        4.426471           8.8      7.333333           0.0   \n",
       "3                        4.800000          18.0      5.000000          16.0   \n",
       "4                        5.000000          14.0      0.000000           0.0   \n",
       "\n",
       "   avgTimeInTheProcess  avgTimeOutOfTheProcess  visitsToTheProcess  \\\n",
       "0            10.000000             1236.333333                   1   \n",
       "1             3.000000              164.756757                   1   \n",
       "2            16.133333              139.351961                  10   \n",
       "3            39.000000               73.500000                   1   \n",
       "4            14.000000              126.333333                   1   \n",
       "\n",
       "   uniqueVisitsToTheProcess  visitsPage2  uniqueVisitsPage2  visitsPage3  \\\n",
       "0                         1          0.0                0.0          0.0   \n",
       "1                         1          0.0                0.0          0.0   \n",
       "2                         6          4.0                3.0          2.0   \n",
       "3                         1          1.0                1.0          1.0   \n",
       "4                         1          0.0                0.0          0.0   \n",
       "\n",
       "   uniqueVisitsPage3  Y  \n",
       "0                0.0  0  \n",
       "1                0.0  0  \n",
       "2                1.0  1  \n",
       "3                1.0  1  \n",
       "4                0.0  0  "
      ]
     },
     "execution_count": 3,
     "metadata": {},
     "output_type": "execute_result"
    }
   ],
   "source": [
    "dd.head(5)"
   ]
  },
  {
   "cell_type": "markdown",
   "metadata": {
    "deletable": true,
    "editable": true
   },
   "source": [
    "# Reducción de dimensionalidad\n",
    "\n",
    "## TSNE"
   ]
  },
  {
   "cell_type": "code",
   "execution_count": 4,
   "metadata": {
    "collapsed": true,
    "deletable": true,
    "editable": true
   },
   "outputs": [],
   "source": [
    "from sklearn.manifold import TSNE"
   ]
  },
  {
   "cell_type": "code",
   "execution_count": 5,
   "metadata": {
    "collapsed": false,
    "deletable": true,
    "editable": true
   },
   "outputs": [],
   "source": [
    "X = (dd[dd.columns[1:18]])\n",
    "X = X.sample(5000).values\n",
    "#y = dd['Y']\n",
    "model = TSNE()\n",
    "Xb = model.fit_transform(X)"
   ]
  },
  {
   "cell_type": "code",
   "execution_count": 7,
   "metadata": {
    "collapsed": false,
    "deletable": true,
    "editable": true
   },
   "outputs": [
    {
     "data": {
      "text/plain": [
       "array([[ -4.46318564,  -5.54674886],\n",
       "       [  0.4895659 ,   2.16525872],\n",
       "       [  1.58451678,  -8.41145624],\n",
       "       ..., \n",
       "       [  8.86310436,  -4.95413163],\n",
       "       [ 10.56597446,   1.61839909],\n",
       "       [ -7.61027568,  11.28791105]])"
      ]
     },
     "execution_count": 7,
     "metadata": {},
     "output_type": "execute_result"
    }
   ],
   "source": [
    "Xb"
   ]
  },
  {
   "cell_type": "code",
   "execution_count": null,
   "metadata": {
    "collapsed": true,
    "deletable": true,
    "editable": true
   },
   "outputs": [],
   "source": []
  },
  {
   "cell_type": "markdown",
   "metadata": {
    "deletable": true,
    "editable": true
   },
   "source": [
    "# Pruebas algoritmos machine learning\n",
    "\n",
    "- Primero añadimos una columna con las etiquetas\n",
    "1. K-Neighbour\n",
    "2. Support Vector Machines\n",
    "3. Decision Tree\n",
    "4. Random forest"
   ]
  },
  {
   "cell_type": "code",
   "execution_count": 3,
   "metadata": {
    "collapsed": true,
    "deletable": true,
    "editable": true
   },
   "outputs": [],
   "source": [
    "# ETIQUETAS\n",
    "dd['Y'] = dd['Profundidad']\n",
    "dd['Y'] = (dd['Y'].replace(to_replace=[4,3,2,1],\n",
    "           value=[1,0,0,0]))"
   ]
  },
  {
   "cell_type": "markdown",
   "metadata": {
    "deletable": true,
    "editable": true
   },
   "source": [
    "# 1. K-Neighbour"
   ]
  },
  {
   "cell_type": "code",
   "execution_count": 8,
   "metadata": {
    "collapsed": false,
    "deletable": true,
    "editable": true
   },
   "outputs": [
    {
     "data": {
      "text/plain": [
       "KNeighborsClassifier(algorithm='auto', leaf_size=30, metric='minkowski',\n",
       "           metric_params=None, n_jobs=1, n_neighbors=5, p=2,\n",
       "           weights='uniform')"
      ]
     },
     "execution_count": 8,
     "metadata": {},
     "output_type": "execute_result"
    }
   ],
   "source": [
    "from sklearn.neighbors import KNeighborsClassifier\n",
    "from sklearn.model_selection import train_test_split\n",
    "from sklearn.metrics import accuracy_score\n",
    "from sklearn.model_selection import cross_val_score\n",
    "import matplotlib.pyplot as plt\n",
    "%matplotlib inline\n",
    "import numpy as np\n",
    "\n",
    "X = (dd[dd.columns[1:18]].values)\n",
    "y = dd['Y']\n",
    "clf = KNeighborsClassifier()\n",
    "clf.fit(X,y)"
   ]
  },
  {
   "cell_type": "code",
   "execution_count": 9,
   "metadata": {
    "collapsed": false,
    "deletable": true,
    "editable": true
   },
   "outputs": [
    {
     "name": "stdout",
     "output_type": "stream",
     "text": [
      "KNeighborsClassifier(algorithm='auto', leaf_size=30, metric='minkowski',\n",
      "           metric_params=None, n_jobs=1, n_neighbors=3, p=2,\n",
      "           weights='uniform')\n",
      "0.838752312979\n"
     ]
    }
   ],
   "source": [
    "# Prueba con train_test_split\n",
    "X_train, X_test, y_train, y_test = train_test_split(X,y)\n",
    "clf = KNeighborsClassifier(n_neighbors=3)\n",
    "print clf.fit(X_train,y_train)\n",
    "print accuracy_score(y_test,clf.predict(X_test))"
   ]
  },
  {
   "cell_type": "code",
   "execution_count": 10,
   "metadata": {
    "collapsed": false,
    "deletable": true,
    "editable": true
   },
   "outputs": [
    {
     "name": "stdout",
     "output_type": "stream",
     "text": [
      "[ 0.83168317  0.86930693  0.85346535  0.87128713  0.83366337  0.84356436\n",
      "  0.82376238  0.88712871  0.84554455  0.87128713  0.86732673  0.86138614\n",
      "  0.83168317  0.86336634  0.84950495  0.84554455  0.85714286  0.8452381\n",
      "  0.85119048  0.8452381   0.85714286  0.83531746  0.83928571  0.86706349\n",
      "  0.84691849  0.82107356  0.85487078  0.86083499  0.83300199  0.85685885]\n",
      "0.850689421541\n"
     ]
    }
   ],
   "source": [
    "print cross_val_score(clf,X,y,cv=30)\n",
    "print cross_val_score(clf,X,y,cv=30).mean()"
   ]
  },
  {
   "cell_type": "code",
   "execution_count": 11,
   "metadata": {
    "collapsed": false,
    "deletable": true,
    "editable": true
   },
   "outputs": [
    {
     "data": {
      "text/plain": [
       "(array([  4.,   7.,   8.,  13.,  15.,  21.,  17.,   7.,   3.,   5.]),\n",
       " array([ 0.78666667,  0.79939073,  0.81211479,  0.82483885,  0.83756291,\n",
       "         0.85028698,  0.86301104,  0.8757351 ,  0.88845916,  0.90118322,\n",
       "         0.91390728]),\n",
       " <a list of 10 Patch objects>)"
      ]
     },
     "execution_count": 11,
     "metadata": {},
     "output_type": "execute_result"
    },
    {
     "data": {
      "image/png": "[encoded data removed]",
      "text/plain": [
       "<matplotlib.figure.Figure at 0x7f78d5edd950>"
      ]
     },
     "metadata": {},
     "output_type": "display_data"
    }
   ],
   "source": [
    "plt.hist(cross_val_score(clf,X,y,cv=100))"
   ]
  },
  {
   "cell_type": "code",
   "execution_count": 10,
   "metadata": {
    "collapsed": false,
    "deletable": true,
    "editable": true
   },
   "outputs": [
    {
     "data": {
      "text/plain": [
       "<matplotlib.text.Text at 0x7f6ec02a1e90>"
      ]
     },
     "execution_count": 10,
     "metadata": {},
     "output_type": "execute_result"
    },
    {
     "data": {
      "image/png": "[encoded data removed]",
      "text/plain": [
       "<matplotlib.figure.Figure at 0x7f6ec073cf10>"
      ]
     },
     "metadata": {},
     "output_type": "display_data"
    }
   ],
   "source": [
    "import seaborn as sns\n",
    "from sklearn.metrics import confusion_matrix\n",
    "mat = confusion_matrix(y_test,clf.predict(X_test))\n",
    "dfmat = pd.DataFrame(mat,index = [\"Slow\",\"Fast\"],\n",
    "                  columns = [\"Slow\",\"Fast\"])\n",
    "sns.heatmap(dfmat,annot=True)\n",
    "plt.ylabel('True label')\n",
    "plt.xlabel('Predicted label')"
   ]
  },
  {
   "cell_type": "code",
   "execution_count": 11,
   "metadata": {
    "collapsed": false,
    "deletable": true,
    "editable": true
   },
   "outputs": [
    {
     "name": "stdout",
     "output_type": "stream",
     "text": [
      "['Slow', 'Fast']\n",
      "[ 0.86101695  0.80791618]\n",
      "[ 0.84345351  0.82865672]\n",
      "[ 0.85214474  0.81815503]\n"
     ]
    }
   ],
   "source": [
    "from sklearn.metrics import precision_score, recall_score, f1_score\n",
    "print [\"Slow\",\"Fast\"]\n",
    "print precision_score(y_test,clf.predict(X_test),average=None)\n",
    "print recall_score(y_test,clf.predict(X_test),average=None)\n",
    "print f1_score(y_test,clf.predict(X_test),average=None)"
   ]
  },
  {
   "cell_type": "code",
   "execution_count": 12,
   "metadata": {
    "collapsed": true,
    "deletable": true,
    "editable": true
   },
   "outputs": [],
   "source": [
    "# Accuracy Score according to the number of neighbors\n",
    "scores=[]\n",
    "for i in range(1,40):\n",
    "    clf = KNeighborsClassifier(n_neighbors=i)\n",
    "    scores.append(cross_val_score(clf,X,y,cv=3))"
   ]
  },
  {
   "cell_type": "code",
   "execution_count": 13,
   "metadata": {
    "collapsed": false,
    "deletable": true,
    "editable": true
   },
   "outputs": [
    {
     "data": {
      "image/png": "[encoded data removed]",
      "text/plain": [
       "<matplotlib.figure.Figure at 0x7f6ebc8ea890>"
      ]
     },
     "metadata": {},
     "output_type": "display_data"
    }
   ],
   "source": [
    "plt.figure(figsize=(10,10))\n",
    "plt.plot(scores)\n",
    "plt.show()"
   ]
  },
  {
   "cell_type": "code",
   "execution_count": 14,
   "metadata": {
    "collapsed": false,
    "deletable": true,
    "editable": true
   },
   "outputs": [
    {
     "name": "stdout",
     "output_type": "stream",
     "text": [
      "{'n_neighbors': 2}\n"
     ]
    }
   ],
   "source": [
    "from sklearn.model_selection import GridSearchCV\n",
    "nclf = KNeighborsClassifier()\n",
    "clf = GridSearchCV(nclf,param_grid={\"n_neighbors\":range(1,50)},scoring='precision')\n",
    "clf.fit(X,y)\n",
    "print clf.best_params_"
   ]
  },
  {
   "cell_type": "markdown",
   "metadata": {
    "collapsed": true,
    "deletable": true,
    "editable": true
   },
   "source": [
    "# Support Vector Machines"
   ]
  },
  {
   "cell_type": "code",
   "execution_count": 46,
   "metadata": {
    "collapsed": false,
    "deletable": true,
    "editable": true
   },
   "outputs": [
    {
     "data": {
      "text/plain": [
       "SVC(C=1.0, cache_size=200, class_weight=None, coef0=0.0,\n",
       "  decision_function_shape=None, degree=3, gamma='auto', kernel='rbf',\n",
       "  max_iter=-1, probability=False, random_state=None, shrinking=True,\n",
       "  tol=0.001, verbose=False)"
      ]
     },
     "execution_count": 46,
     "metadata": {},
     "output_type": "execute_result"
    }
   ],
   "source": [
    "from sklearn.svm import SVC\n",
    "X = (dd[dd.columns[1:19]].values)\n",
    "y = dd['Y']\n",
    "clf = SVC()\n",
    "clf.fit(X, y)"
   ]
  },
  {
   "cell_type": "code",
   "execution_count": 54,
   "metadata": {
    "collapsed": false,
    "deletable": true,
    "editable": true
   },
   "outputs": [
    {
     "name": "stdout",
     "output_type": "stream",
     "text": [
      "1.0\n"
     ]
    }
   ],
   "source": [
    "X_train, X_test, y_train, y_test = train_test_split(X,y)\n",
    "clf = SVC(kernel='linear')\n",
    "clf.fit(X_train,y_train)\n",
    "print accuracy_score(y_test,clf.predict(X_test))"
   ]
  },
  {
   "cell_type": "code",
   "execution_count": 55,
   "metadata": {
    "collapsed": false,
    "deletable": true,
    "editable": true
   },
   "outputs": [
    {
     "data": {
      "text/plain": [
       "array([ 1.        ,  1.        ,  0.99900892,  1.        ,  1.        ,\n",
       "        1.        ,  1.        ,  1.        ,  1.        ,  1.        ,\n",
       "        1.        ,  1.        ,  1.        ,  1.        ,  1.        ])"
      ]
     },
     "execution_count": 55,
     "metadata": {},
     "output_type": "execute_result"
    }
   ],
   "source": [
    "cross_val_score(clf,X,y,cv=15)"
   ]
  },
  {
   "cell_type": "code",
   "execution_count": 53,
   "metadata": {
    "collapsed": false,
    "deletable": true,
    "editable": true
   },
   "outputs": [
    {
     "name": "stdout",
     "output_type": "stream",
     "text": [
      "[ 0.56039604  0.56039604  0.56237624  0.56237624  0.56237624  0.56633663\n",
      "  0.56039604  0.56039604  0.56237624  0.56039604  0.56039604  0.56237624\n",
      "  0.56039604  0.56039604  0.56039604  0.56039604  0.55952381  0.56150794\n",
      "  0.55952381  0.55952381  0.56150794  0.56150794  0.55952381  0.55952381\n",
      "  0.56063618  0.56063618  0.56063618  0.56063618  0.56063618  0.56262425]\n",
      "0.561004208132\n"
     ]
    }
   ],
   "source": [
    "# Kernel rbf\n",
    "# print cross_val_score(clf,X,y,cv=30)\n",
    "# print cross_val_score(clf,X,y,cv=30).mean()"
   ]
  },
  {
   "cell_type": "markdown",
   "metadata": {
    "deletable": true,
    "editable": true
   },
   "source": [
    "# Decision tree"
   ]
  },
  {
   "cell_type": "code",
   "execution_count": 56,
   "metadata": {
    "collapsed": false,
    "deletable": true,
    "editable": true
   },
   "outputs": [
    {
     "data": {
      "text/plain": [
       "DecisionTreeClassifier(class_weight=None, criterion='gini', max_depth=None,\n",
       "            max_features=None, max_leaf_nodes=None,\n",
       "            min_impurity_split=1e-07, min_samples_leaf=1,\n",
       "            min_samples_split=2, min_weight_fraction_leaf=0.0,\n",
       "            presort=False, random_state=None, splitter='best')"
      ]
     },
     "execution_count": 56,
     "metadata": {},
     "output_type": "execute_result"
    }
   ],
   "source": [
    "from sklearn import tree\n",
    "X = (dd[dd.columns[1:18]].values)\n",
    "y = dd['Y']\n",
    "clf = tree.DecisionTreeClassifier()\n",
    "clf.fit(X, y)"
   ]
  },
  {
   "cell_type": "code",
   "execution_count": 57,
   "metadata": {
    "collapsed": false,
    "deletable": true,
    "editable": true
   },
   "outputs": [
    {
     "name": "stdout",
     "output_type": "stream",
     "text": [
      "1.0\n"
     ]
    }
   ],
   "source": [
    "X_train, X_test, y_train, y_test = train_test_split(X,y)\n",
    "clf = tree.DecisionTreeClassifier()\n",
    "clf.fit(X_train,y_train)\n",
    "print accuracy_score(y_test,clf.predict(X_test))"
   ]
  },
  {
   "cell_type": "code",
   "execution_count": 58,
   "metadata": {
    "collapsed": false,
    "deletable": true,
    "editable": true
   },
   "outputs": [
    {
     "data": {
      "text/plain": [
       "array([ 1.,  1.,  1.,  1.,  1.,  1.,  1.,  1.,  1.,  1.,  1.,  1.,  1.,\n",
       "        1.,  1.])"
      ]
     },
     "execution_count": 58,
     "metadata": {},
     "output_type": "execute_result"
    }
   ],
   "source": [
    "cross_val_score(clf,X,y,cv=15)"
   ]
  },
  {
   "cell_type": "code",
   "execution_count": 62,
   "metadata": {
    "collapsed": false,
    "deletable": true,
    "editable": true
   },
   "outputs": [
    {
     "data": {
      "text/plain": [
       "1.0"
      ]
     },
     "execution_count": 62,
     "metadata": {},
     "output_type": "execute_result"
    }
   ],
   "source": [
    "accuracy_score(y_test,clf.predict(X_test))"
   ]
  },
  {
   "cell_type": "markdown",
   "metadata": {
    "collapsed": true,
    "deletable": true,
    "editable": true
   },
   "source": [
    "#  Random forest"
   ]
  },
  {
   "cell_type": "code",
   "execution_count": 25,
   "metadata": {
    "collapsed": false,
    "deletable": true,
    "editable": true
   },
   "outputs": [
    {
     "data": {
      "text/plain": [
       "RandomForestClassifier(bootstrap=True, class_weight=None, criterion='gini',\n",
       "            max_depth=None, max_features='auto', max_leaf_nodes=None,\n",
       "            min_impurity_split=1e-07, min_samples_leaf=1,\n",
       "            min_samples_split=2, min_weight_fraction_leaf=0.0,\n",
       "            n_estimators=10, n_jobs=1, oob_score=True, random_state=42,\n",
       "            verbose=0, warm_start=False)"
      ]
     },
     "execution_count": 25,
     "metadata": {},
     "output_type": "execute_result"
    }
   ],
   "source": [
    "#from sklearn.ensemble import RandomForestClassifier\n",
    "X = (dd[dd.columns[2:19]].values)\n",
    "y = dd['Y']\n",
    "clf = RandomForestClassifier(oob_score=True, random_state=42)\n",
    "clf.fit(X,y)"
   ]
  },
  {
   "cell_type": "code",
   "execution_count": 26,
   "metadata": {
    "collapsed": false
   },
   "outputs": [
    {
     "data": {
      "text/plain": [
       "0.96920026437541307"
      ]
     },
     "execution_count": 26,
     "metadata": {},
     "output_type": "execute_result"
    }
   ],
   "source": [
    "clf.oob_score_"
   ]
  },
  {
   "cell_type": "code",
   "execution_count": 27,
   "metadata": {
    "collapsed": false
   },
   "outputs": [
    {
     "data": {
      "text/plain": [
       "array([ 0.00349063,  0.00574146,  0.00480032,  0.00502495,  0.00543167,\n",
       "        0.0056131 ,  0.00598592,  0.14994972,  0.11872546,  0.04727915,\n",
       "        0.0047409 ,  0.00319279,  0.00182926,  0.03129701,  0.07505441,\n",
       "        0.11811543,  0.41372782])"
      ]
     },
     "execution_count": 27,
     "metadata": {},
     "output_type": "execute_result"
    }
   ],
   "source": [
    "clf.feature_importances_"
   ]
  },
  {
   "cell_type": "code",
   "execution_count": 28,
   "metadata": {
    "collapsed": false
   },
   "outputs": [
    {
     "data": {
      "text/plain": [
       "<Container object of 17 artists>"
      ]
     },
     "execution_count": 28,
     "metadata": {},
     "output_type": "execute_result"
    },
    {
     "data": {
      "image/png": "[encoded data removed]",
      "text/plain": [
       "<matplotlib.figure.Figure at 0x7f78d4d92d10>"
      ]
     },
     "metadata": {},
     "output_type": "display_data"
    }
   ],
   "source": [
    "import matplotlib.pyplot as plt\n",
    "%matplotlib inline\n",
    "plt.bar(range(len(clf.feature_importances_)),clf.feature_importances_)"
   ]
  },
  {
   "cell_type": "code",
   "execution_count": 16,
   "metadata": {
    "collapsed": false
   },
   "outputs": [
    {
     "data": {
      "text/plain": [
       "Index([u'ID', u'Profundidad', u'sesiones', u'visualizaciones',\n",
       "       u'visualizacionesUnicas', u'duracionMediaSesion',\n",
       "       u'visualizacionesPorSesion', u'visualizacionesUnicasPorSesion',\n",
       "       u'avgTimePage1', u'avgTimePage2', u'avgTimePage3',\n",
       "       u'avgTimeInTheProcess', u'avgTimeOutOfTheProcess',\n",
       "       u'visitsToTheProcess', u'uniqueVisitsToTheProcess', u'visitsPage2',\n",
       "       u'uniqueVisitsPage2', u'visitsPage3', u'uniqueVisitsPage3', u'Y'],\n",
       "      dtype='object')"
      ]
     },
     "execution_count": 16,
     "metadata": {},
     "output_type": "execute_result"
    }
   ],
   "source": [
    "dd.columns"
   ]
  },
  {
   "cell_type": "code",
   "execution_count": 30,
   "metadata": {
    "collapsed": false
   },
   "outputs": [
    {
     "name": "stdout",
     "output_type": "stream",
     "text": [
      "RandomForestClassifier(bootstrap=True, class_weight=None, criterion='gini',\n",
      "            max_depth=None, max_features='auto', max_leaf_nodes=None,\n",
      "            min_impurity_split=1e-07, min_samples_leaf=1,\n",
      "            min_samples_split=2, min_weight_fraction_leaf=0.0,\n",
      "            n_estimators=10, n_jobs=1, oob_score=True, random_state=42,\n",
      "            verbose=0, warm_start=False)\n",
      "0.982553528945\n"
     ]
    }
   ],
   "source": [
    "X_train, X_test, y_train, y_test = train_test_split(X,y)\n",
    "clf = RandomForestClassifier(oob_score=True, random_state=42)\n",
    "print clf.fit(X_train,y_train)\n",
    "print accuracy_score(y_test,clf.predict(X_test))"
   ]
  },
  {
   "cell_type": "code",
   "execution_count": 31,
   "metadata": {
    "collapsed": false
   },
   "outputs": [
    {
     "name": "stdout",
     "output_type": "stream",
     "text": [
      "[ 0.98613861  0.97623762  0.97821782  0.97623762  0.96435644  0.97029703\n",
      "  0.98217822  0.98811881  0.97821782  0.97425743  0.98217822  0.98811881\n",
      "  0.97227723  0.98613861  0.98415842  0.98811881  0.9781746   0.98015873\n",
      "  0.9702381   0.98809524  0.97619048  0.98214286  0.9781746   0.99007937\n",
      "  0.9860835   0.98011928  0.98409543  0.9860835   0.9860835   0.97614314]\n",
      "0.980570328097\n"
     ]
    }
   ],
   "source": [
    "print cross_val_score(clf,X,y,cv=30)\n",
    "print cross_val_score(clf,X,y,cv=30).mean()"
   ]
  },
  {
   "cell_type": "code",
   "execution_count": null,
   "metadata": {
    "collapsed": true
   },
   "outputs": [],
   "source": [
    "plt.hist(cross_val_score(clf,X,y,cv=100))"
   ]
  },
  {
   "cell_type": "code",
   "execution_count": null,
   "metadata": {
    "collapsed": true
   },
   "outputs": [],
   "source": []
  }
 ],
 "metadata": {
  "kernelspec": {
   "display_name": "Python 2",
   "language": "python",
   "name": "python2"
  },
  "language_info": {
   "codemirror_mode": {
    "name": "ipython",
    "version": 2
   },
   "file_extension": ".py",
   "mimetype": "text/x-python",
   "name": "python",
   "nbconvert_exporter": "python",
   "pygments_lexer": "ipython2",
   "version": "2.7.13"
  }
 },
 "nbformat": 4,
 "nbformat_minor": 2
}
