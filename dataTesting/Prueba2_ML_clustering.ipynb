{
 "cells": [
  {
   "cell_type": "markdown",
   "metadata": {
    "collapsed": true,
    "deletable": true,
    "editable": true
   },
   "source": [
    "# Nueva sesión de testing \n",
    "\n",
    "## Esta vez trataremos un csv que contiene datos de sesiones de usuarios, visualizaciones de pantalla y total de eventos.\n",
    "## Simplemente es un archivo para hacer pruebas y el objetivo será aplicar un algoritmo de aprendizaje no supervisado (clustering) para detectar sesiones atípicas.\n",
    "\n",
    "Usaremos python y más adelante repetiremos el proceso con pyspark"
   ]
  },
  {
   "cell_type": "code",
   "execution_count": 8,
   "metadata": {
    "collapsed": false,
    "deletable": true,
    "editable": true
   },
   "outputs": [],
   "source": [
    "import pandas as pd\n",
    "import matplotlib.pyplot as plt\n",
    "import matplotlib\n",
    "\n",
    "%matplotlib inline\n",
    "matplotlib.style.use(\"ggplot\")"
   ]
  },
  {
   "cell_type": "code",
   "execution_count": 14,
   "metadata": {
    "collapsed": false,
    "deletable": true,
    "editable": true
   },
   "outputs": [],
   "source": [
    "df = pd.read_csv('./screenViewsAndTotalEvents.csv', index_col=0)"
   ]
  },
  {
   "cell_type": "code",
   "execution_count": 15,
   "metadata": {
    "collapsed": false,
    "deletable": true,
    "editable": true
   },
   "outputs": [
    {
     "data": {
      "text/html": [
       "<div>\n",
       "<style>\n",
       "    .dataframe thead tr:only-child th {\n",
       "        text-align: right;\n",
       "    }\n",
       "\n",
       "    .dataframe thead th {\n",
       "        text-align: left;\n",
       "    }\n",
       "\n",
       "    .dataframe tbody tr th {\n",
       "        vertical-align: top;\n",
       "    }\n",
       "</style>\n",
       "<table border=\"1\" class=\"dataframe\">\n",
       "  <thead>\n",
       "    <tr style=\"text-align: right;\">\n",
       "      <th></th>\n",
       "      <th>Visualizaciones de pantalla</th>\n",
       "      <th>Total de eventos</th>\n",
       "    </tr>\n",
       "    <tr>\n",
       "      <th>Session Id</th>\n",
       "      <th></th>\n",
       "      <th></th>\n",
       "    </tr>\n",
       "  </thead>\n",
       "  <tbody>\n",
       "    <tr>\n",
       "      <th>1505755687157</th>\n",
       "      <td>179</td>\n",
       "      <td>178</td>\n",
       "    </tr>\n",
       "    <tr>\n",
       "      <th>1506093196536</th>\n",
       "      <td>168</td>\n",
       "      <td>126</td>\n",
       "    </tr>\n",
       "    <tr>\n",
       "      <th>1505717973545</th>\n",
       "      <td>165</td>\n",
       "      <td>165</td>\n",
       "    </tr>\n",
       "    <tr>\n",
       "      <th>1506098923333</th>\n",
       "      <td>144</td>\n",
       "      <td>29</td>\n",
       "    </tr>\n",
       "    <tr>\n",
       "      <th>1506077834275</th>\n",
       "      <td>134</td>\n",
       "      <td>106</td>\n",
       "    </tr>\n",
       "  </tbody>\n",
       "</table>\n",
       "</div>"
      ],
      "text/plain": [
       "               Visualizaciones de pantalla  Total de eventos\n",
       "Session Id                                                  \n",
       "1505755687157                          179               178\n",
       "1506093196536                          168               126\n",
       "1505717973545                          165               165\n",
       "1506098923333                          144                29\n",
       "1506077834275                          134               106"
      ]
     },
     "execution_count": 15,
     "metadata": {},
     "output_type": "execute_result"
    }
   ],
   "source": [
    "df.head()"
   ]
  },
  {
   "cell_type": "code",
   "execution_count": 16,
   "metadata": {
    "collapsed": false,
    "deletable": true,
    "editable": true
   },
   "outputs": [
    {
     "data": {
      "text/plain": [
       "<matplotlib.collections.PathCollection at 0x7f3b9cc78710>"
      ]
     },
     "execution_count": 16,
     "metadata": {},
     "output_type": "execute_result"
    },
    {
     "data": {
      "image/png": "[encoded data removed]",
      "text/plain": [
       "<matplotlib.figure.Figure at 0x7f3b9d616e90>"
      ]
     },
     "metadata": {},
     "output_type": "display_data"
    }
   ],
   "source": [
    "#ahora vamos a pintarlo. \n",
    "\n",
    "f, ax = plt.subplots(figsize = (10,5))\n",
    "plt.scatter(df['Visualizaciones de pantalla'],df['Total de eventos'])"
   ]
  },
  {
   "cell_type": "code",
   "execution_count": 21,
   "metadata": {
    "collapsed": false,
    "deletable": true,
    "editable": true
   },
   "outputs": [
    {
     "data": {
      "text/plain": [
       "<matplotlib.collections.PathCollection at 0x7f3b9a1e6a10>"
      ]
     },
     "execution_count": 21,
     "metadata": {},
     "output_type": "execute_result"
    },
    {
     "data": {
      "image/png": "[encoded data removed]",
      "text/plain": [
       "<matplotlib.figure.Figure at 0x7f3b9a2d17d0>"
      ]
     },
     "metadata": {},
     "output_type": "display_data"
    }
   ],
   "source": [
    "f, ax = plt.subplots(figsize = (10,5))\n",
    "plt.scatter(df['Visualizaciones de pantalla'],df['Total de eventos'], alpha=0.01)"
   ]
  },
  {
   "cell_type": "code",
   "execution_count": 22,
   "metadata": {
    "collapsed": false,
    "deletable": true,
    "editable": true
   },
   "outputs": [
    {
     "data": {
      "text/plain": [
       "<matplotlib.collections.PathCollection at 0x7f3b9a0ff610>"
      ]
     },
     "execution_count": 22,
     "metadata": {},
     "output_type": "execute_result"
    },
    {
     "data": {
      "image/png": "[encoded data removed]",
      "text/plain": [
       "<matplotlib.figure.Figure at 0x7f3b9a1e6990>"
      ]
     },
     "metadata": {},
     "output_type": "display_data"
    }
   ],
   "source": [
    "f, (ax1,ax2) = plt.subplots(nrows=2, sharey=True)\n",
    "\n",
    "ax1.scatter(df['Visualizaciones de pantalla'],df['Total de eventos'],alpha=0.1)\n",
    "ax2.scatter(df['Visualizaciones de pantalla'],df['Total de eventos'],alpha=0.01)"
   ]
  },
  {
   "cell_type": "code",
   "execution_count": 23,
   "metadata": {
    "collapsed": false,
    "deletable": true,
    "editable": true
   },
   "outputs": [
    {
     "data": {
      "text/plain": [
       "<seaborn.axisgrid.JointGrid at 0x7f3b91a45210>"
      ]
     },
     "execution_count": 23,
     "metadata": {},
     "output_type": "execute_result"
    },
    {
     "data": {
      "image/png": "[encoded data removed]",
      "text/plain": [
       "<matplotlib.figure.Figure at 0x7f3b91a45250>"
      ]
     },
     "metadata": {},
     "output_type": "display_data"
    }
   ],
   "source": [
    "import seaborn as sns\n",
    "\n",
    "(sns.jointplot(x=\"Visualizaciones de pantalla\",y=\"Total de eventos\",\n",
    "               data=df,kind=\"kde\",xlim=(-100,500),ylim=(-100,500)))"
   ]
  },
  {
   "cell_type": "code",
   "execution_count": 24,
   "metadata": {
    "collapsed": true,
    "deletable": true,
    "editable": true
   },
   "outputs": [],
   "source": [
    "from sklearn.cluster import KMeans"
   ]
  },
  {
   "cell_type": "code",
   "execution_count": 25,
   "metadata": {
    "collapsed": true,
    "deletable": true,
    "editable": true
   },
   "outputs": [],
   "source": [
    "kmeans = KMeans()"
   ]
  },
  {
   "cell_type": "code",
   "execution_count": 26,
   "metadata": {
    "collapsed": false,
    "deletable": true,
    "editable": true
   },
   "outputs": [
    {
     "data": {
      "text/plain": [
       "pandas.core.frame.DataFrame"
      ]
     },
     "execution_count": 26,
     "metadata": {},
     "output_type": "execute_result"
    }
   ],
   "source": [
    "type(df)"
   ]
  },
  {
   "cell_type": "code",
   "execution_count": 27,
   "metadata": {
    "collapsed": false,
    "deletable": true,
    "editable": true
   },
   "outputs": [
    {
     "data": {
      "text/plain": [
       "KMeans(algorithm='auto', copy_x=True, init='k-means++', max_iter=300,\n",
       "    n_clusters=8, n_init=10, n_jobs=1, precompute_distances='auto',\n",
       "    random_state=None, tol=0.0001, verbose=0)"
      ]
     },
     "execution_count": 27,
     "metadata": {},
     "output_type": "execute_result"
    }
   ],
   "source": [
    "kmeans.fit(df)"
   ]
  },
  {
   "cell_type": "code",
   "execution_count": 28,
   "metadata": {
    "collapsed": false,
    "deletable": true,
    "editable": true,
    "scrolled": true
   },
   "outputs": [
    {
     "data": {
      "text/plain": [
       "array([[  1.39750089,   0.23661242],\n",
       "       [ 15.9750465 ,  12.80626162],\n",
       "       [  5.93684132,   0.61164488],\n",
       "       [ 27.10901468,   7.098233  ],\n",
       "       [ 13.10928703,   2.4644106 ],\n",
       "       [  2.94581856,   2.34455903],\n",
       "       [  7.33239893,   5.85608812],\n",
       "       [ 45.70662906,  29.80535966]])"
      ]
     },
     "execution_count": 28,
     "metadata": {},
     "output_type": "execute_result"
    }
   ],
   "source": [
    "kmeans.cluster_centers_"
   ]
  },
  {
   "cell_type": "code",
   "execution_count": 29,
   "metadata": {
    "collapsed": false,
    "deletable": true,
    "editable": true
   },
   "outputs": [
    {
     "data": {
      "text/plain": [
       "<matplotlib.collections.PathCollection at 0x7f3b8b541290>"
      ]
     },
     "execution_count": 29,
     "metadata": {},
     "output_type": "execute_result"
    },
    {
     "data": {
      "image/png": "[encoded data removed]",
      "text/plain": [
       "<matplotlib.figure.Figure at 0x7f3b8c403fd0>"
      ]
     },
     "metadata": {},
     "output_type": "display_data"
    }
   ],
   "source": [
    "f, ax = plt.subplots(figsize = (10,5))\n",
    "plt.scatter(df['Visualizaciones de pantalla'],df['Total de eventos'],alpha=0.01)\n",
    "plt.scatter(*zip(*kmeans.cluster_centers_),c=\"yellow\")"
   ]
  },
  {
   "cell_type": "code",
   "execution_count": 30,
   "metadata": {
    "collapsed": true,
    "deletable": true,
    "editable": true
   },
   "outputs": [],
   "source": [
    "# Cuantos cluster elegimos?\n",
    "# Kmeans elige por defecto 8, pero podemos decidirlo nosotros"
   ]
  },
  {
   "cell_type": "code",
   "execution_count": 33,
   "metadata": {
    "collapsed": false,
    "deletable": true,
    "editable": true
   },
   "outputs": [],
   "source": [
    "ks = range (1,15)\n",
    "fits = [KMeans(n_clusters=k).fit(df) for k in ks]\n",
    "centroids = [kmeans.cluster_centers_ for kmeans in fits]"
   ]
  },
  {
   "cell_type": "code",
   "execution_count": 34,
   "metadata": {
    "collapsed": false,
    "deletable": true,
    "editable": true,
    "scrolled": true
   },
   "outputs": [
    {
     "data": {
      "text/plain": [
       "[array([[ 3.74409358,  1.46828191]]), array([[  2.6736314 ,   0.96121449],\n",
       "        [ 14.86422232,   6.73577768]]), array([[  2.10035912,   0.72401005],\n",
       "        [  8.88855805,   3.64333541],\n",
       "        [ 24.25793318,  12.00431086]]), array([[  1.75827782,   0.61200969],\n",
       "        [ 14.60690848,   6.53356687],\n",
       "        [ 33.18421053,  17.65931721],\n",
       "        [  6.43617819,   2.4130129 ]]), array([[  1.50730006,   0.45228836],\n",
       "        [ 10.13139908,   4.63218138],\n",
       "        [ 42.47951583,  24.75791434],\n",
       "        [ 20.28732394,   9.28408972],\n",
       "        [  4.87155899,   1.79505113]]), array([[  1.68695845,   0.47481955],\n",
       "        [ 12.8398818 ,   5.60644536],\n",
       "        [  4.64753911,   3.91827547],\n",
       "        [ 23.31034483,  10.96650246],\n",
       "        [  7.09114549,   0.75985687],\n",
       "        [ 46.4939759 ,  27.81659973]]), array([[  4.35491308,   2.692089  ],\n",
       "        [ 54.99193548,  34.21505376],\n",
       "        [ 10.24797844,   8.08168288],\n",
       "        [  1.61861417,   0.43188127],\n",
       "        [ 26.97688204,  15.20835803],\n",
       "        [  8.42680919,   1.05090564],\n",
       "        [ 18.13200513,   4.00291273]]), array([[  1.39750089,   0.23661242],\n",
       "        [ 13.39819714,   2.7483833 ],\n",
       "        [  6.72734725,   0.54720123],\n",
       "        [ 44.79530639,  29.12777053],\n",
       "        [ 14.7367631 ,  12.2823417 ],\n",
       "        [  6.94592643,   5.35920297],\n",
       "        [ 26.42614097,   7.33756414],\n",
       "        [  3.11124388,   1.99231335]]), array([[  7.5569108 ,   0.9255252 ],\n",
       "        [  1.39750089,   0.23661242],\n",
       "        [ 38.09404097,  23.01117318],\n",
       "        [ 14.0547634 ,   3.07113757],\n",
       "        [  7.24932897,   5.99890958],\n",
       "        [ 15.46976822,  12.85791065],\n",
       "        [ 25.70609319,   6.35454002],\n",
       "        [ 78.89473684,  56.97368421],\n",
       "        [  3.33908563,   1.85354888]]), array([[  2.80810417,   2.53481074],\n",
       "        [ 13.95219941,  11.69560117],\n",
       "        [ 13.74293178,   2.962815  ],\n",
       "        [  7.50902054,   0.92448932],\n",
       "        [ 64.84693878,  40.54591837],\n",
       "        [  1.23622863,   0.26042462],\n",
       "        [ 31.78672032,  21.1462106 ],\n",
       "        [ 24.78044829,   5.97218472],\n",
       "        [  6.87548832,   5.67999335],\n",
       "        [  3.76713632,   0.36144556]]), array([[  3.97568016,   0.32768746],\n",
       "        [ 13.3983642 ,   2.81260524],\n",
       "        [  1.23622863,   0.26042462],\n",
       "        [ 40.97538101,  18.55451348],\n",
       "        [  2.80804633,   2.5346911 ],\n",
       "        [  7.88215439,   1.02428048],\n",
       "        [ 21.68490566,  18.15896226],\n",
       "        [ 11.99805187,   9.95178376],\n",
       "        [ 67.82307692,  49.92307692],\n",
       "        [ 23.36753595,   5.51133317],\n",
       "        [  6.51775593,   5.30986539]]), array([[  1.39754622,   0.23641133],\n",
       "        [  9.36967542,   7.27510025],\n",
       "        [ 29.12162162,  24.41621622],\n",
       "        [  4.84622952,   0.50086722],\n",
       "        [ 25.70423453,   6.24104235],\n",
       "        [  2.63984387,   2.17945253],\n",
       "        [ 15.05865922,   2.92565535],\n",
       "        [ 48.85211268,  15.16431925],\n",
       "        [ 15.89636637,  12.71059987],\n",
       "        [  8.57398892,   0.98148803],\n",
       "        [ 78.16666667,  63.        ],\n",
       "        [  5.28864744,   4.41419669]]), array([[  1.23625828,   0.26020627],\n",
       "        [  5.49474376,   4.69517448],\n",
       "        [ 33.86427457,  28.32917317],\n",
       "        [ 17.43976088,   3.90833844],\n",
       "        [ 11.07026295,   2.08287608],\n",
       "        [ 28.04018265,   7.19086758],\n",
       "        [ 80.42622951,  64.        ],\n",
       "        [  3.76713632,   0.36144556],\n",
       "        [  2.59548478,   2.32472131],\n",
       "        [ 18.40461847,  15.36713521],\n",
       "        [  7.11731019,   0.74445325],\n",
       "        [ 50.56047198,  14.25368732],\n",
       "        [ 10.50937469,   8.68214391]]), array([[   1.23622863,    0.26042462],\n",
       "        [  10.99927452,    2.12050203],\n",
       "        [  26.75706941,    6.75835476],\n",
       "        [   3.6979225 ,    0.26945599],\n",
       "        [  11.12012862,    8.66353698],\n",
       "        [   2.90643058,    2.51069188],\n",
       "        [  63.37777778,   46.5037037 ],\n",
       "        [  17.24133911,    3.37375083],\n",
       "        [   6.33279807,    5.46256523],\n",
       "        [  17.00686362,   13.99373321],\n",
       "        [ 161.5       ,  143.75      ],\n",
       "        [  45.93665158,   12.37782805],\n",
       "        [   7.07164818,    0.83663247],\n",
       "        [  29.34207765,   24.62329486]])]"
      ]
     },
     "execution_count": 34,
     "metadata": {},
     "output_type": "execute_result"
    }
   ],
   "source": [
    "centroids"
   ]
  },
  {
   "cell_type": "code",
   "execution_count": 37,
   "metadata": {
    "collapsed": false,
    "deletable": true,
    "editable": true
   },
   "outputs": [],
   "source": [
    "from scipy.spatial.distance import cdist\n",
    "\n",
    "dists_centroids = [cdist(df, centers, 'euclidean') for centers in centroids]"
   ]
  },
  {
   "cell_type": "code",
   "execution_count": 38,
   "metadata": {
    "collapsed": false,
    "deletable": true,
    "editable": true
   },
   "outputs": [
    {
     "data": {
      "text/plain": [
       "[(391354, 1),\n",
       " (391354, 2),\n",
       " (391354, 3),\n",
       " (391354, 4),\n",
       " (391354, 5),\n",
       " (391354, 6),\n",
       " (391354, 7),\n",
       " (391354, 8),\n",
       " (391354, 9),\n",
       " (391354, 10),\n",
       " (391354, 11),\n",
       " (391354, 12),\n",
       " (391354, 13),\n",
       " (391354, 14)]"
      ]
     },
     "execution_count": 38,
     "metadata": {},
     "output_type": "execute_result"
    }
   ],
   "source": [
    "[x.shape for x in dists_centroids]"
   ]
  },
  {
   "cell_type": "code",
   "execution_count": 39,
   "metadata": {
    "collapsed": true,
    "deletable": true,
    "editable": true
   },
   "outputs": [],
   "source": [
    "import numpy as np"
   ]
  },
  {
   "cell_type": "code",
   "execution_count": 40,
   "metadata": {
    "collapsed": false,
    "deletable": true,
    "editable": true
   },
   "outputs": [
    {
     "data": {
      "text/plain": [
       "(391354,)"
      ]
     },
     "execution_count": 40,
     "metadata": {},
     "output_type": "execute_result"
    }
   ],
   "source": [
    "np.min(dists_centroids[2], axis=1).shape"
   ]
  },
  {
   "cell_type": "code",
   "execution_count": 41,
   "metadata": {
    "collapsed": true,
    "deletable": true,
    "editable": true
   },
   "outputs": [],
   "source": [
    "dists = [np.average(np.min(fit, axis=1)) for fit in dists_centroids]"
   ]
  },
  {
   "cell_type": "code",
   "execution_count": 42,
   "metadata": {
    "collapsed": false,
    "deletable": true,
    "editable": true
   },
   "outputs": [
    {
     "data": {
      "text/plain": [
       "[3.5064760894199996,\n",
       " 2.5572642363584031,\n",
       " 2.0853151443693978,\n",
       " 1.8274511813241716,\n",
       " 1.6557908529695551,\n",
       " 1.5465541237426046,\n",
       " 1.4766006459009715,\n",
       " 1.2621094352933229,\n",
       " 1.2797396700174748,\n",
       " 1.0816084493186855,\n",
       " 1.0590069395485155,\n",
       " 1.0634036182744306,\n",
       " 0.98727973667932079,\n",
       " 0.99477640413420632]"
      ]
     },
     "execution_count": 42,
     "metadata": {},
     "output_type": "execute_result"
    }
   ],
   "source": [
    "dists"
   ]
  },
  {
   "cell_type": "code",
   "execution_count": 43,
   "metadata": {
    "collapsed": false,
    "deletable": true,
    "editable": true
   },
   "outputs": [
    {
     "data": {
      "text/plain": [
       "[<matplotlib.lines.Line2D at 0x7f3b8b49bd90>]"
      ]
     },
     "execution_count": 43,
     "metadata": {},
     "output_type": "execute_result"
    },
    {
     "data": {
      "image/png": "[encoded data removed]",
      "text/plain": [
       "<matplotlib.figure.Figure at 0x7f3b8b5740d0>"
      ]
     },
     "metadata": {},
     "output_type": "display_data"
    }
   ],
   "source": [
    "plt.plot(ks, dists, '-*')"
   ]
  },
  {
   "cell_type": "code",
   "execution_count": 45,
   "metadata": {
    "collapsed": false,
    "deletable": true,
    "editable": true
   },
   "outputs": [
    {
     "data": {
      "text/plain": [
       "KMeans(algorithm='auto', copy_x=True, init='k-means++', max_iter=300,\n",
       "    n_clusters=5, n_init=10, n_jobs=1, precompute_distances='auto',\n",
       "    random_state=None, tol=0.0001, verbose=0)"
      ]
     },
     "execution_count": 45,
     "metadata": {},
     "output_type": "execute_result"
    }
   ],
   "source": [
    "kmeans2 = KMeans(n_clusters=5)\n",
    "kmeans2.fit(df)"
   ]
  },
  {
   "cell_type": "code",
   "execution_count": 46,
   "metadata": {
    "collapsed": false,
    "deletable": true,
    "editable": true,
    "scrolled": true
   },
   "outputs": [
    {
     "data": {
      "text/plain": [
       "<matplotlib.collections.PathCollection at 0x7f3b848119d0>"
      ]
     },
     "execution_count": 46,
     "metadata": {},
     "output_type": "execute_result"
    },
    {
     "data": {
      "image/png": "[encoded data removed]",
      "text/plain": [
       "<matplotlib.figure.Figure at 0x7f3b8b515e50>"
      ]
     },
     "metadata": {},
     "output_type": "display_data"
    }
   ],
   "source": [
    "f, ax = plt.subplots(figsize = (10,5))\n",
    "plt.scatter(df['Visualizaciones de pantalla'],df['Total de eventos'],alpha=0.01)\n",
    "plt.scatter(*zip(*kmeans2.cluster_centers_),c=\"yellow\")"
   ]
  },
  {
   "cell_type": "code",
   "execution_count": 49,
   "metadata": {
    "collapsed": false,
    "deletable": true,
    "editable": true
   },
   "outputs": [
    {
     "data": {
      "text/plain": [
       "KMeans(algorithm='auto', copy_x=True, init='k-means++', max_iter=300,\n",
       "    n_clusters=5, n_init=10, n_jobs=1, precompute_distances='auto',\n",
       "    random_state=None, tol=0.0001, verbose=0)"
      ]
     },
     "execution_count": 49,
     "metadata": {},
     "output_type": "execute_result"
    }
   ],
   "source": [
    "fits[4]"
   ]
  },
  {
   "cell_type": "code",
   "execution_count": 50,
   "metadata": {
    "collapsed": true,
    "deletable": true,
    "editable": true
   },
   "outputs": [],
   "source": [
    "model_5_clusters = fits[4]\n",
    "predictions = model_5_clusters.predict(df)"
   ]
  },
  {
   "cell_type": "code",
   "execution_count": 51,
   "metadata": {
    "collapsed": false,
    "deletable": true,
    "editable": true
   },
   "outputs": [
    {
     "data": {
      "text/plain": [
       "array([2, 2, 2, ..., 0, 0, 0], dtype=int32)"
      ]
     },
     "execution_count": 51,
     "metadata": {},
     "output_type": "execute_result"
    }
   ],
   "source": [
    "predictions"
   ]
  },
  {
   "cell_type": "code",
   "execution_count": 52,
   "metadata": {
    "collapsed": true,
    "deletable": true,
    "editable": true
   },
   "outputs": [],
   "source": [
    "xs = df.values[:,0]\n",
    "ys = df.values[:,1]"
   ]
  },
  {
   "cell_type": "code",
   "execution_count": 53,
   "metadata": {
    "collapsed": false,
    "deletable": true,
    "editable": true
   },
   "outputs": [
    {
     "data": {
      "text/plain": [
       "(391354,)"
      ]
     },
     "execution_count": 53,
     "metadata": {},
     "output_type": "execute_result"
    }
   ],
   "source": [
    "xs.shape"
   ]
  },
  {
   "cell_type": "code",
   "execution_count": 54,
   "metadata": {
    "collapsed": true,
    "deletable": true,
    "editable": true
   },
   "outputs": [],
   "source": [
    "df2 = pd.DataFrame({'Visualizaciones de pantalla': xs, 'Total de eventos': ys, 'cluster': predictions})"
   ]
  },
  {
   "cell_type": "code",
   "execution_count": 55,
   "metadata": {
    "collapsed": true,
    "deletable": true,
    "editable": true
   },
   "outputs": [],
   "source": [
    "cluster_stats = df2.groupby('cluster')['Visualizaciones de pantalla','Total de eventos'].agg(['mean','std'])"
   ]
  },
  {
   "cell_type": "code",
   "execution_count": 56,
   "metadata": {
    "collapsed": false,
    "deletable": true,
    "editable": true
   },
   "outputs": [
    {
     "name": "stderr",
     "output_type": "stream",
     "text": [
      "/home/dsc/anaconda2/lib/python2.7/site-packages/pandas/core/reshape/merge.py:551: UserWarning: merging between different levels can give an unintended result (1 levels on the left, 2 on the right)\n",
      "  warnings.warn(msg, UserWarning)\n"
     ]
    },
    {
     "data": {
      "text/html": [
       "<div>\n",
       "<style>\n",
       "    .dataframe thead tr:only-child th {\n",
       "        text-align: right;\n",
       "    }\n",
       "\n",
       "    .dataframe thead th {\n",
       "        text-align: left;\n",
       "    }\n",
       "\n",
       "    .dataframe tbody tr th {\n",
       "        vertical-align: top;\n",
       "    }\n",
       "</style>\n",
       "<table border=\"1\" class=\"dataframe\">\n",
       "  <thead>\n",
       "    <tr style=\"text-align: right;\">\n",
       "      <th></th>\n",
       "      <th>Total de eventos</th>\n",
       "      <th>Visualizaciones de pantalla</th>\n",
       "      <th>cluster</th>\n",
       "      <th>(Visualizaciones de pantalla, mean)</th>\n",
       "      <th>(Visualizaciones de pantalla, std)</th>\n",
       "      <th>(Total de eventos, mean)</th>\n",
       "      <th>(Total de eventos, std)</th>\n",
       "    </tr>\n",
       "  </thead>\n",
       "  <tbody>\n",
       "    <tr>\n",
       "      <th>0</th>\n",
       "      <td>178</td>\n",
       "      <td>179</td>\n",
       "      <td>2</td>\n",
       "      <td>42.479516</td>\n",
       "      <td>15.421873</td>\n",
       "      <td>24.757914</td>\n",
       "      <td>15.320407</td>\n",
       "    </tr>\n",
       "    <tr>\n",
       "      <th>1</th>\n",
       "      <td>126</td>\n",
       "      <td>168</td>\n",
       "      <td>2</td>\n",
       "      <td>42.479516</td>\n",
       "      <td>15.421873</td>\n",
       "      <td>24.757914</td>\n",
       "      <td>15.320407</td>\n",
       "    </tr>\n",
       "    <tr>\n",
       "      <th>2</th>\n",
       "      <td>165</td>\n",
       "      <td>165</td>\n",
       "      <td>2</td>\n",
       "      <td>42.479516</td>\n",
       "      <td>15.421873</td>\n",
       "      <td>24.757914</td>\n",
       "      <td>15.320407</td>\n",
       "    </tr>\n",
       "    <tr>\n",
       "      <th>3</th>\n",
       "      <td>29</td>\n",
       "      <td>144</td>\n",
       "      <td>2</td>\n",
       "      <td>42.479516</td>\n",
       "      <td>15.421873</td>\n",
       "      <td>24.757914</td>\n",
       "      <td>15.320407</td>\n",
       "    </tr>\n",
       "    <tr>\n",
       "      <th>4</th>\n",
       "      <td>106</td>\n",
       "      <td>134</td>\n",
       "      <td>2</td>\n",
       "      <td>42.479516</td>\n",
       "      <td>15.421873</td>\n",
       "      <td>24.757914</td>\n",
       "      <td>15.320407</td>\n",
       "    </tr>\n",
       "  </tbody>\n",
       "</table>\n",
       "</div>"
      ],
      "text/plain": [
       "   Total de eventos  Visualizaciones de pantalla  cluster  \\\n",
       "0               178                          179        2   \n",
       "1               126                          168        2   \n",
       "2               165                          165        2   \n",
       "3                29                          144        2   \n",
       "4               106                          134        2   \n",
       "\n",
       "   (Visualizaciones de pantalla, mean)  (Visualizaciones de pantalla, std)  \\\n",
       "0                            42.479516                           15.421873   \n",
       "1                            42.479516                           15.421873   \n",
       "2                            42.479516                           15.421873   \n",
       "3                            42.479516                           15.421873   \n",
       "4                            42.479516                           15.421873   \n",
       "\n",
       "   (Total de eventos, mean)  (Total de eventos, std)  \n",
       "0                 24.757914                15.320407  \n",
       "1                 24.757914                15.320407  \n",
       "2                 24.757914                15.320407  \n",
       "3                 24.757914                15.320407  \n",
       "4                 24.757914                15.320407  "
      ]
     },
     "execution_count": 56,
     "metadata": {},
     "output_type": "execute_result"
    }
   ],
   "source": [
    "merged = df2.merge(cluster_stats, left_on='cluster', right_index=True)\n",
    "merged.head()"
   ]
  },
  {
   "cell_type": "code",
   "execution_count": 57,
   "metadata": {
    "collapsed": false,
    "deletable": true,
    "editable": true
   },
   "outputs": [
    {
     "data": {
      "text/html": [
       "<div>\n",
       "<style>\n",
       "    .dataframe thead tr:only-child th {\n",
       "        text-align: right;\n",
       "    }\n",
       "\n",
       "    .dataframe thead th {\n",
       "        text-align: left;\n",
       "    }\n",
       "\n",
       "    .dataframe tbody tr th {\n",
       "        vertical-align: top;\n",
       "    }\n",
       "</style>\n",
       "<table border=\"1\" class=\"dataframe\">\n",
       "  <thead>\n",
       "    <tr style=\"text-align: right;\">\n",
       "      <th></th>\n",
       "      <th>Total de eventos</th>\n",
       "      <th>Visualizaciones de pantalla</th>\n",
       "      <th>cluster</th>\n",
       "      <th>(Visualizaciones de pantalla, mean)</th>\n",
       "      <th>(Visualizaciones de pantalla, std)</th>\n",
       "      <th>(Total de eventos, mean)</th>\n",
       "      <th>(Total de eventos, std)</th>\n",
       "      <th>visualizaciones_zscore</th>\n",
       "      <th>Eventos_zscore</th>\n",
       "    </tr>\n",
       "  </thead>\n",
       "  <tbody>\n",
       "    <tr>\n",
       "      <th>345966</th>\n",
       "      <td>0</td>\n",
       "      <td>1</td>\n",
       "      <td>0</td>\n",
       "      <td>1.507300</td>\n",
       "      <td>0.679902</td>\n",
       "      <td>0.452288</td>\n",
       "      <td>0.685190</td>\n",
       "      <td>-0.746137</td>\n",
       "      <td>-0.660092</td>\n",
       "    </tr>\n",
       "    <tr>\n",
       "      <th>218931</th>\n",
       "      <td>0</td>\n",
       "      <td>2</td>\n",
       "      <td>0</td>\n",
       "      <td>1.507300</td>\n",
       "      <td>0.679902</td>\n",
       "      <td>0.452288</td>\n",
       "      <td>0.685190</td>\n",
       "      <td>0.724663</td>\n",
       "      <td>-0.660092</td>\n",
       "    </tr>\n",
       "    <tr>\n",
       "      <th>240174</th>\n",
       "      <td>1</td>\n",
       "      <td>2</td>\n",
       "      <td>0</td>\n",
       "      <td>1.507300</td>\n",
       "      <td>0.679902</td>\n",
       "      <td>0.452288</td>\n",
       "      <td>0.685190</td>\n",
       "      <td>0.724663</td>\n",
       "      <td>0.799357</td>\n",
       "    </tr>\n",
       "    <tr>\n",
       "      <th>282581</th>\n",
       "      <td>1</td>\n",
       "      <td>1</td>\n",
       "      <td>0</td>\n",
       "      <td>1.507300</td>\n",
       "      <td>0.679902</td>\n",
       "      <td>0.452288</td>\n",
       "      <td>0.685190</td>\n",
       "      <td>-0.746137</td>\n",
       "      <td>0.799357</td>\n",
       "    </tr>\n",
       "    <tr>\n",
       "      <th>286232</th>\n",
       "      <td>0</td>\n",
       "      <td>1</td>\n",
       "      <td>0</td>\n",
       "      <td>1.507300</td>\n",
       "      <td>0.679902</td>\n",
       "      <td>0.452288</td>\n",
       "      <td>0.685190</td>\n",
       "      <td>-0.746137</td>\n",
       "      <td>-0.660092</td>\n",
       "    </tr>\n",
       "    <tr>\n",
       "      <th>71894</th>\n",
       "      <td>6</td>\n",
       "      <td>6</td>\n",
       "      <td>1</td>\n",
       "      <td>10.131399</td>\n",
       "      <td>2.680364</td>\n",
       "      <td>4.632181</td>\n",
       "      <td>3.059997</td>\n",
       "      <td>-1.541357</td>\n",
       "      <td>0.447000</td>\n",
       "    </tr>\n",
       "    <tr>\n",
       "      <th>25645</th>\n",
       "      <td>10</td>\n",
       "      <td>10</td>\n",
       "      <td>1</td>\n",
       "      <td>10.131399</td>\n",
       "      <td>2.680364</td>\n",
       "      <td>4.632181</td>\n",
       "      <td>3.059997</td>\n",
       "      <td>-0.049023</td>\n",
       "      <td>1.754191</td>\n",
       "    </tr>\n",
       "    <tr>\n",
       "      <th>304359</th>\n",
       "      <td>0</td>\n",
       "      <td>1</td>\n",
       "      <td>0</td>\n",
       "      <td>1.507300</td>\n",
       "      <td>0.679902</td>\n",
       "      <td>0.452288</td>\n",
       "      <td>0.685190</td>\n",
       "      <td>-0.746137</td>\n",
       "      <td>-0.660092</td>\n",
       "    </tr>\n",
       "    <tr>\n",
       "      <th>15186</th>\n",
       "      <td>2</td>\n",
       "      <td>13</td>\n",
       "      <td>1</td>\n",
       "      <td>10.131399</td>\n",
       "      <td>2.680364</td>\n",
       "      <td>4.632181</td>\n",
       "      <td>3.059997</td>\n",
       "      <td>1.070228</td>\n",
       "      <td>-0.860191</td>\n",
       "    </tr>\n",
       "    <tr>\n",
       "      <th>192523</th>\n",
       "      <td>0</td>\n",
       "      <td>2</td>\n",
       "      <td>0</td>\n",
       "      <td>1.507300</td>\n",
       "      <td>0.679902</td>\n",
       "      <td>0.452288</td>\n",
       "      <td>0.685190</td>\n",
       "      <td>0.724663</td>\n",
       "      <td>-0.660092</td>\n",
       "    </tr>\n",
       "  </tbody>\n",
       "</table>\n",
       "</div>"
      ],
      "text/plain": [
       "        Total de eventos  Visualizaciones de pantalla  cluster  \\\n",
       "345966                 0                            1        0   \n",
       "218931                 0                            2        0   \n",
       "240174                 1                            2        0   \n",
       "282581                 1                            1        0   \n",
       "286232                 0                            1        0   \n",
       "71894                  6                            6        1   \n",
       "25645                 10                           10        1   \n",
       "304359                 0                            1        0   \n",
       "15186                  2                           13        1   \n",
       "192523                 0                            2        0   \n",
       "\n",
       "        (Visualizaciones de pantalla, mean)  \\\n",
       "345966                             1.507300   \n",
       "218931                             1.507300   \n",
       "240174                             1.507300   \n",
       "282581                             1.507300   \n",
       "286232                             1.507300   \n",
       "71894                             10.131399   \n",
       "25645                             10.131399   \n",
       "304359                             1.507300   \n",
       "15186                             10.131399   \n",
       "192523                             1.507300   \n",
       "\n",
       "        (Visualizaciones de pantalla, std)  (Total de eventos, mean)  \\\n",
       "345966                            0.679902                  0.452288   \n",
       "218931                            0.679902                  0.452288   \n",
       "240174                            0.679902                  0.452288   \n",
       "282581                            0.679902                  0.452288   \n",
       "286232                            0.679902                  0.452288   \n",
       "71894                             2.680364                  4.632181   \n",
       "25645                             2.680364                  4.632181   \n",
       "304359                            0.679902                  0.452288   \n",
       "15186                             2.680364                  4.632181   \n",
       "192523                            0.679902                  0.452288   \n",
       "\n",
       "        (Total de eventos, std)  visualizaciones_zscore  Eventos_zscore  \n",
       "345966                 0.685190               -0.746137       -0.660092  \n",
       "218931                 0.685190                0.724663       -0.660092  \n",
       "240174                 0.685190                0.724663        0.799357  \n",
       "282581                 0.685190               -0.746137        0.799357  \n",
       "286232                 0.685190               -0.746137       -0.660092  \n",
       "71894                  3.059997               -1.541357        0.447000  \n",
       "25645                  3.059997               -0.049023        1.754191  \n",
       "304359                 0.685190               -0.746137       -0.660092  \n",
       "15186                  3.059997                1.070228       -0.860191  \n",
       "192523                 0.685190                0.724663       -0.660092  "
      ]
     },
     "execution_count": 57,
     "metadata": {},
     "output_type": "execute_result"
    }
   ],
   "source": [
    "merged['visualizaciones_zscore'] = ((merged['Visualizaciones de pantalla'] -\n",
    "                                     merged[('Visualizaciones de pantalla', 'mean')]) / \n",
    "                                     merged[('Visualizaciones de pantalla', 'std')])\n",
    "\n",
    "merged['Eventos_zscore'] = ((merged['Total de eventos'] -\n",
    "                             merged[('Total de eventos','mean')]) /\n",
    "                             merged[('Total de eventos','std')])\n",
    "merged.sample(10)"
   ]
  },
  {
   "cell_type": "code",
   "execution_count": 58,
   "metadata": {
    "collapsed": true,
    "deletable": true,
    "editable": true
   },
   "outputs": [],
   "source": [
    "merged['zscore'] = np.sqrt(merged['visualizaciones_zscore'] ** 2 + merged['Eventos_zscore']**2)"
   ]
  },
  {
   "cell_type": "code",
   "execution_count": 59,
   "metadata": {
    "collapsed": false,
    "deletable": true,
    "editable": true
   },
   "outputs": [
    {
     "data": {
      "text/html": [
       "<div>\n",
       "<style>\n",
       "    .dataframe thead tr:only-child th {\n",
       "        text-align: right;\n",
       "    }\n",
       "\n",
       "    .dataframe thead th {\n",
       "        text-align: left;\n",
       "    }\n",
       "\n",
       "    .dataframe tbody tr th {\n",
       "        vertical-align: top;\n",
       "    }\n",
       "</style>\n",
       "<table border=\"1\" class=\"dataframe\">\n",
       "  <thead>\n",
       "    <tr style=\"text-align: right;\">\n",
       "      <th></th>\n",
       "      <th>Total de eventos</th>\n",
       "      <th>Visualizaciones de pantalla</th>\n",
       "      <th>cluster</th>\n",
       "      <th>(Visualizaciones de pantalla, mean)</th>\n",
       "      <th>(Visualizaciones de pantalla, std)</th>\n",
       "      <th>(Total de eventos, mean)</th>\n",
       "      <th>(Total de eventos, std)</th>\n",
       "      <th>visualizaciones_zscore</th>\n",
       "      <th>Eventos_zscore</th>\n",
       "      <th>zscore</th>\n",
       "    </tr>\n",
       "  </thead>\n",
       "  <tbody>\n",
       "    <tr>\n",
       "      <th>356100</th>\n",
       "      <td>0</td>\n",
       "      <td>1</td>\n",
       "      <td>0</td>\n",
       "      <td>1.507300</td>\n",
       "      <td>0.679902</td>\n",
       "      <td>0.452288</td>\n",
       "      <td>0.685190</td>\n",
       "      <td>-0.746137</td>\n",
       "      <td>-0.660092</td>\n",
       "      <td>0.996214</td>\n",
       "    </tr>\n",
       "    <tr>\n",
       "      <th>123433</th>\n",
       "      <td>1</td>\n",
       "      <td>4</td>\n",
       "      <td>4</td>\n",
       "      <td>4.871559</td>\n",
       "      <td>1.568122</td>\n",
       "      <td>1.795051</td>\n",
       "      <td>1.603836</td>\n",
       "      <td>-0.555798</td>\n",
       "      <td>-0.495719</td>\n",
       "      <td>0.744747</td>\n",
       "    </tr>\n",
       "    <tr>\n",
       "      <th>307500</th>\n",
       "      <td>0</td>\n",
       "      <td>1</td>\n",
       "      <td>0</td>\n",
       "      <td>1.507300</td>\n",
       "      <td>0.679902</td>\n",
       "      <td>0.452288</td>\n",
       "      <td>0.685190</td>\n",
       "      <td>-0.746137</td>\n",
       "      <td>-0.660092</td>\n",
       "      <td>0.996214</td>\n",
       "    </tr>\n",
       "    <tr>\n",
       "      <th>169033</th>\n",
       "      <td>3</td>\n",
       "      <td>3</td>\n",
       "      <td>4</td>\n",
       "      <td>4.871559</td>\n",
       "      <td>1.568122</td>\n",
       "      <td>1.795051</td>\n",
       "      <td>1.603836</td>\n",
       "      <td>-1.193503</td>\n",
       "      <td>0.751292</td>\n",
       "      <td>1.410280</td>\n",
       "    </tr>\n",
       "    <tr>\n",
       "      <th>321482</th>\n",
       "      <td>0</td>\n",
       "      <td>1</td>\n",
       "      <td>0</td>\n",
       "      <td>1.507300</td>\n",
       "      <td>0.679902</td>\n",
       "      <td>0.452288</td>\n",
       "      <td>0.685190</td>\n",
       "      <td>-0.746137</td>\n",
       "      <td>-0.660092</td>\n",
       "      <td>0.996214</td>\n",
       "    </tr>\n",
       "    <tr>\n",
       "      <th>188632</th>\n",
       "      <td>2</td>\n",
       "      <td>2</td>\n",
       "      <td>0</td>\n",
       "      <td>1.507300</td>\n",
       "      <td>0.679902</td>\n",
       "      <td>0.452288</td>\n",
       "      <td>0.685190</td>\n",
       "      <td>0.724663</td>\n",
       "      <td>2.258807</td>\n",
       "      <td>2.372203</td>\n",
       "    </tr>\n",
       "    <tr>\n",
       "      <th>307747</th>\n",
       "      <td>0</td>\n",
       "      <td>1</td>\n",
       "      <td>0</td>\n",
       "      <td>1.507300</td>\n",
       "      <td>0.679902</td>\n",
       "      <td>0.452288</td>\n",
       "      <td>0.685190</td>\n",
       "      <td>-0.746137</td>\n",
       "      <td>-0.660092</td>\n",
       "      <td>0.996214</td>\n",
       "    </tr>\n",
       "    <tr>\n",
       "      <th>384136</th>\n",
       "      <td>0</td>\n",
       "      <td>1</td>\n",
       "      <td>0</td>\n",
       "      <td>1.507300</td>\n",
       "      <td>0.679902</td>\n",
       "      <td>0.452288</td>\n",
       "      <td>0.685190</td>\n",
       "      <td>-0.746137</td>\n",
       "      <td>-0.660092</td>\n",
       "      <td>0.996214</td>\n",
       "    </tr>\n",
       "    <tr>\n",
       "      <th>294202</th>\n",
       "      <td>0</td>\n",
       "      <td>1</td>\n",
       "      <td>0</td>\n",
       "      <td>1.507300</td>\n",
       "      <td>0.679902</td>\n",
       "      <td>0.452288</td>\n",
       "      <td>0.685190</td>\n",
       "      <td>-0.746137</td>\n",
       "      <td>-0.660092</td>\n",
       "      <td>0.996214</td>\n",
       "    </tr>\n",
       "    <tr>\n",
       "      <th>132027</th>\n",
       "      <td>2</td>\n",
       "      <td>3</td>\n",
       "      <td>4</td>\n",
       "      <td>4.871559</td>\n",
       "      <td>1.568122</td>\n",
       "      <td>1.795051</td>\n",
       "      <td>1.603836</td>\n",
       "      <td>-1.193503</td>\n",
       "      <td>0.127787</td>\n",
       "      <td>1.200325</td>\n",
       "    </tr>\n",
       "  </tbody>\n",
       "</table>\n",
       "</div>"
      ],
      "text/plain": [
       "        Total de eventos  Visualizaciones de pantalla  cluster  \\\n",
       "356100                 0                            1        0   \n",
       "123433                 1                            4        4   \n",
       "307500                 0                            1        0   \n",
       "169033                 3                            3        4   \n",
       "321482                 0                            1        0   \n",
       "188632                 2                            2        0   \n",
       "307747                 0                            1        0   \n",
       "384136                 0                            1        0   \n",
       "294202                 0                            1        0   \n",
       "132027                 2                            3        4   \n",
       "\n",
       "        (Visualizaciones de pantalla, mean)  \\\n",
       "356100                             1.507300   \n",
       "123433                             4.871559   \n",
       "307500                             1.507300   \n",
       "169033                             4.871559   \n",
       "321482                             1.507300   \n",
       "188632                             1.507300   \n",
       "307747                             1.507300   \n",
       "384136                             1.507300   \n",
       "294202                             1.507300   \n",
       "132027                             4.871559   \n",
       "\n",
       "        (Visualizaciones de pantalla, std)  (Total de eventos, mean)  \\\n",
       "356100                            0.679902                  0.452288   \n",
       "123433                            1.568122                  1.795051   \n",
       "307500                            0.679902                  0.452288   \n",
       "169033                            1.568122                  1.795051   \n",
       "321482                            0.679902                  0.452288   \n",
       "188632                            0.679902                  0.452288   \n",
       "307747                            0.679902                  0.452288   \n",
       "384136                            0.679902                  0.452288   \n",
       "294202                            0.679902                  0.452288   \n",
       "132027                            1.568122                  1.795051   \n",
       "\n",
       "        (Total de eventos, std)  visualizaciones_zscore  Eventos_zscore  \\\n",
       "356100                 0.685190               -0.746137       -0.660092   \n",
       "123433                 1.603836               -0.555798       -0.495719   \n",
       "307500                 0.685190               -0.746137       -0.660092   \n",
       "169033                 1.603836               -1.193503        0.751292   \n",
       "321482                 0.685190               -0.746137       -0.660092   \n",
       "188632                 0.685190                0.724663        2.258807   \n",
       "307747                 0.685190               -0.746137       -0.660092   \n",
       "384136                 0.685190               -0.746137       -0.660092   \n",
       "294202                 0.685190               -0.746137       -0.660092   \n",
       "132027                 1.603836               -1.193503        0.127787   \n",
       "\n",
       "          zscore  \n",
       "356100  0.996214  \n",
       "123433  0.744747  \n",
       "307500  0.996214  \n",
       "169033  1.410280  \n",
       "321482  0.996214  \n",
       "188632  2.372203  \n",
       "307747  0.996214  \n",
       "384136  0.996214  \n",
       "294202  0.996214  \n",
       "132027  1.200325  "
      ]
     },
     "execution_count": 59,
     "metadata": {},
     "output_type": "execute_result"
    }
   ],
   "source": [
    "merged.sample(10)"
   ]
  },
  {
   "cell_type": "code",
   "execution_count": 62,
   "metadata": {
    "collapsed": false,
    "deletable": true,
    "editable": true
   },
   "outputs": [
    {
     "data": {
      "text/plain": [
       "281"
      ]
     },
     "execution_count": 62,
     "metadata": {},
     "output_type": "execute_result"
    }
   ],
   "source": [
    "merged['outlier'] =  merged['zscore']>3\n",
    "sum(merged['outlier'])"
   ]
  },
  {
   "cell_type": "code",
   "execution_count": 63,
   "metadata": {
    "collapsed": false,
    "deletable": true,
    "editable": true
   },
   "outputs": [
    {
     "data": {
      "text/plain": [
       "<matplotlib.collections.PathCollection at 0x7f3b84625ed0>"
      ]
     },
     "execution_count": 63,
     "metadata": {},
     "output_type": "execute_result"
    },
    {
     "data": {
      "image/png": "[encoded data removed]",
      "text/plain": [
       "<matplotlib.figure.Figure at 0x7f3b84747310>"
      ]
     },
     "metadata": {},
     "output_type": "display_data"
    }
   ],
   "source": [
    "plt.scatter(merged['Visualizaciones de pantalla'],merged['Total de eventos'], c=merged['outlier'])"
   ]
  },
  {
   "cell_type": "markdown",
   "metadata": {
    "collapsed": true,
    "deletable": true,
    "editable": true
   },
   "source": [
    "# NUEVA SESIÓN!\n",
    "\n",
    "## Como prometí esta vez usaré pyspark"
   ]
  },
  {
   "cell_type": "code",
   "execution_count": 1,
   "metadata": {
    "collapsed": false,
    "deletable": true,
    "editable": true
   },
   "outputs": [
    {
     "data": {
      "text/plain": [
       "<pyspark.context.SparkContext at 0x7f9c20a9ed50>"
      ]
     },
     "execution_count": 1,
     "metadata": {},
     "output_type": "execute_result"
    }
   ],
   "source": [
    "sc"
   ]
  },
  {
   "cell_type": "code",
   "execution_count": 2,
   "metadata": {
    "collapsed": true,
    "deletable": true,
    "editable": true
   },
   "outputs": [],
   "source": [
    "f = sc.textFile('../../Archivos_tfm/dataTesting/screenViewsAndTotalEvents.csv')"
   ]
  },
  {
   "cell_type": "code",
   "execution_count": 3,
   "metadata": {
    "collapsed": false
   },
   "outputs": [
    {
     "data": {
      "text/plain": [
       "[u'Session Id,Visualizaciones de pantalla,Total de eventos',\n",
       " u'1505755687157,179,178',\n",
       " u'1506093196536,168,126']"
      ]
     },
     "execution_count": 3,
     "metadata": {},
     "output_type": "execute_result"
    }
   ],
   "source": [
    "f.take(3)"
   ]
  },
  {
   "cell_type": "code",
   "execution_count": 6,
   "metadata": {
    "collapsed": false,
    "deletable": true,
    "editable": true
   },
   "outputs": [],
   "source": [
    "# Creamos una función que nos separa cada columna y convierta las columnas que nos\n",
    "# interesan en formato float\n",
    "def splitAndFloat (row, delim = ','):\n",
    "    \"\"\"\n",
    "    :param row: sesión de entrada como un string separado por comas\n",
    "    :return una lista con id de sesiín y duración de la sesión en segundos.\n",
    "    \n",
    "    \"\"\"\n",
    "    \n",
    "    out = row.split(delim)\n",
    "    return [float(out[1]),float(out[2])]\n",
    "\n",
    "# También necesitamos asignar el header a una variable para luego hacer un filter\n",
    "# Y poder prescindir de él.\n",
    "\n",
    "header = f.first()"
   ]
  },
  {
   "cell_type": "code",
   "execution_count": 7,
   "metadata": {
    "collapsed": true
   },
   "outputs": [],
   "source": [
    "data = f.filter(lambda line: line != header).map(splitAndFloat)"
   ]
  },
  {
   "cell_type": "code",
   "execution_count": 8,
   "metadata": {
    "collapsed": false
   },
   "outputs": [
    {
     "data": {
      "text/plain": [
       "[179.0, 178.0]"
      ]
     },
     "execution_count": 8,
     "metadata": {},
     "output_type": "execute_result"
    }
   ],
   "source": [
    "data.first()"
   ]
  },
  {
   "cell_type": "code",
   "execution_count": 9,
   "metadata": {
    "collapsed": true
   },
   "outputs": [],
   "source": [
    "# Importamos la librería para hacer clustering\n",
    "from pyspark.mllib.clustering import KMeans"
   ]
  },
  {
   "cell_type": "code",
   "execution_count": 10,
   "metadata": {
    "collapsed": true
   },
   "outputs": [],
   "source": [
    "# Esta vez elegiremos 4 clusters\n",
    "clusters = KMeans.train(data,4)"
   ]
  },
  {
   "cell_type": "code",
   "execution_count": 11,
   "metadata": {
    "collapsed": false
   },
   "outputs": [
    {
     "data": {
      "text/plain": [
       "[array([ 1.86394212,  0.61315666]),\n",
       " array([ 34.98314856,  19.42350333]),\n",
       " array([ 15.77916492,   6.91318716]),\n",
       " array([ 6.88692485,  2.79745197])]"
      ]
     },
     "execution_count": 11,
     "metadata": {},
     "output_type": "execute_result"
    }
   ],
   "source": [
    "clusters.centers"
   ]
  },
  {
   "cell_type": "code",
   "execution_count": 12,
   "metadata": {
    "collapsed": false
   },
   "outputs": [
    {
     "data": {
      "text/plain": [
       "[1]"
      ]
     },
     "execution_count": 12,
     "metadata": {},
     "output_type": "execute_result"
    }
   ],
   "source": [
    "clusters.predict(sc.parallelize([[200,100]])).collect()"
   ]
  },
  {
   "cell_type": "code",
   "execution_count": 15,
   "metadata": {
    "collapsed": false
   },
   "outputs": [
    {
     "data": {
      "text/plain": [
       "[3]"
      ]
     },
     "execution_count": 15,
     "metadata": {},
     "output_type": "execute_result"
    }
   ],
   "source": [
    "clusters.predict(sc.parallelize([[6,2]])).collect()"
   ]
  },
  {
   "cell_type": "code",
   "execution_count": 16,
   "metadata": {
    "collapsed": true
   },
   "outputs": [],
   "source": [
    "# Ahora escribimos otra función que anotará cada punto con el cluster al que pertence en la forma (key, value),\n",
    "# que nos permitirá hacer groupByKey() y luego sumarizar cada cluster con mapValues."
   ]
  },
  {
   "cell_type": "code",
   "execution_count": 21,
   "metadata": {
    "collapsed": true
   },
   "outputs": [],
   "source": [
    "from math import sqrt\n",
    "import numpy as np\n",
    "\n",
    "def annotate_with_cluster(point):\n",
    "    visualizaciones, eventos = point\n",
    "    \n",
    "    \n",
    "    distances = ([sqrt(\n",
    "                        (visualizaciones - visualizaciones_centroid)**2 +\n",
    "                        (eventos - eventos_centroid)**2)\n",
    "                  for visualizaciones_centroid, eventos_centroid in clusters.centers]\n",
    "                )\n",
    "    cluster = distances.index(min(distances))\n",
    "    \n",
    "    return (cluster, point)"
   ]
  },
  {
   "cell_type": "code",
   "execution_count": 22,
   "metadata": {
    "collapsed": false
   },
   "outputs": [
    {
     "data": {
      "text/plain": [
       "(3, array([ 2.5,  8.5]))"
      ]
     },
     "execution_count": 22,
     "metadata": {},
     "output_type": "execute_result"
    }
   ],
   "source": [
    "annotate_with_cluster(np.array([2.5,8.5]))"
   ]
  },
  {
   "cell_type": "code",
   "execution_count": 23,
   "metadata": {
    "collapsed": false
   },
   "outputs": [
    {
     "data": {
      "text/plain": [
       "PythonRDD[90] at RDD at PythonRDD.scala:48"
      ]
     },
     "execution_count": 23,
     "metadata": {},
     "output_type": "execute_result"
    }
   ],
   "source": [
    "points_with_cluster = data.map(annotate_with_cluster)\n",
    "points_with_cluster"
   ]
  },
  {
   "cell_type": "code",
   "execution_count": 24,
   "metadata": {
    "collapsed": true
   },
   "outputs": [],
   "source": [
    "def stats (iterable):\n",
    "    views, events = zip(*iterable)\n",
    "    return np.mean(views), np.std(views), np.mean(events), np.std(events)"
   ]
  },
  {
   "cell_type": "code",
   "execution_count": 25,
   "metadata": {
    "collapsed": true
   },
   "outputs": [],
   "source": [
    "groups = points_with_cluster.groupByKey().mapValues(stats)"
   ]
  },
  {
   "cell_type": "code",
   "execution_count": 26,
   "metadata": {
    "collapsed": true
   },
   "outputs": [],
   "source": [
    "clusterdict = dict(groups.collect())"
   ]
  },
  {
   "cell_type": "code",
   "execution_count": 27,
   "metadata": {
    "collapsed": true
   },
   "outputs": [],
   "source": [
    "# Por ultimo, anotamos cada punt con su valor de outlier:\n",
    "# True si está a más de 3 stds de la media y False si no."
   ]
  },
  {
   "cell_type": "code",
   "execution_count": 28,
   "metadata": {
    "collapsed": true
   },
   "outputs": [],
   "source": [
    "def outlier(annotated_point):\n",
    "    cluster, (views, events) = annotated_point\n",
    "    this_views_mean, this_views_std, this_events_mean, this_events_std = clusterdict[cluster]\n",
    "    \n",
    "    zscore_views = (views - this_views_mean) / this_views_std\n",
    "    zscore_events = (events - this_events_mean) / this_events_std\n",
    "    \n",
    "    zscore_squared = zscore_views ** 2 + zscore_events ** 2\n",
    "    outlier = zscore_squared > 9\n",
    "    return outlier, views, events"
   ]
  },
  {
   "cell_type": "code",
   "execution_count": 30,
   "metadata": {
    "collapsed": false
   },
   "outputs": [
    {
     "data": {
      "text/plain": [
       "[(True, 179.0, 178.0),\n",
       " (True, 168.0, 126.0),\n",
       " (True, 165.0, 165.0),\n",
       " (True, 144.0, 29.0),\n",
       " (True, 134.0, 106.0),\n",
       " (True, 128.0, 14.0),\n",
       " (True, 127.0, 48.0),\n",
       " (True, 105.0, 77.0),\n",
       " (True, 104.0, 58.0),\n",
       " (True, 103.0, 78.0),\n",
       " (True, 100.0, 78.0),\n",
       " (True, 98.0, 56.0),\n",
       " (True, 96.0, 87.0),\n",
       " (True, 93.0, 13.0),\n",
       " (True, 90.0, 36.0),\n",
       " (True, 87.0, 65.0),\n",
       " (True, 85.0, 12.0),\n",
       " (True, 84.0, 16.0),\n",
       " (True, 82.0, 0.0),\n",
       " (True, 81.0, 81.0),\n",
       " (True, 81.0, 21.0),\n",
       " (True, 80.0, 28.0),\n",
       " (True, 80.0, 9.0),\n",
       " (True, 79.0, 20.0),\n",
       " (True, 79.0, 14.0),\n",
       " (True, 79.0, 18.0),\n",
       " (True, 79.0, 33.0),\n",
       " (True, 79.0, 32.0),\n",
       " (True, 78.0, 25.0),\n",
       " (True, 78.0, 62.0),\n",
       " (True, 78.0, 62.0),\n",
       " (True, 77.0, 11.0),\n",
       " (True, 77.0, 21.0),\n",
       " (True, 76.0, 76.0),\n",
       " (True, 76.0, 76.0),\n",
       " (True, 76.0, 76.0),\n",
       " (True, 76.0, 64.0),\n",
       " (True, 76.0, 24.0),\n",
       " (True, 76.0, 10.0),\n",
       " (True, 75.0, 3.0),\n",
       " (True, 75.0, 46.0),\n",
       " (True, 74.0, 74.0),\n",
       " (True, 74.0, 44.0),\n",
       " (True, 73.0, 37.0),\n",
       " (True, 73.0, 73.0),\n",
       " (True, 71.0, 71.0),\n",
       " (False, 71.0, 8.0),\n",
       " (False, 71.0, 22.0),\n",
       " (False, 71.0, 3.0),\n",
       " (False, 71.0, 13.0),\n",
       " (True, 71.0, 71.0),\n",
       " (True, 71.0, 71.0),\n",
       " (False, 70.0, 21.0),\n",
       " (True, 70.0, 70.0),\n",
       " (True, 69.0, 57.0),\n",
       " (True, 69.0, 46.0),\n",
       " (False, 68.0, 13.0),\n",
       " (False, 68.0, 21.0),\n",
       " (False, 68.0, 38.0),\n",
       " (True, 67.0, 67.0),\n",
       " (True, 67.0, 67.0),\n",
       " (False, 67.0, 3.0),\n",
       " (False, 67.0, 13.0),\n",
       " (False, 67.0, 19.0),\n",
       " (False, 67.0, 13.0),\n",
       " (False, 66.0, 28.0),\n",
       " (False, 66.0, 11.0),\n",
       " (False, 66.0, 21.0),\n",
       " (True, 66.0, 64.0),\n",
       " (True, 66.0, 50.0),\n",
       " (True, 66.0, 67.0),\n",
       " (False, 66.0, 12.0),\n",
       " (False, 66.0, 9.0),\n",
       " (False, 65.0, 12.0),\n",
       " (False, 65.0, 18.0),\n",
       " (True, 65.0, 65.0),\n",
       " (True, 64.0, 64.0),\n",
       " (False, 64.0, 16.0),\n",
       " (False, 64.0, 44.0),\n",
       " (False, 64.0, 44.0),\n",
       " (True, 64.0, 64.0),\n",
       " (True, 64.0, 64.0),\n",
       " (False, 64.0, 34.0),\n",
       " (False, 63.0, 14.0),\n",
       " (False, 63.0, 12.0),\n",
       " (True, 63.0, 63.0),\n",
       " (False, 63.0, 26.0),\n",
       " (False, 63.0, 30.0),\n",
       " (False, 63.0, 22.0),\n",
       " (False, 63.0, 30.0),\n",
       " (True, 62.0, 62.0),\n",
       " (False, 62.0, 34.0),\n",
       " (False, 62.0, 8.0),\n",
       " (False, 62.0, 11.0),\n",
       " (False, 61.0, 7.0),\n",
       " (False, 61.0, 40.0),\n",
       " (False, 61.0, 17.0),\n",
       " (False, 61.0, 5.0),\n",
       " (False, 61.0, 7.0),\n",
       " (False, 60.0, 20.0),\n",
       " (False, 60.0, 30.0),\n",
       " (False, 60.0, 17.0),\n",
       " (False, 60.0, 36.0),\n",
       " (False, 60.0, 31.0),\n",
       " (True, 60.0, 59.0),\n",
       " (False, 60.0, 26.0),\n",
       " (True, 59.0, 59.0),\n",
       " (True, 59.0, 59.0),\n",
       " (False, 59.0, 37.0),\n",
       " (False, 59.0, 34.0),\n",
       " (False, 59.0, 29.0),\n",
       " (False, 59.0, 6.0),\n",
       " (False, 59.0, 35.0),\n",
       " (False, 59.0, 33.0),\n",
       " (True, 58.0, 55.0),\n",
       " (False, 58.0, 27.0),\n",
       " (False, 58.0, 48.0),\n",
       " (False, 58.0, 11.0),\n",
       " (False, 58.0, 20.0),\n",
       " (False, 58.0, 33.0),\n",
       " (False, 58.0, 13.0),\n",
       " (False, 58.0, 10.0),\n",
       " (True, 58.0, 58.0),\n",
       " (False, 58.0, 16.0),\n",
       " (False, 57.0, 8.0),\n",
       " (False, 57.0, 14.0),\n",
       " (False, 57.0, 23.0),\n",
       " (False, 57.0, 21.0),\n",
       " (False, 57.0, 0.0),\n",
       " (False, 57.0, 23.0),\n",
       " (False, 57.0, 9.0),\n",
       " (False, 57.0, 17.0),\n",
       " (False, 56.0, 49.0),\n",
       " (False, 56.0, 39.0),\n",
       " (False, 56.0, 29.0),\n",
       " (False, 56.0, 40.0),\n",
       " (False, 56.0, 4.0),\n",
       " (False, 56.0, 39.0),\n",
       " (False, 56.0, 16.0),\n",
       " (False, 55.0, 24.0),\n",
       " (False, 55.0, 3.0),\n",
       " (False, 55.0, 12.0),\n",
       " (False, 55.0, 4.0),\n",
       " (True, 55.0, 55.0),\n",
       " (False, 55.0, 8.0),\n",
       " (False, 55.0, 33.0),\n",
       " (False, 55.0, 10.0),\n",
       " (True, 55.0, 55.0),\n",
       " (False, 54.0, 22.0),\n",
       " (True, 54.0, 54.0)]"
      ]
     },
     "execution_count": 30,
     "metadata": {},
     "output_type": "execute_result"
    }
   ],
   "source": [
    "points_with_cluster.map(outlier).take(150)"
   ]
  },
  {
   "cell_type": "code",
   "execution_count": 31,
   "metadata": {
    "collapsed": false
   },
   "outputs": [
    {
     "data": {
      "text/plain": [
       "[(True, 179.0, 178.0),\n",
       " (True, 168.0, 126.0),\n",
       " (True, 165.0, 165.0),\n",
       " (True, 144.0, 29.0),\n",
       " (True, 134.0, 106.0),\n",
       " (True, 128.0, 14.0),\n",
       " (True, 127.0, 48.0),\n",
       " (True, 105.0, 77.0),\n",
       " (True, 104.0, 58.0),\n",
       " (True, 103.0, 78.0),\n",
       " (True, 100.0, 78.0),\n",
       " (True, 98.0, 56.0),\n",
       " (True, 96.0, 87.0),\n",
       " (True, 93.0, 13.0),\n",
       " (True, 90.0, 36.0),\n",
       " (True, 87.0, 65.0),\n",
       " (True, 85.0, 12.0),\n",
       " (True, 84.0, 16.0),\n",
       " (True, 82.0, 0.0),\n",
       " (True, 81.0, 81.0),\n",
       " (True, 81.0, 21.0),\n",
       " (True, 80.0, 28.0),\n",
       " (True, 80.0, 9.0),\n",
       " (True, 79.0, 20.0),\n",
       " (True, 79.0, 14.0),\n",
       " (True, 79.0, 18.0),\n",
       " (True, 79.0, 33.0),\n",
       " (True, 79.0, 32.0),\n",
       " (True, 78.0, 25.0),\n",
       " (True, 78.0, 62.0),\n",
       " (True, 78.0, 62.0),\n",
       " (True, 77.0, 11.0),\n",
       " (True, 77.0, 21.0),\n",
       " (True, 76.0, 76.0),\n",
       " (True, 76.0, 76.0),\n",
       " (True, 76.0, 76.0),\n",
       " (True, 76.0, 64.0),\n",
       " (True, 76.0, 24.0),\n",
       " (True, 76.0, 10.0),\n",
       " (True, 75.0, 3.0),\n",
       " (True, 75.0, 46.0),\n",
       " (True, 74.0, 74.0),\n",
       " (True, 74.0, 44.0),\n",
       " (True, 73.0, 37.0),\n",
       " (True, 73.0, 73.0),\n",
       " (True, 71.0, 71.0),\n",
       " (True, 71.0, 71.0),\n",
       " (True, 71.0, 71.0),\n",
       " (True, 70.0, 70.0),\n",
       " (True, 69.0, 57.0),\n",
       " (True, 69.0, 46.0),\n",
       " (True, 67.0, 67.0),\n",
       " (True, 67.0, 67.0),\n",
       " (True, 66.0, 64.0),\n",
       " (True, 66.0, 50.0),\n",
       " (True, 66.0, 67.0),\n",
       " (True, 65.0, 65.0),\n",
       " (True, 64.0, 64.0),\n",
       " (True, 64.0, 64.0),\n",
       " (True, 64.0, 64.0),\n",
       " (True, 63.0, 63.0),\n",
       " (True, 62.0, 62.0),\n",
       " (True, 60.0, 59.0),\n",
       " (True, 59.0, 59.0),\n",
       " (True, 59.0, 59.0),\n",
       " (True, 58.0, 55.0),\n",
       " (True, 58.0, 58.0),\n",
       " (True, 55.0, 55.0),\n",
       " (True, 55.0, 55.0),\n",
       " (True, 54.0, 54.0),\n",
       " (True, 54.0, 54.0),\n",
       " (True, 33.0, 1.0),\n",
       " (True, 33.0, 0.0),\n",
       " (True, 33.0, 0.0),\n",
       " (True, 33.0, 0.0),\n",
       " (True, 33.0, 0.0),\n",
       " (True, 32.0, 3.0),\n",
       " (True, 32.0, 0.0),\n",
       " (True, 32.0, 2.0),\n",
       " (True, 32.0, 2.0),\n",
       " (True, 32.0, 1.0),\n",
       " (True, 32.0, 0.0),\n",
       " (True, 32.0, 0.0),\n",
       " (True, 32.0, 3.0),\n",
       " (True, 32.0, 1.0),\n",
       " (True, 32.0, 3.0),\n",
       " (True, 32.0, 0.0),\n",
       " (True, 32.0, 3.0),\n",
       " (True, 32.0, 0.0),\n",
       " (True, 32.0, 0.0),\n",
       " (True, 32.0, 1.0),\n",
       " (True, 32.0, 3.0),\n",
       " (True, 32.0, 2.0),\n",
       " (True, 32.0, 0.0),\n",
       " (True, 32.0, 0.0),\n",
       " (True, 32.0, 0.0),\n",
       " (True, 32.0, 0.0),\n",
       " (True, 32.0, 0.0),\n",
       " (True, 32.0, 0.0),\n",
       " (True, 32.0, 3.0),\n",
       " (True, 32.0, 3.0),\n",
       " (True, 32.0, 2.0),\n",
       " (True, 32.0, 3.0),\n",
       " (True, 31.0, 1.0),\n",
       " (True, 31.0, 1.0),\n",
       " (True, 31.0, 2.0),\n",
       " (True, 31.0, 0.0),\n",
       " (True, 31.0, 0.0),\n",
       " (True, 31.0, 2.0),\n",
       " (True, 31.0, 4.0),\n",
       " (True, 31.0, 0.0),\n",
       " (True, 31.0, 4.0),\n",
       " (True, 31.0, 3.0),\n",
       " (True, 31.0, 1.0),\n",
       " (True, 31.0, 1.0),\n",
       " (True, 31.0, 0.0),\n",
       " (True, 31.0, 2.0),\n",
       " (True, 31.0, 4.0),\n",
       " (True, 31.0, 3.0),\n",
       " (True, 31.0, 0.0),\n",
       " (True, 31.0, 0.0),\n",
       " (True, 31.0, 1.0),\n",
       " (True, 31.0, 1.0),\n",
       " (True, 31.0, 2.0),\n",
       " (True, 31.0, 4.0),\n",
       " (True, 31.0, 1.0),\n",
       " (True, 31.0, 3.0),\n",
       " (True, 31.0, 4.0),\n",
       " (True, 31.0, 0.0),\n",
       " (True, 31.0, 4.0),\n",
       " (True, 31.0, 4.0),\n",
       " (True, 31.0, 2.0),\n",
       " (True, 31.0, 0.0),\n",
       " (True, 31.0, 2.0),\n",
       " (True, 31.0, 2.0),\n",
       " (True, 31.0, 3.0),\n",
       " (True, 31.0, 0.0),\n",
       " (True, 31.0, 3.0),\n",
       " (True, 31.0, 1.0),\n",
       " (True, 31.0, 2.0),\n",
       " (True, 31.0, 1.0),\n",
       " (True, 31.0, 3.0),\n",
       " (True, 31.0, 1.0),\n",
       " (True, 31.0, 4.0),\n",
       " (True, 30.0, 0.0),\n",
       " (True, 30.0, 1.0),\n",
       " (True, 30.0, 6.0),\n",
       " (True, 30.0, 2.0),\n",
       " (True, 30.0, 0.0),\n",
       " (True, 30.0, 0.0)]"
      ]
     },
     "execution_count": 31,
     "metadata": {},
     "output_type": "execute_result"
    }
   ],
   "source": [
    "points_with_cluster.map(outlier).filter(lambda x: x[0]).take(150)"
   ]
  },
  {
   "cell_type": "code",
   "execution_count": null,
   "metadata": {
    "collapsed": true
   },
   "outputs": [],
   "source": []
  }
 ],
 "metadata": {
  "kernelspec": {
   "display_name": "Python 2",
   "language": "python",
   "name": "python2"
  },
  "language_info": {
   "codemirror_mode": {
    "name": "ipython",
    "version": 2
   },
   "file_extension": ".py",
   "mimetype": "text/x-python",
   "name": "python",
   "nbconvert_exporter": "python",
   "pygments_lexer": "ipython2",
   "version": "2.7.13"
  }
 },
 "nbformat": 4,
 "nbformat_minor": 2
}
