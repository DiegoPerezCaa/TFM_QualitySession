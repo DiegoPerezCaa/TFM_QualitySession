{
 "cells": [
  {
   "cell_type": "code",
   "execution_count": 1,
   "metadata": {
    "collapsed": true
   },
   "outputs": [],
   "source": [
    "import pandas as pd"
   ]
  },
  {
   "cell_type": "code",
   "execution_count": 5,
   "metadata": {
    "collapsed": false,
    "scrolled": true
   },
   "outputs": [
    {
     "data": {
      "text/html": [
       "<div>\n",
       "<style>\n",
       "    .dataframe thead tr:only-child th {\n",
       "        text-align: right;\n",
       "    }\n",
       "\n",
       "    .dataframe thead th {\n",
       "        text-align: left;\n",
       "    }\n",
       "\n",
       "    .dataframe tbody tr th {\n",
       "        vertical-align: top;\n",
       "    }\n",
       "</style>\n",
       "<table border=\"1\" class=\"dataframe\">\n",
       "  <thead>\n",
       "    <tr style=\"text-align: right;\">\n",
       "      <th></th>\n",
       "      <th>ID</th>\n",
       "      <th>Profundidad</th>\n",
       "      <th>sesiones</th>\n",
       "      <th>visualizaciones</th>\n",
       "      <th>visualizacionesUnicas</th>\n",
       "      <th>duracionMediaSesion</th>\n",
       "      <th>visualizacionesPorSesion</th>\n",
       "      <th>visualizacionesUnicasPorSesion</th>\n",
       "      <th>avgTimePage1</th>\n",
       "      <th>avgTimePage2</th>\n",
       "      <th>...</th>\n",
       "      <th>avgTimeInTheProcess</th>\n",
       "      <th>avgTimeOutOfTheProcess</th>\n",
       "      <th>visitsToTheProcess</th>\n",
       "      <th>uniqueVisitsToTheProcess</th>\n",
       "      <th>visitsPage2</th>\n",
       "      <th>uniqueVisitsPage2</th>\n",
       "      <th>visitsPage3</th>\n",
       "      <th>uniqueVisitsPage3</th>\n",
       "      <th>Errores</th>\n",
       "      <th>Y</th>\n",
       "    </tr>\n",
       "  </thead>\n",
       "  <tbody>\n",
       "    <tr>\n",
       "      <th>0</th>\n",
       "      <td>F10001681</td>\n",
       "      <td>1</td>\n",
       "      <td>3</td>\n",
       "      <td>53</td>\n",
       "      <td>16</td>\n",
       "      <td>1246.333333</td>\n",
       "      <td>17.666667</td>\n",
       "      <td>5.333333</td>\n",
       "      <td>10.0</td>\n",
       "      <td>0.000000</td>\n",
       "      <td>...</td>\n",
       "      <td>10.000000</td>\n",
       "      <td>1236.333333</td>\n",
       "      <td>1</td>\n",
       "      <td>1</td>\n",
       "      <td>0.0</td>\n",
       "      <td>0.0</td>\n",
       "      <td>0.0</td>\n",
       "      <td>0.0</td>\n",
       "      <td>0.0</td>\n",
       "      <td>0</td>\n",
       "    </tr>\n",
       "    <tr>\n",
       "      <th>1</th>\n",
       "      <td>F10004567</td>\n",
       "      <td>1</td>\n",
       "      <td>111</td>\n",
       "      <td>1419</td>\n",
       "      <td>409</td>\n",
       "      <td>167.756757</td>\n",
       "      <td>12.783784</td>\n",
       "      <td>3.684685</td>\n",
       "      <td>3.0</td>\n",
       "      <td>0.000000</td>\n",
       "      <td>...</td>\n",
       "      <td>3.000000</td>\n",
       "      <td>164.756757</td>\n",
       "      <td>1</td>\n",
       "      <td>1</td>\n",
       "      <td>0.0</td>\n",
       "      <td>0.0</td>\n",
       "      <td>0.0</td>\n",
       "      <td>0.0</td>\n",
       "      <td>0.0</td>\n",
       "      <td>0</td>\n",
       "    </tr>\n",
       "    <tr>\n",
       "      <th>2</th>\n",
       "      <td>F10007287</td>\n",
       "      <td>4</td>\n",
       "      <td>68</td>\n",
       "      <td>935</td>\n",
       "      <td>301</td>\n",
       "      <td>155.485294</td>\n",
       "      <td>13.750000</td>\n",
       "      <td>4.426471</td>\n",
       "      <td>8.8</td>\n",
       "      <td>7.333333</td>\n",
       "      <td>...</td>\n",
       "      <td>16.133333</td>\n",
       "      <td>139.351961</td>\n",
       "      <td>10</td>\n",
       "      <td>6</td>\n",
       "      <td>4.0</td>\n",
       "      <td>3.0</td>\n",
       "      <td>2.0</td>\n",
       "      <td>1.0</td>\n",
       "      <td>1.0</td>\n",
       "      <td>1</td>\n",
       "    </tr>\n",
       "    <tr>\n",
       "      <th>3</th>\n",
       "      <td>F10019099</td>\n",
       "      <td>4</td>\n",
       "      <td>10</td>\n",
       "      <td>111</td>\n",
       "      <td>48</td>\n",
       "      <td>112.500000</td>\n",
       "      <td>11.100000</td>\n",
       "      <td>4.800000</td>\n",
       "      <td>18.0</td>\n",
       "      <td>5.000000</td>\n",
       "      <td>...</td>\n",
       "      <td>39.000000</td>\n",
       "      <td>73.500000</td>\n",
       "      <td>1</td>\n",
       "      <td>1</td>\n",
       "      <td>1.0</td>\n",
       "      <td>1.0</td>\n",
       "      <td>1.0</td>\n",
       "      <td>1.0</td>\n",
       "      <td>0.0</td>\n",
       "      <td>1</td>\n",
       "    </tr>\n",
       "    <tr>\n",
       "      <th>4</th>\n",
       "      <td>F10020552</td>\n",
       "      <td>1</td>\n",
       "      <td>3</td>\n",
       "      <td>48</td>\n",
       "      <td>15</td>\n",
       "      <td>140.333333</td>\n",
       "      <td>16.000000</td>\n",
       "      <td>5.000000</td>\n",
       "      <td>14.0</td>\n",
       "      <td>0.000000</td>\n",
       "      <td>...</td>\n",
       "      <td>14.000000</td>\n",
       "      <td>126.333333</td>\n",
       "      <td>1</td>\n",
       "      <td>1</td>\n",
       "      <td>0.0</td>\n",
       "      <td>0.0</td>\n",
       "      <td>0.0</td>\n",
       "      <td>0.0</td>\n",
       "      <td>0.0</td>\n",
       "      <td>0</td>\n",
       "    </tr>\n",
       "  </tbody>\n",
       "</table>\n",
       "<p>5 rows × 21 columns</p>\n",
       "</div>"
      ],
      "text/plain": [
       "          ID  Profundidad  sesiones  visualizaciones  visualizacionesUnicas  \\\n",
       "0  F10001681            1         3               53                     16   \n",
       "1  F10004567            1       111             1419                    409   \n",
       "2  F10007287            4        68              935                    301   \n",
       "3  F10019099            4        10              111                     48   \n",
       "4  F10020552            1         3               48                     15   \n",
       "\n",
       "   duracionMediaSesion  visualizacionesPorSesion  \\\n",
       "0          1246.333333                 17.666667   \n",
       "1           167.756757                 12.783784   \n",
       "2           155.485294                 13.750000   \n",
       "3           112.500000                 11.100000   \n",
       "4           140.333333                 16.000000   \n",
       "\n",
       "   visualizacionesUnicasPorSesion  avgTimePage1  avgTimePage2 ...  \\\n",
       "0                        5.333333          10.0      0.000000 ...   \n",
       "1                        3.684685           3.0      0.000000 ...   \n",
       "2                        4.426471           8.8      7.333333 ...   \n",
       "3                        4.800000          18.0      5.000000 ...   \n",
       "4                        5.000000          14.0      0.000000 ...   \n",
       "\n",
       "   avgTimeInTheProcess  avgTimeOutOfTheProcess  visitsToTheProcess  \\\n",
       "0            10.000000             1236.333333                   1   \n",
       "1             3.000000              164.756757                   1   \n",
       "2            16.133333              139.351961                  10   \n",
       "3            39.000000               73.500000                   1   \n",
       "4            14.000000              126.333333                   1   \n",
       "\n",
       "   uniqueVisitsToTheProcess  visitsPage2  uniqueVisitsPage2  visitsPage3  \\\n",
       "0                         1          0.0                0.0          0.0   \n",
       "1                         1          0.0                0.0          0.0   \n",
       "2                         6          4.0                3.0          2.0   \n",
       "3                         1          1.0                1.0          1.0   \n",
       "4                         1          0.0                0.0          0.0   \n",
       "\n",
       "   uniqueVisitsPage3  Errores  Y  \n",
       "0                0.0      0.0  0  \n",
       "1                0.0      0.0  0  \n",
       "2                1.0      1.0  1  \n",
       "3                1.0      0.0  1  \n",
       "4                0.0      0.0  0  \n",
       "\n",
       "[5 rows x 21 columns]"
      ]
     },
     "execution_count": 5,
     "metadata": {},
     "output_type": "execute_result"
    }
   ],
   "source": [
    "tabla = pd.read_csv('../../Archivos_tfm/dataTesting/df_prueba.csv', index_col = 0)\n",
    "tabla.head()"
   ]
  },
  {
   "cell_type": "code",
   "execution_count": 35,
   "metadata": {
    "collapsed": false
   },
   "outputs": [],
   "source": [
    "total_usuarios = len(tabla)\n",
    "page2_usuarios = len(tabla[tabla['Profundidad']>=2])\n",
    "page3_usuarios = len(tabla[tabla['Profundidad']>=3])\n",
    "page4_usuarios = len(tabla[tabla['Profundidad']>=4])\n",
    "\n",
    "data_table = [['página', 'usuarios'],\n",
    "              ['Accesos', total_usuarios],\n",
    "              ['Page2', page2_usuarios],\n",
    "              ['Page3', page3_usuarios],\n",
    "              ['Page4', page4_usuarios]]"
   ]
  },
  {
   "cell_type": "code",
   "execution_count": 4,
   "metadata": {
    "collapsed": true
   },
   "outputs": [],
   "source": [
    "pd.read_csv??"
   ]
  },
  {
   "cell_type": "code",
   "execution_count": 24,
   "metadata": {
    "collapsed": false
   },
   "outputs": [
    {
     "data": {
      "text/html": [
       "<script>requirejs.config({paths: { 'plotly': ['https://cdn.plot.ly/plotly-latest.min']},});if(!window.Plotly) {{require(['plotly'],function(plotly) {window.Plotly=plotly;});}}</script>"
      ],
      "text/vnd.plotly.v1+html": [
       "<script>requirejs.config({paths: { 'plotly': ['https://cdn.plot.ly/plotly-latest.min']},});if(!window.Plotly) {{require(['plotly'],function(plotly) {window.Plotly=plotly;});}}</script>"
      ]
     },
     "metadata": {},
     "output_type": "display_data"
    }
   ],
   "source": [
    "import plotly.offline as py\n",
    "import plotly.figure_factory as ff\n",
    "from __future__ import division\n",
    "from plotly import graph_objs as go\n",
    "py.init_notebook_mode(connected=True)"
   ]
  },
  {
   "cell_type": "code",
   "execution_count": 36,
   "metadata": {
    "collapsed": false
   },
   "outputs": [
    {
     "data": {
      "application/vnd.plotly.v1+json": {
       "data": [
        {
         "colorscale": [
          [
           0,
           "#00083e"
          ],
          [
           0.5,
           "#ededee"
          ],
          [
           1,
           "#ffffff"
          ]
         ],
         "hoverinfo": "none",
         "opacity": 0.75,
         "showscale": false,
         "type": "heatmap",
         "z": [
          [
           0,
           0
          ],
          [
           0.5,
           0.5
          ],
          [
           1,
           1
          ],
          [
           0.5,
           0.5
          ],
          [
           1,
           1
          ]
         ]
        }
       ],
       "layout": {
        "annotations": [
         {
          "align": "left",
          "font": {
           "color": "#ffffff"
          },
          "showarrow": false,
          "text": "<b>página</b>",
          "x": -0.45,
          "xanchor": "left",
          "xref": "x1",
          "y": 0,
          "yref": "y1"
         },
         {
          "align": "left",
          "font": {
           "color": "#ffffff"
          },
          "showarrow": false,
          "text": "<b>usuarios</b>",
          "x": 0.55,
          "xanchor": "left",
          "xref": "x1",
          "y": 0,
          "yref": "y1"
         },
         {
          "align": "left",
          "font": {
           "color": "#000000"
          },
          "showarrow": false,
          "text": "Accesos",
          "x": -0.45,
          "xanchor": "left",
          "xref": "x1",
          "y": 1,
          "yref": "y1"
         },
         {
          "align": "left",
          "font": {
           "color": "#000000"
          },
          "showarrow": false,
          "text": "15130",
          "x": 0.55,
          "xanchor": "left",
          "xref": "x1",
          "y": 1,
          "yref": "y1"
         },
         {
          "align": "left",
          "font": {
           "color": "#000000"
          },
          "showarrow": false,
          "text": "Page2",
          "x": -0.45,
          "xanchor": "left",
          "xref": "x1",
          "y": 2,
          "yref": "y1"
         },
         {
          "align": "left",
          "font": {
           "color": "#000000"
          },
          "showarrow": false,
          "text": "7846",
          "x": 0.55,
          "xanchor": "left",
          "xref": "x1",
          "y": 2,
          "yref": "y1"
         },
         {
          "align": "left",
          "font": {
           "color": "#000000"
          },
          "showarrow": false,
          "text": "Page3",
          "x": -0.45,
          "xanchor": "left",
          "xref": "x1",
          "y": 3,
          "yref": "y1"
         },
         {
          "align": "left",
          "font": {
           "color": "#000000"
          },
          "showarrow": false,
          "text": "6975",
          "x": 0.55,
          "xanchor": "left",
          "xref": "x1",
          "y": 3,
          "yref": "y1"
         },
         {
          "align": "left",
          "font": {
           "color": "#000000"
          },
          "showarrow": false,
          "text": "Page4",
          "x": -0.45,
          "xanchor": "left",
          "xref": "x1",
          "y": 4,
          "yref": "y1"
         },
         {
          "align": "left",
          "font": {
           "color": "#000000"
          },
          "showarrow": false,
          "text": "6654",
          "x": 0.55,
          "xanchor": "left",
          "xref": "x1",
          "y": 4,
          "yref": "y1"
         }
        ],
        "height": 200,
        "margin": {
         "b": 0,
         "l": 0,
         "r": 0,
         "t": 0
        },
        "xaxis": {
         "dtick": 1,
         "gridwidth": 2,
         "showticklabels": false,
         "tick0": -0.5,
         "ticks": "",
         "zeroline": false
        },
        "yaxis": {
         "autorange": "reversed",
         "dtick": 1,
         "gridwidth": 2,
         "showticklabels": false,
         "tick0": 0.5,
         "ticks": "",
         "zeroline": false
        }
       }
      },
      "text/html": [
       "<div id=\"c331e5d5-a583-4b24-91e5-7e3e3a0421ab\" style=\"height: 200px; width: 100%;\" class=\"plotly-graph-div\"></div><script type=\"text/javascript\">require([\"plotly\"], function(Plotly) { window.PLOTLYENV=window.PLOTLYENV || {};window.PLOTLYENV.BASE_URL=\"https://plot.ly\";Plotly.newPlot(\"c331e5d5-a583-4b24-91e5-7e3e3a0421ab\", [{\"opacity\": 0.75, \"colorscale\": [[0, \"#00083e\"], [0.5, \"#ededee\"], [1, \"#ffffff\"]], \"showscale\": false, \"hoverinfo\": \"none\", \"z\": [[0, 0], [0.5, 0.5], [1, 1], [0.5, 0.5], [1, 1]], \"type\": \"heatmap\"}], {\"yaxis\": {\"showticklabels\": false, \"tick0\": 0.5, \"ticks\": \"\", \"gridwidth\": 2, \"dtick\": 1, \"zeroline\": false, \"autorange\": \"reversed\"}, \"margin\": {\"r\": 0, \"b\": 0, \"l\": 0, \"t\": 0}, \"annotations\": [{\"xref\": \"x1\", \"xanchor\": \"left\", \"yref\": \"y1\", \"text\": \"<b>p\\u00e1gina</b>\", \"align\": \"left\", \"y\": 0, \"x\": -0.45, \"font\": {\"color\": \"#ffffff\"}, \"showarrow\": false}, {\"xref\": \"x1\", \"xanchor\": \"left\", \"yref\": \"y1\", \"text\": \"<b>usuarios</b>\", \"align\": \"left\", \"y\": 0, \"x\": 0.55, \"font\": {\"color\": \"#ffffff\"}, \"showarrow\": false}, {\"xref\": \"x1\", \"xanchor\": \"left\", \"yref\": \"y1\", \"text\": \"Accesos\", \"align\": \"left\", \"y\": 1, \"x\": -0.45, \"font\": {\"color\": \"#000000\"}, \"showarrow\": false}, {\"xref\": \"x1\", \"xanchor\": \"left\", \"yref\": \"y1\", \"text\": \"15130\", \"align\": \"left\", \"y\": 1, \"x\": 0.55, \"font\": {\"color\": \"#000000\"}, \"showarrow\": false}, {\"xref\": \"x1\", \"xanchor\": \"left\", \"yref\": \"y1\", \"text\": \"Page2\", \"align\": \"left\", \"y\": 2, \"x\": -0.45, \"font\": {\"color\": \"#000000\"}, \"showarrow\": false}, {\"xref\": \"x1\", \"xanchor\": \"left\", \"yref\": \"y1\", \"text\": \"7846\", \"align\": \"left\", \"y\": 2, \"x\": 0.55, \"font\": {\"color\": \"#000000\"}, \"showarrow\": false}, {\"xref\": \"x1\", \"xanchor\": \"left\", \"yref\": \"y1\", \"text\": \"Page3\", \"align\": \"left\", \"y\": 3, \"x\": -0.45, \"font\": {\"color\": \"#000000\"}, \"showarrow\": false}, {\"xref\": \"x1\", \"xanchor\": \"left\", \"yref\": \"y1\", \"text\": \"6975\", \"align\": \"left\", \"y\": 3, \"x\": 0.55, \"font\": {\"color\": \"#000000\"}, \"showarrow\": false}, {\"xref\": \"x1\", \"xanchor\": \"left\", \"yref\": \"y1\", \"text\": \"Page4\", \"align\": \"left\", \"y\": 4, \"x\": -0.45, \"font\": {\"color\": \"#000000\"}, \"showarrow\": false}, {\"xref\": \"x1\", \"xanchor\": \"left\", \"yref\": \"y1\", \"text\": \"6654\", \"align\": \"left\", \"y\": 4, \"x\": 0.55, \"font\": {\"color\": \"#000000\"}, \"showarrow\": false}], \"xaxis\": {\"showticklabels\": false, \"tick0\": -0.5, \"ticks\": \"\", \"gridwidth\": 2, \"dtick\": 1, \"zeroline\": false}, \"height\": 200}, {\"linkText\": \"Export to plot.ly\", \"showLink\": true})});</script>"
      ],
      "text/vnd.plotly.v1+html": [
       "<div id=\"c331e5d5-a583-4b24-91e5-7e3e3a0421ab\" style=\"height: 200px; width: 100%;\" class=\"plotly-graph-div\"></div><script type=\"text/javascript\">require([\"plotly\"], function(Plotly) { window.PLOTLYENV=window.PLOTLYENV || {};window.PLOTLYENV.BASE_URL=\"https://plot.ly\";Plotly.newPlot(\"c331e5d5-a583-4b24-91e5-7e3e3a0421ab\", [{\"opacity\": 0.75, \"colorscale\": [[0, \"#00083e\"], [0.5, \"#ededee\"], [1, \"#ffffff\"]], \"showscale\": false, \"hoverinfo\": \"none\", \"z\": [[0, 0], [0.5, 0.5], [1, 1], [0.5, 0.5], [1, 1]], \"type\": \"heatmap\"}], {\"yaxis\": {\"showticklabels\": false, \"tick0\": 0.5, \"ticks\": \"\", \"gridwidth\": 2, \"dtick\": 1, \"zeroline\": false, \"autorange\": \"reversed\"}, \"margin\": {\"r\": 0, \"b\": 0, \"l\": 0, \"t\": 0}, \"annotations\": [{\"xref\": \"x1\", \"xanchor\": \"left\", \"yref\": \"y1\", \"text\": \"<b>p\\u00e1gina</b>\", \"align\": \"left\", \"y\": 0, \"x\": -0.45, \"font\": {\"color\": \"#ffffff\"}, \"showarrow\": false}, {\"xref\": \"x1\", \"xanchor\": \"left\", \"yref\": \"y1\", \"text\": \"<b>usuarios</b>\", \"align\": \"left\", \"y\": 0, \"x\": 0.55, \"font\": {\"color\": \"#ffffff\"}, \"showarrow\": false}, {\"xref\": \"x1\", \"xanchor\": \"left\", \"yref\": \"y1\", \"text\": \"Accesos\", \"align\": \"left\", \"y\": 1, \"x\": -0.45, \"font\": {\"color\": \"#000000\"}, \"showarrow\": false}, {\"xref\": \"x1\", \"xanchor\": \"left\", \"yref\": \"y1\", \"text\": \"15130\", \"align\": \"left\", \"y\": 1, \"x\": 0.55, \"font\": {\"color\": \"#000000\"}, \"showarrow\": false}, {\"xref\": \"x1\", \"xanchor\": \"left\", \"yref\": \"y1\", \"text\": \"Page2\", \"align\": \"left\", \"y\": 2, \"x\": -0.45, \"font\": {\"color\": \"#000000\"}, \"showarrow\": false}, {\"xref\": \"x1\", \"xanchor\": \"left\", \"yref\": \"y1\", \"text\": \"7846\", \"align\": \"left\", \"y\": 2, \"x\": 0.55, \"font\": {\"color\": \"#000000\"}, \"showarrow\": false}, {\"xref\": \"x1\", \"xanchor\": \"left\", \"yref\": \"y1\", \"text\": \"Page3\", \"align\": \"left\", \"y\": 3, \"x\": -0.45, \"font\": {\"color\": \"#000000\"}, \"showarrow\": false}, {\"xref\": \"x1\", \"xanchor\": \"left\", \"yref\": \"y1\", \"text\": \"6975\", \"align\": \"left\", \"y\": 3, \"x\": 0.55, \"font\": {\"color\": \"#000000\"}, \"showarrow\": false}, {\"xref\": \"x1\", \"xanchor\": \"left\", \"yref\": \"y1\", \"text\": \"Page4\", \"align\": \"left\", \"y\": 4, \"x\": -0.45, \"font\": {\"color\": \"#000000\"}, \"showarrow\": false}, {\"xref\": \"x1\", \"xanchor\": \"left\", \"yref\": \"y1\", \"text\": \"6654\", \"align\": \"left\", \"y\": 4, \"x\": 0.55, \"font\": {\"color\": \"#000000\"}, \"showarrow\": false}], \"xaxis\": {\"showticklabels\": false, \"tick0\": -0.5, \"ticks\": \"\", \"gridwidth\": 2, \"dtick\": 1, \"zeroline\": false}, \"height\": 200}, {\"linkText\": \"Export to plot.ly\", \"showLink\": true})});</script>"
      ]
     },
     "metadata": {},
     "output_type": "display_data"
    }
   ],
   "source": [
    "\n",
    "\n",
    "table = ff.create_table(data_table)\n",
    "py.iplot(table)"
   ]
  },
  {
   "cell_type": "code",
   "execution_count": 45,
   "metadata": {
    "collapsed": true
   },
   "outputs": [],
   "source": [
    "# chart stages data\n",
    "values = [total_usuarios , page2_usuarios, page3_usuarios, page4_usuarios]\n",
    "phases = ['Accesos' , 'page2', 'Page3', 'Page4']\n",
    "\n",
    "# color of each funnel section\n",
    "colors = ['rgb(182,231,235)','rgb(32,155,160)', 'rgb(28,119,139)', 'rgb(253,93,124)']"
   ]
  },
  {
   "cell_type": "code",
   "execution_count": 46,
   "metadata": {
    "collapsed": true
   },
   "outputs": [],
   "source": [
    "n_phase = len(phases)\n",
    "plot_width = 400\n",
    "\n",
    "# height of a section and difference between sections \n",
    "section_h = 100\n",
    "section_d = 10\n",
    "\n",
    "# multiplication factor to calculate the width of other sections\n",
    "unit_width = plot_width / max(values)\n",
    "\n",
    "# width of each funnel section relative to the plot width\n",
    "phase_w = [int(value * unit_width) for value in values]\n",
    "\n",
    "# plot height based on the number of sections and the gap in between them\n",
    "height = section_h * n_phase + section_d * (n_phase - 1)"
   ]
  },
  {
   "cell_type": "code",
   "execution_count": 47,
   "metadata": {
    "collapsed": false
   },
   "outputs": [],
   "source": [
    "# list containing all the plot shapes\n",
    "shapes = []\n",
    "\n",
    "# list containing the Y-axis location for each section's name and value text\n",
    "label_y = []\n",
    "\n",
    "for i in range(n_phase):\n",
    "        if (i == n_phase-1):\n",
    "                points = [phase_w[i] / 2, height, phase_w[i] / 2, height - section_h]\n",
    "        else:\n",
    "                points = [phase_w[i] / 2, height, phase_w[i+1] / 2, height - section_h]\n",
    "\n",
    "        path = 'M {0} {1} L {2} {3} L -{2} {3} L -{0} {1} Z'.format(*points)\n",
    "\n",
    "        shape = {\n",
    "                'type': 'path',\n",
    "                'path': path,\n",
    "                'fillcolor': colors[i],\n",
    "                'line': {\n",
    "                    'width': 1,\n",
    "                    'color': colors[i]\n",
    "                }\n",
    "        }\n",
    "        shapes.append(shape)\n",
    "        \n",
    "        # Y-axis location for this section's details (text)\n",
    "        label_y.append(height - (section_h / 2))\n",
    "\n",
    "        height = height - (section_h + section_d)"
   ]
  },
  {
   "cell_type": "code",
   "execution_count": 48,
   "metadata": {
    "collapsed": false
   },
   "outputs": [
    {
     "data": {
      "application/vnd.plotly.v1+json": {
       "data": [
        {
         "mode": "text",
         "text": [
          "Accesos",
          "page2",
          "Page3",
          "Page4"
         ],
         "textfont": {
          "color": "rgb(200,200,200)",
          "size": 15
         },
         "type": "scatter",
         "x": [
          -350,
          -350,
          -350,
          -350
         ],
         "y": [
          380,
          270,
          160,
          50
         ]
        },
        {
         "mode": "text",
         "text": [
          15130,
          7846,
          6975,
          6654
         ],
         "textfont": {
          "color": "rgb(200,200,200)",
          "size": 15
         },
         "type": "scatter",
         "x": [
          350,
          350,
          350,
          350
         ],
         "y": [
          380,
          270,
          160,
          50
         ]
        }
       ],
       "layout": {
        "height": 560,
        "paper_bgcolor": "rgba(44,58,71,1)",
        "plot_bgcolor": "rgba(44,58,71,1)",
        "shapes": [
         {
          "fillcolor": "rgb(182,231,235)",
          "line": {
           "color": "rgb(182,231,235)",
           "width": 1
          },
          "path": "M 200.0 430 L 103.5 330 L -103.5 330 L -200.0 430 Z",
          "type": "path"
         },
         {
          "fillcolor": "rgb(32,155,160)",
          "line": {
           "color": "rgb(32,155,160)",
           "width": 1
          },
          "path": "M 103.5 320 L 92.0 220 L -92.0 220 L -103.5 320 Z",
          "type": "path"
         },
         {
          "fillcolor": "rgb(28,119,139)",
          "line": {
           "color": "rgb(28,119,139)",
           "width": 1
          },
          "path": "M 92.0 210 L 87.5 110 L -87.5 110 L -92.0 210 Z",
          "type": "path"
         },
         {
          "fillcolor": "rgb(253,93,124)",
          "line": {
           "color": "rgb(253,93,124)",
           "width": 1
          },
          "path": "M 87.5 100 L 87.5 0 L -87.5 0 L -87.5 100 Z",
          "type": "path"
         }
        ],
        "showlegend": false,
        "title": "<b>Funnel Chart</b>",
        "titlefont": {
         "color": "rgb(203,203,203)",
         "size": 20
        },
        "width": 800,
        "xaxis": {
         "showticklabels": false,
         "zeroline": false
        },
        "yaxis": {
         "showticklabels": false,
         "zeroline": false
        }
       }
      },
      "text/html": [
       "<div id=\"1e1e92f3-1fc3-42f4-84e0-6fc2b68fc2a7\" style=\"height: 560px; width: 800px;\" class=\"plotly-graph-div\"></div><script type=\"text/javascript\">require([\"plotly\"], function(Plotly) { window.PLOTLYENV=window.PLOTLYENV || {};window.PLOTLYENV.BASE_URL=\"https://plot.ly\";Plotly.newPlot(\"1e1e92f3-1fc3-42f4-84e0-6fc2b68fc2a7\", [{\"textfont\": {\"color\": \"rgb(200,200,200)\", \"size\": 15}, \"text\": [\"Accesos\", \"page2\", \"Page3\", \"Page4\"], \"mode\": \"text\", \"y\": [380.0, 270.0, 160.0, 50.0], \"x\": [-350, -350, -350, -350], \"type\": \"scatter\"}, {\"textfont\": {\"color\": \"rgb(200,200,200)\", \"size\": 15}, \"text\": [15130, 7846, 6975, 6654], \"mode\": \"text\", \"y\": [380.0, 270.0, 160.0, 50.0], \"x\": [350, 350, 350, 350], \"type\": \"scatter\"}], {\"showlegend\": false, \"yaxis\": {\"zeroline\": false, \"showticklabels\": false}, \"paper_bgcolor\": \"rgba(44,58,71,1)\", \"plot_bgcolor\": \"rgba(44,58,71,1)\", \"title\": \"<b>Funnel Chart</b>\", \"height\": 560, \"shapes\": [{\"path\": \"M 200.0 430 L 103.5 330 L -103.5 330 L -200.0 430 Z\", \"line\": {\"color\": \"rgb(182,231,235)\", \"width\": 1}, \"type\": \"path\", \"fillcolor\": \"rgb(182,231,235)\"}, {\"path\": \"M 103.5 320 L 92.0 220 L -92.0 220 L -103.5 320 Z\", \"line\": {\"color\": \"rgb(32,155,160)\", \"width\": 1}, \"type\": \"path\", \"fillcolor\": \"rgb(32,155,160)\"}, {\"path\": \"M 92.0 210 L 87.5 110 L -87.5 110 L -92.0 210 Z\", \"line\": {\"color\": \"rgb(28,119,139)\", \"width\": 1}, \"type\": \"path\", \"fillcolor\": \"rgb(28,119,139)\"}, {\"path\": \"M 87.5 100 L 87.5 0 L -87.5 0 L -87.5 100 Z\", \"line\": {\"color\": \"rgb(253,93,124)\", \"width\": 1}, \"type\": \"path\", \"fillcolor\": \"rgb(253,93,124)\"}], \"width\": 800, \"titlefont\": {\"color\": \"rgb(203,203,203)\", \"size\": 20}, \"xaxis\": {\"zeroline\": false, \"showticklabels\": false}}, {\"linkText\": \"Export to plot.ly\", \"showLink\": true})});</script>"
      ],
      "text/vnd.plotly.v1+html": [
       "<div id=\"1e1e92f3-1fc3-42f4-84e0-6fc2b68fc2a7\" style=\"height: 560px; width: 800px;\" class=\"plotly-graph-div\"></div><script type=\"text/javascript\">require([\"plotly\"], function(Plotly) { window.PLOTLYENV=window.PLOTLYENV || {};window.PLOTLYENV.BASE_URL=\"https://plot.ly\";Plotly.newPlot(\"1e1e92f3-1fc3-42f4-84e0-6fc2b68fc2a7\", [{\"textfont\": {\"color\": \"rgb(200,200,200)\", \"size\": 15}, \"text\": [\"Accesos\", \"page2\", \"Page3\", \"Page4\"], \"mode\": \"text\", \"y\": [380.0, 270.0, 160.0, 50.0], \"x\": [-350, -350, -350, -350], \"type\": \"scatter\"}, {\"textfont\": {\"color\": \"rgb(200,200,200)\", \"size\": 15}, \"text\": [15130, 7846, 6975, 6654], \"mode\": \"text\", \"y\": [380.0, 270.0, 160.0, 50.0], \"x\": [350, 350, 350, 350], \"type\": \"scatter\"}], {\"showlegend\": false, \"yaxis\": {\"zeroline\": false, \"showticklabels\": false}, \"paper_bgcolor\": \"rgba(44,58,71,1)\", \"plot_bgcolor\": \"rgba(44,58,71,1)\", \"title\": \"<b>Funnel Chart</b>\", \"height\": 560, \"shapes\": [{\"path\": \"M 200.0 430 L 103.5 330 L -103.5 330 L -200.0 430 Z\", \"line\": {\"color\": \"rgb(182,231,235)\", \"width\": 1}, \"type\": \"path\", \"fillcolor\": \"rgb(182,231,235)\"}, {\"path\": \"M 103.5 320 L 92.0 220 L -92.0 220 L -103.5 320 Z\", \"line\": {\"color\": \"rgb(32,155,160)\", \"width\": 1}, \"type\": \"path\", \"fillcolor\": \"rgb(32,155,160)\"}, {\"path\": \"M 92.0 210 L 87.5 110 L -87.5 110 L -92.0 210 Z\", \"line\": {\"color\": \"rgb(28,119,139)\", \"width\": 1}, \"type\": \"path\", \"fillcolor\": \"rgb(28,119,139)\"}, {\"path\": \"M 87.5 100 L 87.5 0 L -87.5 0 L -87.5 100 Z\", \"line\": {\"color\": \"rgb(253,93,124)\", \"width\": 1}, \"type\": \"path\", \"fillcolor\": \"rgb(253,93,124)\"}], \"width\": 800, \"titlefont\": {\"color\": \"rgb(203,203,203)\", \"size\": 20}, \"xaxis\": {\"zeroline\": false, \"showticklabels\": false}}, {\"linkText\": \"Export to plot.ly\", \"showLink\": true})});</script>"
      ]
     },
     "metadata": {},
     "output_type": "display_data"
    }
   ],
   "source": [
    "# For phase names\n",
    "label_trace = go.Scatter(\n",
    "    x=[-350]*n_phase,\n",
    "    y=label_y,\n",
    "    mode='text',\n",
    "    text=phases,\n",
    "    textfont=dict(\n",
    "        color='rgb(200,200,200)',\n",
    "        size=15\n",
    "    )\n",
    ")\n",
    " \n",
    "# For phase values\n",
    "value_trace = go.Scatter(\n",
    "    x=[350]*n_phase,\n",
    "    y=label_y,\n",
    "    mode='text',\n",
    "    text=values,\n",
    "    textfont=dict(\n",
    "        color='rgb(200,200,200)',\n",
    "        size=15\n",
    "    )\n",
    ")\n",
    "\n",
    "data = [label_trace, value_trace]\n",
    " \n",
    "layout = go.Layout(\n",
    "    title=\"<b>Funnel Chart</b>\",\n",
    "    titlefont=dict(\n",
    "        size=20,\n",
    "        color='rgb(203,203,203)'\n",
    "    ),\n",
    "    shapes=shapes,\n",
    "    height=560,\n",
    "    width=800,\n",
    "    showlegend=False,\n",
    "    paper_bgcolor='rgba(44,58,71,1)',\n",
    "    plot_bgcolor='rgba(44,58,71,1)',\n",
    "    xaxis=dict(\n",
    "        showticklabels=False,\n",
    "        zeroline=False,\n",
    "    ),\n",
    "    yaxis=dict(\n",
    "        showticklabels=False,\n",
    "        zeroline=False\n",
    "    )\n",
    ")\n",
    " \n",
    "fig = go.Figure(data=data, layout=layout)\n",
    "py.iplot(fig)"
   ]
  },
  {
   "cell_type": "code",
   "execution_count": null,
   "metadata": {
    "collapsed": true
   },
   "outputs": [],
   "source": []
  },
  {
   "cell_type": "code",
   "execution_count": null,
   "metadata": {
    "collapsed": true
   },
   "outputs": [],
   "source": []
  }
 ],
 "metadata": {
  "kernelspec": {
   "display_name": "Python 2",
   "language": "python",
   "name": "python2"
  },
  "language_info": {
   "codemirror_mode": {
    "name": "ipython",
    "version": 2
   },
   "file_extension": ".py",
   "mimetype": "text/x-python",
   "name": "python",
   "nbconvert_exporter": "python",
   "pygments_lexer": "ipython2",
   "version": "2.7.13"
  }
 },
 "nbformat": 4,
 "nbformat_minor": 2
}
