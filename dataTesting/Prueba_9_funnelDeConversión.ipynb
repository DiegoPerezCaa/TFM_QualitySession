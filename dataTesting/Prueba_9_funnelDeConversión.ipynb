{
 "cells": [
  {
   "cell_type": "code",
   "execution_count": 1,
   "metadata": {
    "collapsed": true,
    "deletable": true,
    "editable": true
   },
   "outputs": [],
   "source": [
    "import pandas as pd"
   ]
  },
  {
   "cell_type": "code",
   "execution_count": 5,
   "metadata": {
    "collapsed": false,
    "deletable": true,
    "editable": true,
    "scrolled": true
   },
   "outputs": [
    {
     "data": {
      "text/html": [
       "<div>\n",
       "<style>\n",
       "    .dataframe thead tr:only-child th {\n",
       "        text-align: right;\n",
       "    }\n",
       "\n",
       "    .dataframe thead th {\n",
       "        text-align: left;\n",
       "    }\n",
       "\n",
       "    .dataframe tbody tr th {\n",
       "        vertical-align: top;\n",
       "    }\n",
       "</style>\n",
       "<table border=\"1\" class=\"dataframe\">\n",
       "  <thead>\n",
       "    <tr style=\"text-align: right;\">\n",
       "      <th></th>\n",
       "      <th>ID</th>\n",
       "      <th>Profundidad</th>\n",
       "      <th>sesiones</th>\n",
       "      <th>visualizaciones</th>\n",
       "      <th>visualizacionesUnicas</th>\n",
       "      <th>duracionMediaSesion</th>\n",
       "      <th>visualizacionesPorSesion</th>\n",
       "      <th>visualizacionesUnicasPorSesion</th>\n",
       "      <th>avgTimePage1</th>\n",
       "      <th>avgTimePage2</th>\n",
       "      <th>...</th>\n",
       "      <th>avgTimeInTheProcess</th>\n",
       "      <th>avgTimeOutOfTheProcess</th>\n",
       "      <th>visitsToTheProcess</th>\n",
       "      <th>uniqueVisitsToTheProcess</th>\n",
       "      <th>visitsPage2</th>\n",
       "      <th>uniqueVisitsPage2</th>\n",
       "      <th>visitsPage3</th>\n",
       "      <th>uniqueVisitsPage3</th>\n",
       "      <th>Errores</th>\n",
       "      <th>Y</th>\n",
       "    </tr>\n",
       "  </thead>\n",
       "  <tbody>\n",
       "    <tr>\n",
       "      <th>0</th>\n",
       "      <td>F10001681</td>\n",
       "      <td>1</td>\n",
       "      <td>3</td>\n",
       "      <td>53</td>\n",
       "      <td>16</td>\n",
       "      <td>1246.333333</td>\n",
       "      <td>17.666667</td>\n",
       "      <td>5.333333</td>\n",
       "      <td>10.0</td>\n",
       "      <td>0.000000</td>\n",
       "      <td>...</td>\n",
       "      <td>10.000000</td>\n",
       "      <td>1236.333333</td>\n",
       "      <td>1</td>\n",
       "      <td>1</td>\n",
       "      <td>0.0</td>\n",
       "      <td>0.0</td>\n",
       "      <td>0.0</td>\n",
       "      <td>0.0</td>\n",
       "      <td>0.0</td>\n",
       "      <td>0</td>\n",
       "    </tr>\n",
       "    <tr>\n",
       "      <th>1</th>\n",
       "      <td>F10004567</td>\n",
       "      <td>1</td>\n",
       "      <td>111</td>\n",
       "      <td>1419</td>\n",
       "      <td>409</td>\n",
       "      <td>167.756757</td>\n",
       "      <td>12.783784</td>\n",
       "      <td>3.684685</td>\n",
       "      <td>3.0</td>\n",
       "      <td>0.000000</td>\n",
       "      <td>...</td>\n",
       "      <td>3.000000</td>\n",
       "      <td>164.756757</td>\n",
       "      <td>1</td>\n",
       "      <td>1</td>\n",
       "      <td>0.0</td>\n",
       "      <td>0.0</td>\n",
       "      <td>0.0</td>\n",
       "      <td>0.0</td>\n",
       "      <td>0.0</td>\n",
       "      <td>0</td>\n",
       "    </tr>\n",
       "    <tr>\n",
       "      <th>2</th>\n",
       "      <td>F10007287</td>\n",
       "      <td>4</td>\n",
       "      <td>68</td>\n",
       "      <td>935</td>\n",
       "      <td>301</td>\n",
       "      <td>155.485294</td>\n",
       "      <td>13.750000</td>\n",
       "      <td>4.426471</td>\n",
       "      <td>8.8</td>\n",
       "      <td>7.333333</td>\n",
       "      <td>...</td>\n",
       "      <td>16.133333</td>\n",
       "      <td>139.351961</td>\n",
       "      <td>10</td>\n",
       "      <td>6</td>\n",
       "      <td>4.0</td>\n",
       "      <td>3.0</td>\n",
       "      <td>2.0</td>\n",
       "      <td>1.0</td>\n",
       "      <td>1.0</td>\n",
       "      <td>1</td>\n",
       "    </tr>\n",
       "    <tr>\n",
       "      <th>3</th>\n",
       "      <td>F10019099</td>\n",
       "      <td>4</td>\n",
       "      <td>10</td>\n",
       "      <td>111</td>\n",
       "      <td>48</td>\n",
       "      <td>112.500000</td>\n",
       "      <td>11.100000</td>\n",
       "      <td>4.800000</td>\n",
       "      <td>18.0</td>\n",
       "      <td>5.000000</td>\n",
       "      <td>...</td>\n",
       "      <td>39.000000</td>\n",
       "      <td>73.500000</td>\n",
       "      <td>1</td>\n",
       "      <td>1</td>\n",
       "      <td>1.0</td>\n",
       "      <td>1.0</td>\n",
       "      <td>1.0</td>\n",
       "      <td>1.0</td>\n",
       "      <td>0.0</td>\n",
       "      <td>1</td>\n",
       "    </tr>\n",
       "    <tr>\n",
       "      <th>4</th>\n",
       "      <td>F10020552</td>\n",
       "      <td>1</td>\n",
       "      <td>3</td>\n",
       "      <td>48</td>\n",
       "      <td>15</td>\n",
       "      <td>140.333333</td>\n",
       "      <td>16.000000</td>\n",
       "      <td>5.000000</td>\n",
       "      <td>14.0</td>\n",
       "      <td>0.000000</td>\n",
       "      <td>...</td>\n",
       "      <td>14.000000</td>\n",
       "      <td>126.333333</td>\n",
       "      <td>1</td>\n",
       "      <td>1</td>\n",
       "      <td>0.0</td>\n",
       "      <td>0.0</td>\n",
       "      <td>0.0</td>\n",
       "      <td>0.0</td>\n",
       "      <td>0.0</td>\n",
       "      <td>0</td>\n",
       "    </tr>\n",
       "  </tbody>\n",
       "</table>\n",
       "<p>5 rows × 21 columns</p>\n",
       "</div>"
      ],
      "text/plain": [
       "          ID  Profundidad  sesiones  visualizaciones  visualizacionesUnicas  \\\n",
       "0  F10001681            1         3               53                     16   \n",
       "1  F10004567            1       111             1419                    409   \n",
       "2  F10007287            4        68              935                    301   \n",
       "3  F10019099            4        10              111                     48   \n",
       "4  F10020552            1         3               48                     15   \n",
       "\n",
       "   duracionMediaSesion  visualizacionesPorSesion  \\\n",
       "0          1246.333333                 17.666667   \n",
       "1           167.756757                 12.783784   \n",
       "2           155.485294                 13.750000   \n",
       "3           112.500000                 11.100000   \n",
       "4           140.333333                 16.000000   \n",
       "\n",
       "   visualizacionesUnicasPorSesion  avgTimePage1  avgTimePage2 ...  \\\n",
       "0                        5.333333          10.0      0.000000 ...   \n",
       "1                        3.684685           3.0      0.000000 ...   \n",
       "2                        4.426471           8.8      7.333333 ...   \n",
       "3                        4.800000          18.0      5.000000 ...   \n",
       "4                        5.000000          14.0      0.000000 ...   \n",
       "\n",
       "   avgTimeInTheProcess  avgTimeOutOfTheProcess  visitsToTheProcess  \\\n",
       "0            10.000000             1236.333333                   1   \n",
       "1             3.000000              164.756757                   1   \n",
       "2            16.133333              139.351961                  10   \n",
       "3            39.000000               73.500000                   1   \n",
       "4            14.000000              126.333333                   1   \n",
       "\n",
       "   uniqueVisitsToTheProcess  visitsPage2  uniqueVisitsPage2  visitsPage3  \\\n",
       "0                         1          0.0                0.0          0.0   \n",
       "1                         1          0.0                0.0          0.0   \n",
       "2                         6          4.0                3.0          2.0   \n",
       "3                         1          1.0                1.0          1.0   \n",
       "4                         1          0.0                0.0          0.0   \n",
       "\n",
       "   uniqueVisitsPage3  Errores  Y  \n",
       "0                0.0      0.0  0  \n",
       "1                0.0      0.0  0  \n",
       "2                1.0      1.0  1  \n",
       "3                1.0      0.0  1  \n",
       "4                0.0      0.0  0  \n",
       "\n",
       "[5 rows x 21 columns]"
      ]
     },
     "execution_count": 5,
     "metadata": {},
     "output_type": "execute_result"
    }
   ],
   "source": [
    "tabla = pd.read_csv('../../Archivos_tfm/dataTesting/df_prueba.csv', index_col = 0)\n",
    "tabla.head()"
   ]
  },
  {
   "cell_type": "code",
   "execution_count": 35,
   "metadata": {
    "collapsed": false,
    "deletable": true,
    "editable": true
   },
   "outputs": [],
   "source": [
    "total_usuarios = len(tabla)\n",
    "page2_usuarios = len(tabla[tabla['Profundidad']>=2])\n",
    "page3_usuarios = len(tabla[tabla['Profundidad']>=3])\n",
    "page4_usuarios = len(tabla[tabla['Profundidad']>=4])\n",
    "\n",
    "data_table = [['página', 'usuarios'],\n",
    "              ['Accesos', total_usuarios],\n",
    "              ['Page2', page2_usuarios],\n",
    "              ['Page3', page3_usuarios],\n",
    "              ['Page4', page4_usuarios]]"
   ]
  },
  {
   "cell_type": "code",
   "execution_count": 4,
   "metadata": {
    "collapsed": true,
    "deletable": true,
    "editable": true
   },
   "outputs": [],
   "source": [
    "pd.read_csv??"
   ]
  },
  {
   "cell_type": "code",
   "execution_count": 24,
   "metadata": {
    "collapsed": false,
    "deletable": true,
    "editable": true
   },
   "outputs": [
    {
     "data": {
      "text/html": [
       "<script>requirejs.config({paths: { 'plotly': ['https://cdn.plot.ly/plotly-latest.min']},});if(!window.Plotly) {{require(['plotly'],function(plotly) {window.Plotly=plotly;});}}</script>"
      ],
      "text/vnd.plotly.v1+html": [
       "<script>requirejs.config({paths: { 'plotly': ['https://cdn.plot.ly/plotly-latest.min']},});if(!window.Plotly) {{require(['plotly'],function(plotly) {window.Plotly=plotly;});}}</script>"
      ]
     },
     "metadata": {},
     "output_type": "display_data"
    }
   ],
   "source": [
    "import plotly.offline as py\n",
    "import plotly.figure_factory as ff\n",
    "from __future__ import division\n",
    "from plotly import graph_objs as go\n",
    "py.init_notebook_mode(connected=True)"
   ]
  },
  {
   "cell_type": "code",
   "execution_count": 36,
   "metadata": {
    "collapsed": false,
    "deletable": true,
    "editable": true
   },
   "outputs": [
    {
     "data": {
      "application/vnd.plotly.v1+json": {
       "data": [
        {
         "colorscale": [
          [
           0,
           "#00083e"
          ],
          [
           0.5,
           "#ededee"
          ],
          [
           1,
           "#ffffff"
          ]
         ],
         "hoverinfo": "none",
         "opacity": 0.75,
         "showscale": false,
         "type": "heatmap",
         "z": [
          [
           0,
           0
          ],
          [
           0.5,
           0.5
          ],
          [
           1,
           1
          ],
          [
           0.5,
           0.5
          ],
          [
           1,
           1
          ]
         ]
        }
       ],
       "layout": {
        "annotations": [
         {
          "align": "left",
          "font": {
           "color": "#ffffff"
          },
          "showarrow": false,
          "text": "<b>página</b>",
          "x": -0.45,
          "xanchor": "left",
          "xref": "x1",
          "y": 0,
          "yref": "y1"
         },
         {
          "align": "left",
          "font": {
           "color": "#ffffff"
          },
          "showarrow": false,
          "text": "<b>usuarios</b>",
          "x": 0.55,
          "xanchor": "left",
          "xref": "x1",
          "y": 0,
          "yref": "y1"
         },
         {
          "align": "left",
          "font": {
           "color": "#000000"
          },
          "showarrow": false,
          "text": "Accesos",
          "x": -0.45,
          "xanchor": "left",
          "xref": "x1",
          "y": 1,
          "yref": "y1"
         },
         {
          "align": "left",
          "font": {
           "color": "#000000"
          },
          "showarrow": false,
          "text": "15130",
          "x": 0.55,
          "xanchor": "left",
          "xref": "x1",
          "y": 1,
          "yref": "y1"
         },
         {
          "align": "left",
          "font": {
           "color": "#000000"
          },
          "showarrow": false,
          "text": "Page2",
          "x": -0.45,
          "xanchor": "left",
          "xref": "x1",
          "y": 2,
          "yref": "y1"
         },
         {
          "align": "left",
          "font": {
           "color": "#000000"
          },
          "showarrow": false,
          "text": "7846",
          "x": 0.55,
          "xanchor": "left",
          "xref": "x1",
          "y": 2,
          "yref": "y1"
         },
         {
          "align": "left",
          "font": {
           "color": "#000000"
          },
          "showarrow": false,
          "text": "Page3",
          "x": -0.45,
          "xanchor": "left",
          "xref": "x1",
          "y": 3,
          "yref": "y1"
         },
         {
          "align": "left",
          "font": {
           "color": "#000000"
          },
          "showarrow": false,
          "text": "6975",
          "x": 0.55,
          "xanchor": "left",
          "xref": "x1",
          "y": 3,
          "yref": "y1"
         },
         {
          "align": "left",
          "font": {
           "color": "#000000"
          },
          "showarrow": false,
          "text": "Page4",
          "x": -0.45,
          "xanchor": "left",
          "xref": "x1",
          "y": 4,
          "yref": "y1"
         },
         {
          "align": "left",
          "font": {
           "color": "#000000"
          },
          "showarrow": false,
          "text": "6654",
          "x": 0.55,
          "xanchor": "left",
          "xref": "x1",
          "y": 4,
          "yref": "y1"
         }
        ],
        "height": 200,
        "margin": {
         "b": 0,
         "l": 0,
         "r": 0,
         "t": 0
        },
        "xaxis": {
         "dtick": 1,
         "gridwidth": 2,
         "showticklabels": false,
         "tick0": -0.5,
         "ticks": "",
         "zeroline": false
        },
        "yaxis": {
         "autorange": "reversed",
         "dtick": 1,
         "gridwidth": 2,
         "showticklabels": false,
         "tick0": 0.5,
         "ticks": "",
         "zeroline": false
        }
       }
      },
      "text/html": [
       "<div id=\"c331e5d5-a583-4b24-91e5-7e3e3a0421ab\" style=\"height: 200px; width: 100%;\" class=\"plotly-graph-div\"></div><script type=\"text/javascript\">require([\"plotly\"], function(Plotly) { window.PLOTLYENV=window.PLOTLYENV || {};window.PLOTLYENV.BASE_URL=\"https://plot.ly\";Plotly.newPlot(\"c331e5d5-a583-4b24-91e5-7e3e3a0421ab\", [{\"opacity\": 0.75, \"colorscale\": [[0, \"#00083e\"], [0.5, \"#ededee\"], [1, \"#ffffff\"]], \"showscale\": false, \"hoverinfo\": \"none\", \"z\": [[0, 0], [0.5, 0.5], [1, 1], [0.5, 0.5], [1, 1]], \"type\": \"heatmap\"}], {\"yaxis\": {\"showticklabels\": false, \"tick0\": 0.5, \"ticks\": \"\", \"gridwidth\": 2, \"dtick\": 1, \"zeroline\": false, \"autorange\": \"reversed\"}, \"margin\": {\"r\": 0, \"b\": 0, \"l\": 0, \"t\": 0}, \"annotations\": [{\"xref\": \"x1\", \"xanchor\": \"left\", \"yref\": \"y1\", \"text\": \"<b>p\\u00e1gina</b>\", \"align\": \"left\", \"y\": 0, \"x\": -0.45, \"font\": {\"color\": \"#ffffff\"}, \"showarrow\": false}, {\"xref\": \"x1\", \"xanchor\": \"left\", \"yref\": \"y1\", \"text\": \"<b>usuarios</b>\", \"align\": \"left\", \"y\": 0, \"x\": 0.55, \"font\": {\"color\": \"#ffffff\"}, \"showarrow\": false}, {\"xref\": \"x1\", \"xanchor\": \"left\", \"yref\": \"y1\", \"text\": \"Accesos\", \"align\": \"left\", \"y\": 1, \"x\": -0.45, \"font\": {\"color\": \"#000000\"}, \"showarrow\": false}, {\"xref\": \"x1\", \"xanchor\": \"left\", \"yref\": \"y1\", \"text\": \"15130\", \"align\": \"left\", \"y\": 1, \"x\": 0.55, \"font\": {\"color\": \"#000000\"}, \"showarrow\": false}, {\"xref\": \"x1\", \"xanchor\": \"left\", \"yref\": \"y1\", \"text\": \"Page2\", \"align\": \"left\", \"y\": 2, \"x\": -0.45, \"font\": {\"color\": \"#000000\"}, \"showarrow\": false}, {\"xref\": \"x1\", \"xanchor\": \"left\", \"yref\": \"y1\", \"text\": \"7846\", \"align\": \"left\", \"y\": 2, \"x\": 0.55, \"font\": {\"color\": \"#000000\"}, \"showarrow\": false}, {\"xref\": \"x1\", \"xanchor\": \"left\", \"yref\": \"y1\", \"text\": \"Page3\", \"align\": \"left\", \"y\": 3, \"x\": -0.45, \"font\": {\"color\": \"#000000\"}, \"showarrow\": false}, {\"xref\": \"x1\", \"xanchor\": \"left\", \"yref\": \"y1\", \"text\": \"6975\", \"align\": \"left\", \"y\": 3, \"x\": 0.55, \"font\": {\"color\": \"#000000\"}, \"showarrow\": false}, {\"xref\": \"x1\", \"xanchor\": \"left\", \"yref\": \"y1\", \"text\": \"Page4\", \"align\": \"left\", \"y\": 4, \"x\": -0.45, \"font\": {\"color\": \"#000000\"}, \"showarrow\": false}, {\"xref\": \"x1\", \"xanchor\": \"left\", \"yref\": \"y1\", \"text\": \"6654\", \"align\": \"left\", \"y\": 4, \"x\": 0.55, \"font\": {\"color\": \"#000000\"}, \"showarrow\": false}], \"xaxis\": {\"showticklabels\": false, \"tick0\": -0.5, \"ticks\": \"\", \"gridwidth\": 2, \"dtick\": 1, \"zeroline\": false}, \"height\": 200}, {\"linkText\": \"Export to plot.ly\", \"showLink\": true})});</script>"
      ],
      "text/vnd.plotly.v1+html": [
       "<div id=\"c331e5d5-a583-4b24-91e5-7e3e3a0421ab\" style=\"height: 200px; width: 100%;\" class=\"plotly-graph-div\"></div><script type=\"text/javascript\">require([\"plotly\"], function(Plotly) { window.PLOTLYENV=window.PLOTLYENV || {};window.PLOTLYENV.BASE_URL=\"https://plot.ly\";Plotly.newPlot(\"c331e5d5-a583-4b24-91e5-7e3e3a0421ab\", [{\"opacity\": 0.75, \"colorscale\": [[0, \"#00083e\"], [0.5, \"#ededee\"], [1, \"#ffffff\"]], \"showscale\": false, \"hoverinfo\": \"none\", \"z\": [[0, 0], [0.5, 0.5], [1, 1], [0.5, 0.5], [1, 1]], \"type\": \"heatmap\"}], {\"yaxis\": {\"showticklabels\": false, \"tick0\": 0.5, \"ticks\": \"\", \"gridwidth\": 2, \"dtick\": 1, \"zeroline\": false, \"autorange\": \"reversed\"}, \"margin\": {\"r\": 0, \"b\": 0, \"l\": 0, \"t\": 0}, \"annotations\": [{\"xref\": \"x1\", \"xanchor\": \"left\", \"yref\": \"y1\", \"text\": \"<b>p\\u00e1gina</b>\", \"align\": \"left\", \"y\": 0, \"x\": -0.45, \"font\": {\"color\": \"#ffffff\"}, \"showarrow\": false}, {\"xref\": \"x1\", \"xanchor\": \"left\", \"yref\": \"y1\", \"text\": \"<b>usuarios</b>\", \"align\": \"left\", \"y\": 0, \"x\": 0.55, \"font\": {\"color\": \"#ffffff\"}, \"showarrow\": false}, {\"xref\": \"x1\", \"xanchor\": \"left\", \"yref\": \"y1\", \"text\": \"Accesos\", \"align\": \"left\", \"y\": 1, \"x\": -0.45, \"font\": {\"color\": \"#000000\"}, \"showarrow\": false}, {\"xref\": \"x1\", \"xanchor\": \"left\", \"yref\": \"y1\", \"text\": \"15130\", \"align\": \"left\", \"y\": 1, \"x\": 0.55, \"font\": {\"color\": \"#000000\"}, \"showarrow\": false}, {\"xref\": \"x1\", \"xanchor\": \"left\", \"yref\": \"y1\", \"text\": \"Page2\", \"align\": \"left\", \"y\": 2, \"x\": -0.45, \"font\": {\"color\": \"#000000\"}, \"showarrow\": false}, {\"xref\": \"x1\", \"xanchor\": \"left\", \"yref\": \"y1\", \"text\": \"7846\", \"align\": \"left\", \"y\": 2, \"x\": 0.55, \"font\": {\"color\": \"#000000\"}, \"showarrow\": false}, {\"xref\": \"x1\", \"xanchor\": \"left\", \"yref\": \"y1\", \"text\": \"Page3\", \"align\": \"left\", \"y\": 3, \"x\": -0.45, \"font\": {\"color\": \"#000000\"}, \"showarrow\": false}, {\"xref\": \"x1\", \"xanchor\": \"left\", \"yref\": \"y1\", \"text\": \"6975\", \"align\": \"left\", \"y\": 3, \"x\": 0.55, \"font\": {\"color\": \"#000000\"}, \"showarrow\": false}, {\"xref\": \"x1\", \"xanchor\": \"left\", \"yref\": \"y1\", \"text\": \"Page4\", \"align\": \"left\", \"y\": 4, \"x\": -0.45, \"font\": {\"color\": \"#000000\"}, \"showarrow\": false}, {\"xref\": \"x1\", \"xanchor\": \"left\", \"yref\": \"y1\", \"text\": \"6654\", \"align\": \"left\", \"y\": 4, \"x\": 0.55, \"font\": {\"color\": \"#000000\"}, \"showarrow\": false}], \"xaxis\": {\"showticklabels\": false, \"tick0\": -0.5, \"ticks\": \"\", \"gridwidth\": 2, \"dtick\": 1, \"zeroline\": false}, \"height\": 200}, {\"linkText\": \"Export to plot.ly\", \"showLink\": true})});</script>"
      ]
     },
     "metadata": {},
     "output_type": "display_data"
    }
   ],
   "source": [
    "table = ff.create_table(data_table)\n",
    "py.iplot(table)"
   ]
  },
  {
   "cell_type": "code",
   "execution_count": 45,
   "metadata": {
    "collapsed": true,
    "deletable": true,
    "editable": true
   },
   "outputs": [],
   "source": [
    "# chart stages data\n",
    "values = [total_usuarios , page2_usuarios, page3_usuarios, page4_usuarios]\n",
    "phases = ['Accesos' , 'page2', 'Page3', 'Page4']\n",
    "\n",
    "# color of each funnel section\n",
    "colors = ['rgb(182,231,235)','rgb(32,155,160)', 'rgb(28,119,139)', 'rgb(253,93,124)']"
   ]
  },
  {
   "cell_type": "code",
   "execution_count": 46,
   "metadata": {
    "collapsed": true,
    "deletable": true,
    "editable": true
   },
   "outputs": [],
   "source": [
    "n_phase = len(phases)\n",
    "plot_width = 400\n",
    "\n",
    "# height of a section and difference between sections \n",
    "section_h = 100\n",
    "section_d = 10\n",
    "\n",
    "# multiplication factor to calculate the width of other sections\n",
    "unit_width = plot_width / max(values)\n",
    "\n",
    "# width of each funnel section relative to the plot width\n",
    "phase_w = [int(value * unit_width) for value in values]\n",
    "\n",
    "# plot height based on the number of sections and the gap in between them\n",
    "height = section_h * n_phase + section_d * (n_phase - 1)"
   ]
  },
  {
   "cell_type": "code",
   "execution_count": 47,
   "metadata": {
    "collapsed": false,
    "deletable": true,
    "editable": true
   },
   "outputs": [],
   "source": [
    "# list containing all the plot shapes\n",
    "shapes = []\n",
    "\n",
    "# list containing the Y-axis location for each section's name and value text\n",
    "label_y = []\n",
    "\n",
    "for i in range(n_phase):\n",
    "        if (i == n_phase-1):\n",
    "                points = [phase_w[i] / 2, height, phase_w[i] / 2, height - section_h]\n",
    "        else:\n",
    "                points = [phase_w[i] / 2, height, phase_w[i+1] / 2, height - section_h]\n",
    "\n",
    "        path = 'M {0} {1} L {2} {3} L -{2} {3} L -{0} {1} Z'.format(*points)\n",
    "\n",
    "        shape = {\n",
    "                'type': 'path',\n",
    "                'path': path,\n",
    "                'fillcolor': colors[i],\n",
    "                'line': {\n",
    "                    'width': 1,\n",
    "                    'color': colors[i]\n",
    "                }\n",
    "        }\n",
    "        shapes.append(shape)\n",
    "        \n",
    "        # Y-axis location for this section's details (text)\n",
    "        label_y.append(height - (section_h / 2))\n",
    "\n",
    "        height = height - (section_h + section_d)"
   ]
  },
  {
   "cell_type": "code",
   "execution_count": 48,
   "metadata": {
    "collapsed": false,
    "deletable": true,
    "editable": true
   },
   "outputs": [
    {
     "data": {
      "application/vnd.plotly.v1+json": {
       "data": [
        {
         "mode": "text",
         "text": [
          "Accesos",
          "page2",
          "Page3",
          "Page4"
         ],
         "textfont": {
          "color": "rgb(200,200,200)",
          "size": 15
         },
         "type": "scatter",
         "x": [
          -350,
          -350,
          -350,
          -350
         ],
         "y": [
          380,
          270,
          160,
          50
         ]
        },
        {
         "mode": "text",
         "text": [
          15130,
          7846,
          6975,
          6654
         ],
         "textfont": {
          "color": "rgb(200,200,200)",
          "size": 15
         },
         "type": "scatter",
         "x": [
          350,
          350,
          350,
          350
         ],
         "y": [
          380,
          270,
          160,
          50
         ]
        }
       ],
       "layout": {
        "height": 560,
        "paper_bgcolor": "rgba(44,58,71,1)",
        "plot_bgcolor": "rgba(44,58,71,1)",
        "shapes": [
         {
          "fillcolor": "rgb(182,231,235)",
          "line": {
           "color": "rgb(182,231,235)",
           "width": 1
          },
          "path": "M 200.0 430 L 103.5 330 L -103.5 330 L -200.0 430 Z",
          "type": "path"
         },
         {
          "fillcolor": "rgb(32,155,160)",
          "line": {
           "color": "rgb(32,155,160)",
           "width": 1
          },
          "path": "M 103.5 320 L 92.0 220 L -92.0 220 L -103.5 320 Z",
          "type": "path"
         },
         {
          "fillcolor": "rgb(28,119,139)",
          "line": {
           "color": "rgb(28,119,139)",
           "width": 1
          },
          "path": "M 92.0 210 L 87.5 110 L -87.5 110 L -92.0 210 Z",
          "type": "path"
         },
         {
          "fillcolor": "rgb(253,93,124)",
          "line": {
           "color": "rgb(253,93,124)",
           "width": 1
          },
          "path": "M 87.5 100 L 87.5 0 L -87.5 0 L -87.5 100 Z",
          "type": "path"
         }
        ],
        "showlegend": false,
        "title": "<b>Funnel Chart</b>",
        "titlefont": {
         "color": "rgb(203,203,203)",
         "size": 20
        },
        "width": 800,
        "xaxis": {
         "showticklabels": false,
         "zeroline": false
        },
        "yaxis": {
         "showticklabels": false,
         "zeroline": false
        }
       }
      },
      "text/html": [
       "<div id=\"1e1e92f3-1fc3-42f4-84e0-6fc2b68fc2a7\" style=\"height: 560px; width: 800px;\" class=\"plotly-graph-div\"></div><script type=\"text/javascript\">require([\"plotly\"], function(Plotly) { window.PLOTLYENV=window.PLOTLYENV || {};window.PLOTLYENV.BASE_URL=\"https://plot.ly\";Plotly.newPlot(\"1e1e92f3-1fc3-42f4-84e0-6fc2b68fc2a7\", [{\"textfont\": {\"color\": \"rgb(200,200,200)\", \"size\": 15}, \"text\": [\"Accesos\", \"page2\", \"Page3\", \"Page4\"], \"mode\": \"text\", \"y\": [380.0, 270.0, 160.0, 50.0], \"x\": [-350, -350, -350, -350], \"type\": \"scatter\"}, {\"textfont\": {\"color\": \"rgb(200,200,200)\", \"size\": 15}, \"text\": [15130, 7846, 6975, 6654], \"mode\": \"text\", \"y\": [380.0, 270.0, 160.0, 50.0], \"x\": [350, 350, 350, 350], \"type\": \"scatter\"}], {\"showlegend\": false, \"yaxis\": {\"zeroline\": false, \"showticklabels\": false}, \"paper_bgcolor\": \"rgba(44,58,71,1)\", \"plot_bgcolor\": \"rgba(44,58,71,1)\", \"title\": \"<b>Funnel Chart</b>\", \"height\": 560, \"shapes\": [{\"path\": \"M 200.0 430 L 103.5 330 L -103.5 330 L -200.0 430 Z\", \"line\": {\"color\": \"rgb(182,231,235)\", \"width\": 1}, \"type\": \"path\", \"fillcolor\": \"rgb(182,231,235)\"}, {\"path\": \"M 103.5 320 L 92.0 220 L -92.0 220 L -103.5 320 Z\", \"line\": {\"color\": \"rgb(32,155,160)\", \"width\": 1}, \"type\": \"path\", \"fillcolor\": \"rgb(32,155,160)\"}, {\"path\": \"M 92.0 210 L 87.5 110 L -87.5 110 L -92.0 210 Z\", \"line\": {\"color\": \"rgb(28,119,139)\", \"width\": 1}, \"type\": \"path\", \"fillcolor\": \"rgb(28,119,139)\"}, {\"path\": \"M 87.5 100 L 87.5 0 L -87.5 0 L -87.5 100 Z\", \"line\": {\"color\": \"rgb(253,93,124)\", \"width\": 1}, \"type\": \"path\", \"fillcolor\": \"rgb(253,93,124)\"}], \"width\": 800, \"titlefont\": {\"color\": \"rgb(203,203,203)\", \"size\": 20}, \"xaxis\": {\"zeroline\": false, \"showticklabels\": false}}, {\"linkText\": \"Export to plot.ly\", \"showLink\": true})});</script>"
      ],
      "text/vnd.plotly.v1+html": [
       "<div id=\"1e1e92f3-1fc3-42f4-84e0-6fc2b68fc2a7\" style=\"height: 560px; width: 800px;\" class=\"plotly-graph-div\"></div><script type=\"text/javascript\">require([\"plotly\"], function(Plotly) { window.PLOTLYENV=window.PLOTLYENV || {};window.PLOTLYENV.BASE_URL=\"https://plot.ly\";Plotly.newPlot(\"1e1e92f3-1fc3-42f4-84e0-6fc2b68fc2a7\", [{\"textfont\": {\"color\": \"rgb(200,200,200)\", \"size\": 15}, \"text\": [\"Accesos\", \"page2\", \"Page3\", \"Page4\"], \"mode\": \"text\", \"y\": [380.0, 270.0, 160.0, 50.0], \"x\": [-350, -350, -350, -350], \"type\": \"scatter\"}, {\"textfont\": {\"color\": \"rgb(200,200,200)\", \"size\": 15}, \"text\": [15130, 7846, 6975, 6654], \"mode\": \"text\", \"y\": [380.0, 270.0, 160.0, 50.0], \"x\": [350, 350, 350, 350], \"type\": \"scatter\"}], {\"showlegend\": false, \"yaxis\": {\"zeroline\": false, \"showticklabels\": false}, \"paper_bgcolor\": \"rgba(44,58,71,1)\", \"plot_bgcolor\": \"rgba(44,58,71,1)\", \"title\": \"<b>Funnel Chart</b>\", \"height\": 560, \"shapes\": [{\"path\": \"M 200.0 430 L 103.5 330 L -103.5 330 L -200.0 430 Z\", \"line\": {\"color\": \"rgb(182,231,235)\", \"width\": 1}, \"type\": \"path\", \"fillcolor\": \"rgb(182,231,235)\"}, {\"path\": \"M 103.5 320 L 92.0 220 L -92.0 220 L -103.5 320 Z\", \"line\": {\"color\": \"rgb(32,155,160)\", \"width\": 1}, \"type\": \"path\", \"fillcolor\": \"rgb(32,155,160)\"}, {\"path\": \"M 92.0 210 L 87.5 110 L -87.5 110 L -92.0 210 Z\", \"line\": {\"color\": \"rgb(28,119,139)\", \"width\": 1}, \"type\": \"path\", \"fillcolor\": \"rgb(28,119,139)\"}, {\"path\": \"M 87.5 100 L 87.5 0 L -87.5 0 L -87.5 100 Z\", \"line\": {\"color\": \"rgb(253,93,124)\", \"width\": 1}, \"type\": \"path\", \"fillcolor\": \"rgb(253,93,124)\"}], \"width\": 800, \"titlefont\": {\"color\": \"rgb(203,203,203)\", \"size\": 20}, \"xaxis\": {\"zeroline\": false, \"showticklabels\": false}}, {\"linkText\": \"Export to plot.ly\", \"showLink\": true})});</script>"
      ]
     },
     "metadata": {},
     "output_type": "display_data"
    }
   ],
   "source": [
    "# For phase names\n",
    "label_trace = go.Scatter(\n",
    "    x=[-350]*n_phase,\n",
    "    y=label_y,\n",
    "    mode='text',\n",
    "    text=phases,\n",
    "    textfont=dict(\n",
    "        color='rgb(200,200,200)',\n",
    "        size=15\n",
    "    )\n",
    ")\n",
    " \n",
    "# For phase values\n",
    "value_trace = go.Scatter(\n",
    "    x=[350]*n_phase,\n",
    "    y=label_y,\n",
    "    mode='text',\n",
    "    text=values,\n",
    "    textfont=dict(\n",
    "        color='rgb(200,200,200)',\n",
    "        size=15\n",
    "    )\n",
    ")\n",
    "\n",
    "data = [label_trace, value_trace]\n",
    " \n",
    "layout = go.Layout(\n",
    "    title=\"<b>Funnel Chart</b>\",\n",
    "    titlefont=dict(\n",
    "        size=20,\n",
    "        color='rgb(203,203,203)'\n",
    "    ),\n",
    "    shapes=shapes,\n",
    "    height=560,\n",
    "    width=800,\n",
    "    showlegend=False,\n",
    "    paper_bgcolor='rgba(44,58,71,1)',\n",
    "    plot_bgcolor='rgba(44,58,71,1)',\n",
    "    xaxis=dict(\n",
    "        showticklabels=False,\n",
    "        zeroline=False,\n",
    "    ),\n",
    "    yaxis=dict(\n",
    "        showticklabels=False,\n",
    "        zeroline=False\n",
    "    )\n",
    ")\n",
    " \n",
    "fig = go.Figure(data=data, layout=layout)\n",
    "py.iplot(fig)"
   ]
  },
  {
   "cell_type": "code",
   "execution_count": null,
   "metadata": {
    "collapsed": true,
    "deletable": true,
    "editable": true
   },
   "outputs": [],
   "source": []
  },
  {
   "cell_type": "code",
   "execution_count": 1,
   "metadata": {
    "collapsed": false,
    "deletable": true,
    "editable": true
   },
   "outputs": [
    {
     "data": {
      "text/html": [
       "<script>requirejs.config({paths: { 'plotly': ['https://cdn.plot.ly/plotly-latest.min']},});if(!window.Plotly) {{require(['plotly'],function(plotly) {window.Plotly=plotly;});}}</script>"
      ],
      "text/vnd.plotly.v1+html": [
       "<script>requirejs.config({paths: { 'plotly': ['https://cdn.plot.ly/plotly-latest.min']},});if(!window.Plotly) {{require(['plotly'],function(plotly) {window.Plotly=plotly;});}}</script>"
      ]
     },
     "metadata": {},
     "output_type": "display_data"
    }
   ],
   "source": [
    "import pandas as pd\n",
    "import plotly.offline as py\n",
    "\n",
    "from __future__ import division\n",
    "from plotly import graph_objs as go\n",
    "py.init_notebook_mode(connected=True)"
   ]
  },
  {
   "cell_type": "code",
   "execution_count": 9,
   "metadata": {
    "collapsed": false,
    "deletable": true,
    "editable": true
   },
   "outputs": [
    {
     "data": {
      "text/html": [
       "<div>\n",
       "<style>\n",
       "    .dataframe thead tr:only-child th {\n",
       "        text-align: right;\n",
       "    }\n",
       "\n",
       "    .dataframe thead th {\n",
       "        text-align: left;\n",
       "    }\n",
       "\n",
       "    .dataframe tbody tr th {\n",
       "        vertical-align: top;\n",
       "    }\n",
       "</style>\n",
       "<table border=\"1\" class=\"dataframe\">\n",
       "  <thead>\n",
       "    <tr style=\"text-align: right;\">\n",
       "      <th></th>\n",
       "      <th>ID</th>\n",
       "      <th>Profundidad</th>\n",
       "      <th>sesiones</th>\n",
       "      <th>visualizaciones</th>\n",
       "      <th>visualizacionesUnicas</th>\n",
       "      <th>duracionMediaSesion</th>\n",
       "      <th>visualizacionesPorSesion</th>\n",
       "      <th>visualizacionesUnicasPorSesion</th>\n",
       "      <th>avgTimePage1</th>\n",
       "      <th>avgTimePage2</th>\n",
       "      <th>...</th>\n",
       "      <th>avgTimeInTheProcess</th>\n",
       "      <th>avgTimeOutOfTheProcess</th>\n",
       "      <th>visitsToTheProcess</th>\n",
       "      <th>uniqueVisitsToTheProcess</th>\n",
       "      <th>visitsPage2</th>\n",
       "      <th>uniqueVisitsPage2</th>\n",
       "      <th>visitsPage3</th>\n",
       "      <th>uniqueVisitsPage3</th>\n",
       "      <th>Errores</th>\n",
       "      <th>Y</th>\n",
       "    </tr>\n",
       "  </thead>\n",
       "  <tbody>\n",
       "    <tr>\n",
       "      <th>0</th>\n",
       "      <td>F10001681</td>\n",
       "      <td>1</td>\n",
       "      <td>3</td>\n",
       "      <td>53</td>\n",
       "      <td>16</td>\n",
       "      <td>1246.333333</td>\n",
       "      <td>17.666667</td>\n",
       "      <td>5.333333</td>\n",
       "      <td>10.0</td>\n",
       "      <td>0.000000</td>\n",
       "      <td>...</td>\n",
       "      <td>10.000000</td>\n",
       "      <td>1236.333333</td>\n",
       "      <td>1</td>\n",
       "      <td>1</td>\n",
       "      <td>0.0</td>\n",
       "      <td>0.0</td>\n",
       "      <td>0.0</td>\n",
       "      <td>0.0</td>\n",
       "      <td>0.0</td>\n",
       "      <td>0</td>\n",
       "    </tr>\n",
       "    <tr>\n",
       "      <th>1</th>\n",
       "      <td>F10004567</td>\n",
       "      <td>1</td>\n",
       "      <td>111</td>\n",
       "      <td>1419</td>\n",
       "      <td>409</td>\n",
       "      <td>167.756757</td>\n",
       "      <td>12.783784</td>\n",
       "      <td>3.684685</td>\n",
       "      <td>3.0</td>\n",
       "      <td>0.000000</td>\n",
       "      <td>...</td>\n",
       "      <td>3.000000</td>\n",
       "      <td>164.756757</td>\n",
       "      <td>1</td>\n",
       "      <td>1</td>\n",
       "      <td>0.0</td>\n",
       "      <td>0.0</td>\n",
       "      <td>0.0</td>\n",
       "      <td>0.0</td>\n",
       "      <td>0.0</td>\n",
       "      <td>0</td>\n",
       "    </tr>\n",
       "    <tr>\n",
       "      <th>2</th>\n",
       "      <td>F10007287</td>\n",
       "      <td>4</td>\n",
       "      <td>68</td>\n",
       "      <td>935</td>\n",
       "      <td>301</td>\n",
       "      <td>155.485294</td>\n",
       "      <td>13.750000</td>\n",
       "      <td>4.426471</td>\n",
       "      <td>8.8</td>\n",
       "      <td>7.333333</td>\n",
       "      <td>...</td>\n",
       "      <td>16.133333</td>\n",
       "      <td>139.351961</td>\n",
       "      <td>10</td>\n",
       "      <td>6</td>\n",
       "      <td>4.0</td>\n",
       "      <td>3.0</td>\n",
       "      <td>2.0</td>\n",
       "      <td>1.0</td>\n",
       "      <td>1.0</td>\n",
       "      <td>1</td>\n",
       "    </tr>\n",
       "    <tr>\n",
       "      <th>3</th>\n",
       "      <td>F10019099</td>\n",
       "      <td>4</td>\n",
       "      <td>10</td>\n",
       "      <td>111</td>\n",
       "      <td>48</td>\n",
       "      <td>112.500000</td>\n",
       "      <td>11.100000</td>\n",
       "      <td>4.800000</td>\n",
       "      <td>18.0</td>\n",
       "      <td>5.000000</td>\n",
       "      <td>...</td>\n",
       "      <td>39.000000</td>\n",
       "      <td>73.500000</td>\n",
       "      <td>1</td>\n",
       "      <td>1</td>\n",
       "      <td>1.0</td>\n",
       "      <td>1.0</td>\n",
       "      <td>1.0</td>\n",
       "      <td>1.0</td>\n",
       "      <td>0.0</td>\n",
       "      <td>1</td>\n",
       "    </tr>\n",
       "    <tr>\n",
       "      <th>4</th>\n",
       "      <td>F10020552</td>\n",
       "      <td>1</td>\n",
       "      <td>3</td>\n",
       "      <td>48</td>\n",
       "      <td>15</td>\n",
       "      <td>140.333333</td>\n",
       "      <td>16.000000</td>\n",
       "      <td>5.000000</td>\n",
       "      <td>14.0</td>\n",
       "      <td>0.000000</td>\n",
       "      <td>...</td>\n",
       "      <td>14.000000</td>\n",
       "      <td>126.333333</td>\n",
       "      <td>1</td>\n",
       "      <td>1</td>\n",
       "      <td>0.0</td>\n",
       "      <td>0.0</td>\n",
       "      <td>0.0</td>\n",
       "      <td>0.0</td>\n",
       "      <td>0.0</td>\n",
       "      <td>0</td>\n",
       "    </tr>\n",
       "  </tbody>\n",
       "</table>\n",
       "<p>5 rows × 21 columns</p>\n",
       "</div>"
      ],
      "text/plain": [
       "          ID  Profundidad  sesiones  visualizaciones  visualizacionesUnicas  \\\n",
       "0  F10001681            1         3               53                     16   \n",
       "1  F10004567            1       111             1419                    409   \n",
       "2  F10007287            4        68              935                    301   \n",
       "3  F10019099            4        10              111                     48   \n",
       "4  F10020552            1         3               48                     15   \n",
       "\n",
       "   duracionMediaSesion  visualizacionesPorSesion  \\\n",
       "0          1246.333333                 17.666667   \n",
       "1           167.756757                 12.783784   \n",
       "2           155.485294                 13.750000   \n",
       "3           112.500000                 11.100000   \n",
       "4           140.333333                 16.000000   \n",
       "\n",
       "   visualizacionesUnicasPorSesion  avgTimePage1  avgTimePage2 ...  \\\n",
       "0                        5.333333          10.0      0.000000 ...   \n",
       "1                        3.684685           3.0      0.000000 ...   \n",
       "2                        4.426471           8.8      7.333333 ...   \n",
       "3                        4.800000          18.0      5.000000 ...   \n",
       "4                        5.000000          14.0      0.000000 ...   \n",
       "\n",
       "   avgTimeInTheProcess  avgTimeOutOfTheProcess  visitsToTheProcess  \\\n",
       "0            10.000000             1236.333333                   1   \n",
       "1             3.000000              164.756757                   1   \n",
       "2            16.133333              139.351961                  10   \n",
       "3            39.000000               73.500000                   1   \n",
       "4            14.000000              126.333333                   1   \n",
       "\n",
       "   uniqueVisitsToTheProcess  visitsPage2  uniqueVisitsPage2  visitsPage3  \\\n",
       "0                         1          0.0                0.0          0.0   \n",
       "1                         1          0.0                0.0          0.0   \n",
       "2                         6          4.0                3.0          2.0   \n",
       "3                         1          1.0                1.0          1.0   \n",
       "4                         1          0.0                0.0          0.0   \n",
       "\n",
       "   uniqueVisitsPage3  Errores  Y  \n",
       "0                0.0      0.0  0  \n",
       "1                0.0      0.0  0  \n",
       "2                1.0      1.0  1  \n",
       "3                1.0      0.0  1  \n",
       "4                0.0      0.0  0  \n",
       "\n",
       "[5 rows x 21 columns]"
      ]
     },
     "execution_count": 9,
     "metadata": {},
     "output_type": "execute_result"
    }
   ],
   "source": [
    "tabla = pd.read_csv('../../Archivos_tfm/dataTesting/df_prueba.csv', index_col = 0)\n",
    "tabla.head()\n"
   ]
  },
  {
   "cell_type": "code",
   "execution_count": 25,
   "metadata": {
    "collapsed": false,
    "deletable": true,
    "editable": true
   },
   "outputs": [
    {
     "data": {
      "text/html": [
       "<div>\n",
       "<style>\n",
       "    .dataframe thead tr:only-child th {\n",
       "        text-align: right;\n",
       "    }\n",
       "\n",
       "    .dataframe thead th {\n",
       "        text-align: left;\n",
       "    }\n",
       "\n",
       "    .dataframe tbody tr th {\n",
       "        vertical-align: top;\n",
       "    }\n",
       "</style>\n",
       "<table border=\"1\" class=\"dataframe\">\n",
       "  <thead>\n",
       "    <tr style=\"text-align: right;\">\n",
       "      <th></th>\n",
       "      <th>Prof 1</th>\n",
       "      <th>Prof 2</th>\n",
       "      <th>Prof 3</th>\n",
       "      <th>Prof 4</th>\n",
       "    </tr>\n",
       "  </thead>\n",
       "  <tbody>\n",
       "    <tr>\n",
       "      <th>Page 1</th>\n",
       "      <td>7284</td>\n",
       "      <td>871</td>\n",
       "      <td>321</td>\n",
       "      <td>6654</td>\n",
       "    </tr>\n",
       "    <tr>\n",
       "      <th>Page2</th>\n",
       "      <td>0</td>\n",
       "      <td>871</td>\n",
       "      <td>321</td>\n",
       "      <td>6654</td>\n",
       "    </tr>\n",
       "    <tr>\n",
       "      <th>Page3</th>\n",
       "      <td>0</td>\n",
       "      <td>0</td>\n",
       "      <td>321</td>\n",
       "      <td>6654</td>\n",
       "    </tr>\n",
       "    <tr>\n",
       "      <th>Page4</th>\n",
       "      <td>0</td>\n",
       "      <td>0</td>\n",
       "      <td>0</td>\n",
       "      <td>6654</td>\n",
       "    </tr>\n",
       "  </tbody>\n",
       "</table>\n",
       "</div>"
      ],
      "text/plain": [
       "        Prof 1  Prof 2  Prof 3  Prof 4\n",
       "Page 1    7284     871     321    6654\n",
       "Page2        0     871     321    6654\n",
       "Page3        0       0     321    6654\n",
       "Page4        0       0       0    6654"
      ]
     },
     "execution_count": 25,
     "metadata": {},
     "output_type": "execute_result"
    }
   ],
   "source": [
    "total_usuarios = len(tabla[tabla['Profundidad']==1])\n",
    "Prof2 = len(tabla[tabla['Profundidad']==2])\n",
    "Prof3 = len(tabla[tabla['Profundidad']==3])\n",
    "Prof4 = len(tabla[tabla['Profundidad']==4])\n",
    "d = {'Prof 1': [total_usuarios, 0, 0, 0],\n",
    "     'Prof 2':[Prof2, Prof2, 0, 0],\n",
    "     'Prof 3':[Prof3, Prof3, Prof3, 0],\n",
    "     'Prof 4':[Prof4, Prof4, Prof4, Prof4]}\n",
    "df = pd . DataFrame ( d, index = ['Page 1', 'Page2', 'Page3', 'Page4'] )\n",
    "df"
   ]
  },
  {
   "cell_type": "code",
   "execution_count": 26,
   "metadata": {
    "collapsed": false,
    "deletable": true,
    "editable": true
   },
   "outputs": [
    {
     "data": {
      "text/plain": [
       "[15130, 7846, 6975, 6654]"
      ]
     },
     "execution_count": 26,
     "metadata": {},
     "output_type": "execute_result"
    }
   ],
   "source": [
    "colors = ['rgb(63,92,128)', 'rgb(90,131,182)', 'rgb(255,255,255)', 'rgb(127,127,127)']\n",
    "total = [sum(row[1]) for row in df.iterrows()]\n",
    "total"
   ]
  },
  {
   "cell_type": "code",
   "execution_count": 28,
   "metadata": {
    "collapsed": false,
    "deletable": true,
    "editable": true
   },
   "outputs": [
    {
     "data": {
      "text/plain": [
       "(4, 4)"
      ]
     },
     "execution_count": 28,
     "metadata": {},
     "output_type": "execute_result"
    }
   ],
   "source": [
    "n_phase, n_seg = df.shape\n",
    "n_phase, n_seg"
   ]
  },
  {
   "cell_type": "code",
   "execution_count": 29,
   "metadata": {
    "collapsed": true,
    "deletable": true,
    "editable": true
   },
   "outputs": [],
   "source": [
    "plot_width = 600\n",
    "unit_width = plot_width / total[0]\n",
    " \n",
    "phase_w = [int(value * unit_width) for value in total]\n",
    " \n",
    "# height of a section and difference between sections \n",
    "section_h = 100\n",
    "section_d = 10\n",
    "\n",
    "# shapes of the plot\n",
    "shapes = []\n",
    " \n",
    "# plot traces data\n",
    "data = []\n",
    " \n",
    "# height of the phase labels\n",
    "label_y = []"
   ]
  },
  {
   "cell_type": "code",
   "execution_count": 30,
   "metadata": {
    "collapsed": true,
    "deletable": true,
    "editable": true
   },
   "outputs": [],
   "source": [
    "height = section_h * n_phase + section_d * (n_phase-1)\n",
    "\n",
    "# rows of the DataFrame\n",
    "df_rows = list(df.iterrows())\n",
    "\n",
    "# iteration over all the phases\n",
    "for i in range(n_phase):\n",
    "    # phase name\n",
    "    row_name = df.index[i]\n",
    "    \n",
    "    # width of each segment (smaller rectangles) will be calculated\n",
    "    # according to their contribution in the total users of phase\n",
    "    seg_unit_width = phase_w[i] / total[i]\n",
    "    seg_w = [int(df_rows[i][1][j] * seg_unit_width) for j in range(n_seg)]\n",
    "    \n",
    "    # starting point of segment (the rectangle shape) on the X-axis\n",
    "    xl = -1 * (phase_w[i] / 2)\n",
    "    \n",
    "    # iteration over all the segments\n",
    "    for j in range(n_seg):\n",
    "        # name of the segment\n",
    "        seg_name = df.columns[j]\n",
    "        \n",
    "        # corner points of a segment used in the SVG path\n",
    "        points = [xl, height, xl + seg_w[j], height, xl + seg_w[j], height - section_h, xl, height - section_h]\n",
    "        path = 'M {0} {1} L {2} {3} L {4} {5} L {6} {7} Z'.format(*points)\n",
    "        \n",
    "        shape = {\n",
    "                'type': 'path',\n",
    "                'path': path,\n",
    "                'fillcolor': colors[j],\n",
    "                'line': {\n",
    "                    'width': 1,\n",
    "                    'color': colors[j]\n",
    "                }\n",
    "        }\n",
    "        shapes.append(shape)\n",
    "        \n",
    "        # to support hover on shapes\n",
    "        hover_trace = go.Scatter(\n",
    "            x=[xl + (seg_w[j] / 2)],\n",
    "            y=[height - (section_h / 2)],\n",
    "            mode='markers',\n",
    "            marker=dict(\n",
    "                size=min(seg_w[j]/2, (section_h / 2)),\n",
    "                color='rgba(255,255,255,1)'\n",
    "            ),\n",
    "            text=\"Segment : %s\" % (seg_name),\n",
    "            name=\"Value : %d\" % (df[seg_name][row_name])\n",
    "        )\n",
    "        data.append(hover_trace)\n",
    "        \n",
    "        xl = xl + seg_w[j]\n",
    "\n",
    "    label_y.append(height - (section_h / 2))\n",
    "\n",
    "    height = height - (section_h + section_d)"
   ]
  },
  {
   "cell_type": "code",
   "execution_count": 31,
   "metadata": {
    "collapsed": true,
    "deletable": true,
    "editable": true
   },
   "outputs": [],
   "source": [
    "# For phase names\n",
    "label_trace = go.Scatter(\n",
    "    x=[-350]*n_phase,\n",
    "    y=label_y,\n",
    "    mode='text',\n",
    "    text=df.index.tolist(),\n",
    "    textfont=dict(\n",
    "        color='rgb(200,200,200)',\n",
    "        size=15\n",
    "    )\n",
    ")\n",
    "\n",
    "data.append(label_trace)\n",
    " \n",
    "# For phase values (total)\n",
    "value_trace = go.Scatter(\n",
    "    x=[350]*n_phase,\n",
    "    y=label_y,\n",
    "    mode='text',\n",
    "    text=total,\n",
    "    textfont=dict(\n",
    "        color='rgb(200,200,200)',\n",
    "        size=15\n",
    "    )\n",
    ")\n",
    "\n",
    "data.append(value_trace)"
   ]
  },
  {
   "cell_type": "code",
   "execution_count": 32,
   "metadata": {
    "collapsed": false,
    "deletable": true,
    "editable": true
   },
   "outputs": [
    {
     "data": {
      "application/vnd.plotly.v1+json": {
       "data": [
        {
         "marker": {
          "color": "rgba(255,255,255,1)",
          "size": 50
         },
         "mode": "markers",
         "name": "Value : 7284",
         "text": "Segment : Prof 1",
         "type": "scatter",
         "x": [
          -156
         ],
         "y": [
          380
         ]
        },
        {
         "marker": {
          "color": "rgba(255,255,255,1)",
          "size": 17
         },
         "mode": "markers",
         "name": "Value : 871",
         "text": "Segment : Prof 2",
         "type": "scatter",
         "x": [
          5
         ],
         "y": [
          380
         ]
        },
        {
         "marker": {
          "color": "rgba(255,255,255,1)",
          "size": 6
         },
         "mode": "markers",
         "name": "Value : 321",
         "text": "Segment : Prof 3",
         "type": "scatter",
         "x": [
          28
         ],
         "y": [
          380
         ]
        },
        {
         "marker": {
          "color": "rgba(255,255,255,1)",
          "size": 50
         },
         "mode": "markers",
         "name": "Value : 6654",
         "text": "Segment : Prof 4",
         "type": "scatter",
         "x": [
          165.5
         ],
         "y": [
          380
         ]
        },
        {
         "marker": {
          "color": "rgba(255,255,255,1)",
          "size": 0
         },
         "mode": "markers",
         "name": "Value : 0",
         "text": "Segment : Prof 1",
         "type": "scatter",
         "x": [
          -155.5
         ],
         "y": [
          270
         ]
        },
        {
         "marker": {
          "color": "rgba(255,255,255,1)",
          "size": 17
         },
         "mode": "markers",
         "name": "Value : 871",
         "text": "Segment : Prof 2",
         "type": "scatter",
         "x": [
          -138.5
         ],
         "y": [
          270
         ]
        },
        {
         "marker": {
          "color": "rgba(255,255,255,1)",
          "size": 6
         },
         "mode": "markers",
         "name": "Value : 321",
         "text": "Segment : Prof 3",
         "type": "scatter",
         "x": [
          -115.5
         ],
         "y": [
          270
         ]
        },
        {
         "marker": {
          "color": "rgba(255,255,255,1)",
          "size": 50
         },
         "mode": "markers",
         "name": "Value : 6654",
         "text": "Segment : Prof 4",
         "type": "scatter",
         "x": [
          22
         ],
         "y": [
          270
         ]
        },
        {
         "marker": {
          "color": "rgba(255,255,255,1)",
          "size": 0
         },
         "mode": "markers",
         "name": "Value : 0",
         "text": "Segment : Prof 1",
         "type": "scatter",
         "x": [
          -138
         ],
         "y": [
          160
         ]
        },
        {
         "marker": {
          "color": "rgba(255,255,255,1)",
          "size": 0
         },
         "mode": "markers",
         "name": "Value : 0",
         "text": "Segment : Prof 2",
         "type": "scatter",
         "x": [
          -138
         ],
         "y": [
          160
         ]
        },
        {
         "marker": {
          "color": "rgba(255,255,255,1)",
          "size": 6
         },
         "mode": "markers",
         "name": "Value : 321",
         "text": "Segment : Prof 3",
         "type": "scatter",
         "x": [
          -132
         ],
         "y": [
          160
         ]
        },
        {
         "marker": {
          "color": "rgba(255,255,255,1)",
          "size": 50
         },
         "mode": "markers",
         "name": "Value : 6654",
         "text": "Segment : Prof 4",
         "type": "scatter",
         "x": [
          5.5
         ],
         "y": [
          160
         ]
        },
        {
         "marker": {
          "color": "rgba(255,255,255,1)",
          "size": 0
         },
         "mode": "markers",
         "name": "Value : 0",
         "text": "Segment : Prof 1",
         "type": "scatter",
         "x": [
          -131.5
         ],
         "y": [
          50
         ]
        },
        {
         "marker": {
          "color": "rgba(255,255,255,1)",
          "size": 0
         },
         "mode": "markers",
         "name": "Value : 0",
         "text": "Segment : Prof 2",
         "type": "scatter",
         "x": [
          -131.5
         ],
         "y": [
          50
         ]
        },
        {
         "marker": {
          "color": "rgba(255,255,255,1)",
          "size": 0
         },
         "mode": "markers",
         "name": "Value : 0",
         "text": "Segment : Prof 3",
         "type": "scatter",
         "x": [
          -131.5
         ],
         "y": [
          50
         ]
        },
        {
         "marker": {
          "color": "rgba(255,255,255,1)",
          "size": 50
         },
         "mode": "markers",
         "name": "Value : 6654",
         "text": "Segment : Prof 4",
         "type": "scatter",
         "x": [
          0
         ],
         "y": [
          50
         ]
        },
        {
         "mode": "text",
         "text": [
          "Page 1",
          "Page2",
          "Page3",
          "Page4"
         ],
         "textfont": {
          "color": "rgb(200,200,200)",
          "size": 15
         },
         "type": "scatter",
         "x": [
          -350,
          -350,
          -350,
          -350
         ],
         "y": [
          380,
          270,
          160,
          50
         ]
        },
        {
         "mode": "text",
         "text": [
          15130,
          7846,
          6975,
          6654
         ],
         "textfont": {
          "color": "rgb(200,200,200)",
          "size": 15
         },
         "type": "scatter",
         "x": [
          350,
          350,
          350,
          350
         ],
         "y": [
          380,
          270,
          160,
          50
         ]
        }
       ],
       "layout": {
        "hovermode": "closest",
        "paper_bgcolor": "rgba(44,58,71,1)",
        "plot_bgcolor": "rgba(44,58,71,1)",
        "shapes": [
         {
          "fillcolor": "rgb(63,92,128)",
          "line": {
           "color": "rgb(63,92,128)",
           "width": 1
          },
          "path": "M -300.0 430 L -12.0 430 L -12.0 330 L -300.0 330 Z",
          "type": "path"
         },
         {
          "fillcolor": "rgb(90,131,182)",
          "line": {
           "color": "rgb(90,131,182)",
           "width": 1
          },
          "path": "M -12.0 430 L 22.0 430 L 22.0 330 L -12.0 330 Z",
          "type": "path"
         },
         {
          "fillcolor": "rgb(255,255,255)",
          "line": {
           "color": "rgb(255,255,255)",
           "width": 1
          },
          "path": "M 22.0 430 L 34.0 430 L 34.0 330 L 22.0 330 Z",
          "type": "path"
         },
         {
          "fillcolor": "rgb(127,127,127)",
          "line": {
           "color": "rgb(127,127,127)",
           "width": 1
          },
          "path": "M 34.0 430 L 297.0 430 L 297.0 330 L 34.0 330 Z",
          "type": "path"
         },
         {
          "fillcolor": "rgb(63,92,128)",
          "line": {
           "color": "rgb(63,92,128)",
           "width": 1
          },
          "path": "M -155.5 320 L -155.5 320 L -155.5 220 L -155.5 220 Z",
          "type": "path"
         },
         {
          "fillcolor": "rgb(90,131,182)",
          "line": {
           "color": "rgb(90,131,182)",
           "width": 1
          },
          "path": "M -155.5 320 L -121.5 320 L -121.5 220 L -155.5 220 Z",
          "type": "path"
         },
         {
          "fillcolor": "rgb(255,255,255)",
          "line": {
           "color": "rgb(255,255,255)",
           "width": 1
          },
          "path": "M -121.5 320 L -109.5 320 L -109.5 220 L -121.5 220 Z",
          "type": "path"
         },
         {
          "fillcolor": "rgb(127,127,127)",
          "line": {
           "color": "rgb(127,127,127)",
           "width": 1
          },
          "path": "M -109.5 320 L 153.5 320 L 153.5 220 L -109.5 220 Z",
          "type": "path"
         },
         {
          "fillcolor": "rgb(63,92,128)",
          "line": {
           "color": "rgb(63,92,128)",
           "width": 1
          },
          "path": "M -138.0 210 L -138.0 210 L -138.0 110 L -138.0 110 Z",
          "type": "path"
         },
         {
          "fillcolor": "rgb(90,131,182)",
          "line": {
           "color": "rgb(90,131,182)",
           "width": 1
          },
          "path": "M -138.0 210 L -138.0 210 L -138.0 110 L -138.0 110 Z",
          "type": "path"
         },
         {
          "fillcolor": "rgb(255,255,255)",
          "line": {
           "color": "rgb(255,255,255)",
           "width": 1
          },
          "path": "M -138.0 210 L -126.0 210 L -126.0 110 L -138.0 110 Z",
          "type": "path"
         },
         {
          "fillcolor": "rgb(127,127,127)",
          "line": {
           "color": "rgb(127,127,127)",
           "width": 1
          },
          "path": "M -126.0 210 L 137.0 210 L 137.0 110 L -126.0 110 Z",
          "type": "path"
         },
         {
          "fillcolor": "rgb(63,92,128)",
          "line": {
           "color": "rgb(63,92,128)",
           "width": 1
          },
          "path": "M -131.5 100 L -131.5 100 L -131.5 0 L -131.5 0 Z",
          "type": "path"
         },
         {
          "fillcolor": "rgb(90,131,182)",
          "line": {
           "color": "rgb(90,131,182)",
           "width": 1
          },
          "path": "M -131.5 100 L -131.5 100 L -131.5 0 L -131.5 0 Z",
          "type": "path"
         },
         {
          "fillcolor": "rgb(255,255,255)",
          "line": {
           "color": "rgb(255,255,255)",
           "width": 1
          },
          "path": "M -131.5 100 L -131.5 100 L -131.5 0 L -131.5 0 Z",
          "type": "path"
         },
         {
          "fillcolor": "rgb(127,127,127)",
          "line": {
           "color": "rgb(127,127,127)",
           "width": 1
          },
          "path": "M -131.5 100 L 131.5 100 L 131.5 0 L -131.5 0 Z",
          "type": "path"
         }
        ],
        "showlegend": false,
        "title": "<b>Segmented Funnel Chart</b>",
        "titlefont": {
         "color": "rgb(230,230,230)",
         "size": 20
        },
        "xaxis": {
         "showticklabels": false,
         "zeroline": false
        },
        "yaxis": {
         "showticklabels": false,
         "zeroline": false
        }
       }
      },
      "text/html": [
       "<div id=\"3af55837-a3c2-4a3e-a82d-13c2b135f788\" style=\"height: 525px; width: 100%;\" class=\"plotly-graph-div\"></div><script type=\"text/javascript\">require([\"plotly\"], function(Plotly) { window.PLOTLYENV=window.PLOTLYENV || {};window.PLOTLYENV.BASE_URL=\"https://plot.ly\";Plotly.newPlot(\"3af55837-a3c2-4a3e-a82d-13c2b135f788\", [{\"name\": \"Value : 7284\", \"text\": \"Segment : Prof 1\", \"marker\": {\"color\": \"rgba(255,255,255,1)\", \"size\": 50.0}, \"mode\": \"markers\", \"y\": [380.0], \"x\": [-156.0], \"type\": \"scatter\"}, {\"name\": \"Value : 871\", \"text\": \"Segment : Prof 2\", \"marker\": {\"color\": \"rgba(255,255,255,1)\", \"size\": 17.0}, \"mode\": \"markers\", \"y\": [380.0], \"x\": [5.0], \"type\": \"scatter\"}, {\"name\": \"Value : 321\", \"text\": \"Segment : Prof 3\", \"marker\": {\"color\": \"rgba(255,255,255,1)\", \"size\": 6.0}, \"mode\": \"markers\", \"y\": [380.0], \"x\": [28.0], \"type\": \"scatter\"}, {\"name\": \"Value : 6654\", \"text\": \"Segment : Prof 4\", \"marker\": {\"color\": \"rgba(255,255,255,1)\", \"size\": 50.0}, \"mode\": \"markers\", \"y\": [380.0], \"x\": [165.5], \"type\": \"scatter\"}, {\"name\": \"Value : 0\", \"text\": \"Segment : Prof 1\", \"marker\": {\"color\": \"rgba(255,255,255,1)\", \"size\": 0.0}, \"mode\": \"markers\", \"y\": [270.0], \"x\": [-155.5], \"type\": \"scatter\"}, {\"name\": \"Value : 871\", \"text\": \"Segment : Prof 2\", \"marker\": {\"color\": \"rgba(255,255,255,1)\", \"size\": 17.0}, \"mode\": \"markers\", \"y\": [270.0], \"x\": [-138.5], \"type\": \"scatter\"}, {\"name\": \"Value : 321\", \"text\": \"Segment : Prof 3\", \"marker\": {\"color\": \"rgba(255,255,255,1)\", \"size\": 6.0}, \"mode\": \"markers\", \"y\": [270.0], \"x\": [-115.5], \"type\": \"scatter\"}, {\"name\": \"Value : 6654\", \"text\": \"Segment : Prof 4\", \"marker\": {\"color\": \"rgba(255,255,255,1)\", \"size\": 50.0}, \"mode\": \"markers\", \"y\": [270.0], \"x\": [22.0], \"type\": \"scatter\"}, {\"name\": \"Value : 0\", \"text\": \"Segment : Prof 1\", \"marker\": {\"color\": \"rgba(255,255,255,1)\", \"size\": 0.0}, \"mode\": \"markers\", \"y\": [160.0], \"x\": [-138.0], \"type\": \"scatter\"}, {\"name\": \"Value : 0\", \"text\": \"Segment : Prof 2\", \"marker\": {\"color\": \"rgba(255,255,255,1)\", \"size\": 0.0}, \"mode\": \"markers\", \"y\": [160.0], \"x\": [-138.0], \"type\": \"scatter\"}, {\"name\": \"Value : 321\", \"text\": \"Segment : Prof 3\", \"marker\": {\"color\": \"rgba(255,255,255,1)\", \"size\": 6.0}, \"mode\": \"markers\", \"y\": [160.0], \"x\": [-132.0], \"type\": \"scatter\"}, {\"name\": \"Value : 6654\", \"text\": \"Segment : Prof 4\", \"marker\": {\"color\": \"rgba(255,255,255,1)\", \"size\": 50.0}, \"mode\": \"markers\", \"y\": [160.0], \"x\": [5.5], \"type\": \"scatter\"}, {\"name\": \"Value : 0\", \"text\": \"Segment : Prof 1\", \"marker\": {\"color\": \"rgba(255,255,255,1)\", \"size\": 0.0}, \"mode\": \"markers\", \"y\": [50.0], \"x\": [-131.5], \"type\": \"scatter\"}, {\"name\": \"Value : 0\", \"text\": \"Segment : Prof 2\", \"marker\": {\"color\": \"rgba(255,255,255,1)\", \"size\": 0.0}, \"mode\": \"markers\", \"y\": [50.0], \"x\": [-131.5], \"type\": \"scatter\"}, {\"name\": \"Value : 0\", \"text\": \"Segment : Prof 3\", \"marker\": {\"color\": \"rgba(255,255,255,1)\", \"size\": 0.0}, \"mode\": \"markers\", \"y\": [50.0], \"x\": [-131.5], \"type\": \"scatter\"}, {\"name\": \"Value : 6654\", \"text\": \"Segment : Prof 4\", \"marker\": {\"color\": \"rgba(255,255,255,1)\", \"size\": 50.0}, \"mode\": \"markers\", \"y\": [50.0], \"x\": [0.0], \"type\": \"scatter\"}, {\"textfont\": {\"color\": \"rgb(200,200,200)\", \"size\": 15}, \"text\": [\"Page 1\", \"Page2\", \"Page3\", \"Page4\"], \"mode\": \"text\", \"y\": [380.0, 270.0, 160.0, 50.0], \"x\": [-350, -350, -350, -350], \"type\": \"scatter\"}, {\"textfont\": {\"color\": \"rgb(200,200,200)\", \"size\": 15}, \"text\": [15130, 7846, 6975, 6654], \"mode\": \"text\", \"y\": [380.0, 270.0, 160.0, 50.0], \"x\": [350, 350, 350, 350], \"type\": \"scatter\"}], {\"showlegend\": false, \"yaxis\": {\"zeroline\": false, \"showticklabels\": false}, \"paper_bgcolor\": \"rgba(44,58,71,1)\", \"plot_bgcolor\": \"rgba(44,58,71,1)\", \"title\": \"<b>Segmented Funnel Chart</b>\", \"shapes\": [{\"path\": \"M -300.0 430 L -12.0 430 L -12.0 330 L -300.0 330 Z\", \"line\": {\"color\": \"rgb(63,92,128)\", \"width\": 1}, \"type\": \"path\", \"fillcolor\": \"rgb(63,92,128)\"}, {\"path\": \"M -12.0 430 L 22.0 430 L 22.0 330 L -12.0 330 Z\", \"line\": {\"color\": \"rgb(90,131,182)\", \"width\": 1}, \"type\": \"path\", \"fillcolor\": \"rgb(90,131,182)\"}, {\"path\": \"M 22.0 430 L 34.0 430 L 34.0 330 L 22.0 330 Z\", \"line\": {\"color\": \"rgb(255,255,255)\", \"width\": 1}, \"type\": \"path\", \"fillcolor\": \"rgb(255,255,255)\"}, {\"path\": \"M 34.0 430 L 297.0 430 L 297.0 330 L 34.0 330 Z\", \"line\": {\"color\": \"rgb(127,127,127)\", \"width\": 1}, \"type\": \"path\", \"fillcolor\": \"rgb(127,127,127)\"}, {\"path\": \"M -155.5 320 L -155.5 320 L -155.5 220 L -155.5 220 Z\", \"line\": {\"color\": \"rgb(63,92,128)\", \"width\": 1}, \"type\": \"path\", \"fillcolor\": \"rgb(63,92,128)\"}, {\"path\": \"M -155.5 320 L -121.5 320 L -121.5 220 L -155.5 220 Z\", \"line\": {\"color\": \"rgb(90,131,182)\", \"width\": 1}, \"type\": \"path\", \"fillcolor\": \"rgb(90,131,182)\"}, {\"path\": \"M -121.5 320 L -109.5 320 L -109.5 220 L -121.5 220 Z\", \"line\": {\"color\": \"rgb(255,255,255)\", \"width\": 1}, \"type\": \"path\", \"fillcolor\": \"rgb(255,255,255)\"}, {\"path\": \"M -109.5 320 L 153.5 320 L 153.5 220 L -109.5 220 Z\", \"line\": {\"color\": \"rgb(127,127,127)\", \"width\": 1}, \"type\": \"path\", \"fillcolor\": \"rgb(127,127,127)\"}, {\"path\": \"M -138.0 210 L -138.0 210 L -138.0 110 L -138.0 110 Z\", \"line\": {\"color\": \"rgb(63,92,128)\", \"width\": 1}, \"type\": \"path\", \"fillcolor\": \"rgb(63,92,128)\"}, {\"path\": \"M -138.0 210 L -138.0 210 L -138.0 110 L -138.0 110 Z\", \"line\": {\"color\": \"rgb(90,131,182)\", \"width\": 1}, \"type\": \"path\", \"fillcolor\": \"rgb(90,131,182)\"}, {\"path\": \"M -138.0 210 L -126.0 210 L -126.0 110 L -138.0 110 Z\", \"line\": {\"color\": \"rgb(255,255,255)\", \"width\": 1}, \"type\": \"path\", \"fillcolor\": \"rgb(255,255,255)\"}, {\"path\": \"M -126.0 210 L 137.0 210 L 137.0 110 L -126.0 110 Z\", \"line\": {\"color\": \"rgb(127,127,127)\", \"width\": 1}, \"type\": \"path\", \"fillcolor\": \"rgb(127,127,127)\"}, {\"path\": \"M -131.5 100 L -131.5 100 L -131.5 0 L -131.5 0 Z\", \"line\": {\"color\": \"rgb(63,92,128)\", \"width\": 1}, \"type\": \"path\", \"fillcolor\": \"rgb(63,92,128)\"}, {\"path\": \"M -131.5 100 L -131.5 100 L -131.5 0 L -131.5 0 Z\", \"line\": {\"color\": \"rgb(90,131,182)\", \"width\": 1}, \"type\": \"path\", \"fillcolor\": \"rgb(90,131,182)\"}, {\"path\": \"M -131.5 100 L -131.5 100 L -131.5 0 L -131.5 0 Z\", \"line\": {\"color\": \"rgb(255,255,255)\", \"width\": 1}, \"type\": \"path\", \"fillcolor\": \"rgb(255,255,255)\"}, {\"path\": \"M -131.5 100 L 131.5 100 L 131.5 0 L -131.5 0 Z\", \"line\": {\"color\": \"rgb(127,127,127)\", \"width\": 1}, \"type\": \"path\", \"fillcolor\": \"rgb(127,127,127)\"}], \"titlefont\": {\"color\": \"rgb(230,230,230)\", \"size\": 20}, \"xaxis\": {\"zeroline\": false, \"showticklabels\": false}, \"hovermode\": \"closest\"}, {\"linkText\": \"Export to plot.ly\", \"showLink\": true})});</script>"
      ],
      "text/vnd.plotly.v1+html": [
       "<div id=\"3af55837-a3c2-4a3e-a82d-13c2b135f788\" style=\"height: 525px; width: 100%;\" class=\"plotly-graph-div\"></div><script type=\"text/javascript\">require([\"plotly\"], function(Plotly) { window.PLOTLYENV=window.PLOTLYENV || {};window.PLOTLYENV.BASE_URL=\"https://plot.ly\";Plotly.newPlot(\"3af55837-a3c2-4a3e-a82d-13c2b135f788\", [{\"name\": \"Value : 7284\", \"text\": \"Segment : Prof 1\", \"marker\": {\"color\": \"rgba(255,255,255,1)\", \"size\": 50.0}, \"mode\": \"markers\", \"y\": [380.0], \"x\": [-156.0], \"type\": \"scatter\"}, {\"name\": \"Value : 871\", \"text\": \"Segment : Prof 2\", \"marker\": {\"color\": \"rgba(255,255,255,1)\", \"size\": 17.0}, \"mode\": \"markers\", \"y\": [380.0], \"x\": [5.0], \"type\": \"scatter\"}, {\"name\": \"Value : 321\", \"text\": \"Segment : Prof 3\", \"marker\": {\"color\": \"rgba(255,255,255,1)\", \"size\": 6.0}, \"mode\": \"markers\", \"y\": [380.0], \"x\": [28.0], \"type\": \"scatter\"}, {\"name\": \"Value : 6654\", \"text\": \"Segment : Prof 4\", \"marker\": {\"color\": \"rgba(255,255,255,1)\", \"size\": 50.0}, \"mode\": \"markers\", \"y\": [380.0], \"x\": [165.5], \"type\": \"scatter\"}, {\"name\": \"Value : 0\", \"text\": \"Segment : Prof 1\", \"marker\": {\"color\": \"rgba(255,255,255,1)\", \"size\": 0.0}, \"mode\": \"markers\", \"y\": [270.0], \"x\": [-155.5], \"type\": \"scatter\"}, {\"name\": \"Value : 871\", \"text\": \"Segment : Prof 2\", \"marker\": {\"color\": \"rgba(255,255,255,1)\", \"size\": 17.0}, \"mode\": \"markers\", \"y\": [270.0], \"x\": [-138.5], \"type\": \"scatter\"}, {\"name\": \"Value : 321\", \"text\": \"Segment : Prof 3\", \"marker\": {\"color\": \"rgba(255,255,255,1)\", \"size\": 6.0}, \"mode\": \"markers\", \"y\": [270.0], \"x\": [-115.5], \"type\": \"scatter\"}, {\"name\": \"Value : 6654\", \"text\": \"Segment : Prof 4\", \"marker\": {\"color\": \"rgba(255,255,255,1)\", \"size\": 50.0}, \"mode\": \"markers\", \"y\": [270.0], \"x\": [22.0], \"type\": \"scatter\"}, {\"name\": \"Value : 0\", \"text\": \"Segment : Prof 1\", \"marker\": {\"color\": \"rgba(255,255,255,1)\", \"size\": 0.0}, \"mode\": \"markers\", \"y\": [160.0], \"x\": [-138.0], \"type\": \"scatter\"}, {\"name\": \"Value : 0\", \"text\": \"Segment : Prof 2\", \"marker\": {\"color\": \"rgba(255,255,255,1)\", \"size\": 0.0}, \"mode\": \"markers\", \"y\": [160.0], \"x\": [-138.0], \"type\": \"scatter\"}, {\"name\": \"Value : 321\", \"text\": \"Segment : Prof 3\", \"marker\": {\"color\": \"rgba(255,255,255,1)\", \"size\": 6.0}, \"mode\": \"markers\", \"y\": [160.0], \"x\": [-132.0], \"type\": \"scatter\"}, {\"name\": \"Value : 6654\", \"text\": \"Segment : Prof 4\", \"marker\": {\"color\": \"rgba(255,255,255,1)\", \"size\": 50.0}, \"mode\": \"markers\", \"y\": [160.0], \"x\": [5.5], \"type\": \"scatter\"}, {\"name\": \"Value : 0\", \"text\": \"Segment : Prof 1\", \"marker\": {\"color\": \"rgba(255,255,255,1)\", \"size\": 0.0}, \"mode\": \"markers\", \"y\": [50.0], \"x\": [-131.5], \"type\": \"scatter\"}, {\"name\": \"Value : 0\", \"text\": \"Segment : Prof 2\", \"marker\": {\"color\": \"rgba(255,255,255,1)\", \"size\": 0.0}, \"mode\": \"markers\", \"y\": [50.0], \"x\": [-131.5], \"type\": \"scatter\"}, {\"name\": \"Value : 0\", \"text\": \"Segment : Prof 3\", \"marker\": {\"color\": \"rgba(255,255,255,1)\", \"size\": 0.0}, \"mode\": \"markers\", \"y\": [50.0], \"x\": [-131.5], \"type\": \"scatter\"}, {\"name\": \"Value : 6654\", \"text\": \"Segment : Prof 4\", \"marker\": {\"color\": \"rgba(255,255,255,1)\", \"size\": 50.0}, \"mode\": \"markers\", \"y\": [50.0], \"x\": [0.0], \"type\": \"scatter\"}, {\"textfont\": {\"color\": \"rgb(200,200,200)\", \"size\": 15}, \"text\": [\"Page 1\", \"Page2\", \"Page3\", \"Page4\"], \"mode\": \"text\", \"y\": [380.0, 270.0, 160.0, 50.0], \"x\": [-350, -350, -350, -350], \"type\": \"scatter\"}, {\"textfont\": {\"color\": \"rgb(200,200,200)\", \"size\": 15}, \"text\": [15130, 7846, 6975, 6654], \"mode\": \"text\", \"y\": [380.0, 270.0, 160.0, 50.0], \"x\": [350, 350, 350, 350], \"type\": \"scatter\"}], {\"showlegend\": false, \"yaxis\": {\"zeroline\": false, \"showticklabels\": false}, \"paper_bgcolor\": \"rgba(44,58,71,1)\", \"plot_bgcolor\": \"rgba(44,58,71,1)\", \"title\": \"<b>Segmented Funnel Chart</b>\", \"shapes\": [{\"path\": \"M -300.0 430 L -12.0 430 L -12.0 330 L -300.0 330 Z\", \"line\": {\"color\": \"rgb(63,92,128)\", \"width\": 1}, \"type\": \"path\", \"fillcolor\": \"rgb(63,92,128)\"}, {\"path\": \"M -12.0 430 L 22.0 430 L 22.0 330 L -12.0 330 Z\", \"line\": {\"color\": \"rgb(90,131,182)\", \"width\": 1}, \"type\": \"path\", \"fillcolor\": \"rgb(90,131,182)\"}, {\"path\": \"M 22.0 430 L 34.0 430 L 34.0 330 L 22.0 330 Z\", \"line\": {\"color\": \"rgb(255,255,255)\", \"width\": 1}, \"type\": \"path\", \"fillcolor\": \"rgb(255,255,255)\"}, {\"path\": \"M 34.0 430 L 297.0 430 L 297.0 330 L 34.0 330 Z\", \"line\": {\"color\": \"rgb(127,127,127)\", \"width\": 1}, \"type\": \"path\", \"fillcolor\": \"rgb(127,127,127)\"}, {\"path\": \"M -155.5 320 L -155.5 320 L -155.5 220 L -155.5 220 Z\", \"line\": {\"color\": \"rgb(63,92,128)\", \"width\": 1}, \"type\": \"path\", \"fillcolor\": \"rgb(63,92,128)\"}, {\"path\": \"M -155.5 320 L -121.5 320 L -121.5 220 L -155.5 220 Z\", \"line\": {\"color\": \"rgb(90,131,182)\", \"width\": 1}, \"type\": \"path\", \"fillcolor\": \"rgb(90,131,182)\"}, {\"path\": \"M -121.5 320 L -109.5 320 L -109.5 220 L -121.5 220 Z\", \"line\": {\"color\": \"rgb(255,255,255)\", \"width\": 1}, \"type\": \"path\", \"fillcolor\": \"rgb(255,255,255)\"}, {\"path\": \"M -109.5 320 L 153.5 320 L 153.5 220 L -109.5 220 Z\", \"line\": {\"color\": \"rgb(127,127,127)\", \"width\": 1}, \"type\": \"path\", \"fillcolor\": \"rgb(127,127,127)\"}, {\"path\": \"M -138.0 210 L -138.0 210 L -138.0 110 L -138.0 110 Z\", \"line\": {\"color\": \"rgb(63,92,128)\", \"width\": 1}, \"type\": \"path\", \"fillcolor\": \"rgb(63,92,128)\"}, {\"path\": \"M -138.0 210 L -138.0 210 L -138.0 110 L -138.0 110 Z\", \"line\": {\"color\": \"rgb(90,131,182)\", \"width\": 1}, \"type\": \"path\", \"fillcolor\": \"rgb(90,131,182)\"}, {\"path\": \"M -138.0 210 L -126.0 210 L -126.0 110 L -138.0 110 Z\", \"line\": {\"color\": \"rgb(255,255,255)\", \"width\": 1}, \"type\": \"path\", \"fillcolor\": \"rgb(255,255,255)\"}, {\"path\": \"M -126.0 210 L 137.0 210 L 137.0 110 L -126.0 110 Z\", \"line\": {\"color\": \"rgb(127,127,127)\", \"width\": 1}, \"type\": \"path\", \"fillcolor\": \"rgb(127,127,127)\"}, {\"path\": \"M -131.5 100 L -131.5 100 L -131.5 0 L -131.5 0 Z\", \"line\": {\"color\": \"rgb(63,92,128)\", \"width\": 1}, \"type\": \"path\", \"fillcolor\": \"rgb(63,92,128)\"}, {\"path\": \"M -131.5 100 L -131.5 100 L -131.5 0 L -131.5 0 Z\", \"line\": {\"color\": \"rgb(90,131,182)\", \"width\": 1}, \"type\": \"path\", \"fillcolor\": \"rgb(90,131,182)\"}, {\"path\": \"M -131.5 100 L -131.5 100 L -131.5 0 L -131.5 0 Z\", \"line\": {\"color\": \"rgb(255,255,255)\", \"width\": 1}, \"type\": \"path\", \"fillcolor\": \"rgb(255,255,255)\"}, {\"path\": \"M -131.5 100 L 131.5 100 L 131.5 0 L -131.5 0 Z\", \"line\": {\"color\": \"rgb(127,127,127)\", \"width\": 1}, \"type\": \"path\", \"fillcolor\": \"rgb(127,127,127)\"}], \"titlefont\": {\"color\": \"rgb(230,230,230)\", \"size\": 20}, \"xaxis\": {\"zeroline\": false, \"showticklabels\": false}, \"hovermode\": \"closest\"}, {\"linkText\": \"Export to plot.ly\", \"showLink\": true})});</script>"
      ]
     },
     "metadata": {},
     "output_type": "display_data"
    }
   ],
   "source": [
    "layout = go.Layout(\n",
    "    title=\"<b>Segmented Funnel Chart</b>\",\n",
    "    titlefont=dict(\n",
    "        size=20,\n",
    "        color='rgb(230,230,230)'\n",
    "    ),\n",
    "    hovermode='closest',\n",
    "    shapes=shapes,\n",
    "    showlegend=False,\n",
    "    paper_bgcolor='rgba(44,58,71,1)',\n",
    "    plot_bgcolor='rgba(44,58,71,1)',\n",
    "    xaxis=dict(\n",
    "        showticklabels=False,\n",
    "        zeroline=False,\n",
    "    ),\n",
    "    yaxis=dict(\n",
    "        showticklabels=False,\n",
    "        zeroline=False\n",
    "    )\n",
    ")\n",
    "\n",
    "fig = go.Figure(data=data, layout=layout)\n",
    "py.iplot(fig)"
   ]
  },
  {
   "cell_type": "code",
   "execution_count": null,
   "metadata": {
    "collapsed": true,
    "deletable": true,
    "editable": true
   },
   "outputs": [],
   "source": []
  },
  {
   "cell_type": "code",
   "execution_count": 9,
   "metadata": {
    "collapsed": false,
    "deletable": true,
    "editable": true
   },
   "outputs": [
    {
     "data": {
      "text/html": [
       "<div>\n",
       "<style>\n",
       "    .dataframe thead tr:only-child th {\n",
       "        text-align: right;\n",
       "    }\n",
       "\n",
       "    .dataframe thead th {\n",
       "        text-align: left;\n",
       "    }\n",
       "\n",
       "    .dataframe tbody tr th {\n",
       "        vertical-align: top;\n",
       "    }\n",
       "</style>\n",
       "<table border=\"1\" class=\"dataframe\">\n",
       "  <thead>\n",
       "    <tr style=\"text-align: right;\">\n",
       "      <th></th>\n",
       "      <th>ID</th>\n",
       "      <th>Profundidad</th>\n",
       "      <th>sesiones</th>\n",
       "      <th>visualizaciones</th>\n",
       "      <th>visualizacionesUnicas</th>\n",
       "      <th>duracionMediaSesion</th>\n",
       "      <th>visualizacionesPorSesion</th>\n",
       "      <th>visualizacionesUnicasPorSesion</th>\n",
       "      <th>avgTimePage1</th>\n",
       "      <th>avgTimePage2</th>\n",
       "      <th>...</th>\n",
       "      <th>avgTimeInTheProcess</th>\n",
       "      <th>avgTimeOutOfTheProcess</th>\n",
       "      <th>visitsToTheProcess</th>\n",
       "      <th>uniqueVisitsToTheProcess</th>\n",
       "      <th>visitsPage2</th>\n",
       "      <th>uniqueVisitsPage2</th>\n",
       "      <th>visitsPage3</th>\n",
       "      <th>uniqueVisitsPage3</th>\n",
       "      <th>Errores</th>\n",
       "      <th>Y</th>\n",
       "    </tr>\n",
       "  </thead>\n",
       "  <tbody>\n",
       "    <tr>\n",
       "      <th>0</th>\n",
       "      <td>F10001681</td>\n",
       "      <td>1</td>\n",
       "      <td>3</td>\n",
       "      <td>53</td>\n",
       "      <td>16</td>\n",
       "      <td>1246.333333</td>\n",
       "      <td>17.666667</td>\n",
       "      <td>5.333333</td>\n",
       "      <td>10.0</td>\n",
       "      <td>0.000000</td>\n",
       "      <td>...</td>\n",
       "      <td>10.000000</td>\n",
       "      <td>1236.333333</td>\n",
       "      <td>1</td>\n",
       "      <td>1</td>\n",
       "      <td>0.0</td>\n",
       "      <td>0.0</td>\n",
       "      <td>0.0</td>\n",
       "      <td>0.0</td>\n",
       "      <td>0.0</td>\n",
       "      <td>0</td>\n",
       "    </tr>\n",
       "    <tr>\n",
       "      <th>1</th>\n",
       "      <td>F10004567</td>\n",
       "      <td>1</td>\n",
       "      <td>111</td>\n",
       "      <td>1419</td>\n",
       "      <td>409</td>\n",
       "      <td>167.756757</td>\n",
       "      <td>12.783784</td>\n",
       "      <td>3.684685</td>\n",
       "      <td>3.0</td>\n",
       "      <td>0.000000</td>\n",
       "      <td>...</td>\n",
       "      <td>3.000000</td>\n",
       "      <td>164.756757</td>\n",
       "      <td>1</td>\n",
       "      <td>1</td>\n",
       "      <td>0.0</td>\n",
       "      <td>0.0</td>\n",
       "      <td>0.0</td>\n",
       "      <td>0.0</td>\n",
       "      <td>0.0</td>\n",
       "      <td>0</td>\n",
       "    </tr>\n",
       "    <tr>\n",
       "      <th>2</th>\n",
       "      <td>F10007287</td>\n",
       "      <td>4</td>\n",
       "      <td>68</td>\n",
       "      <td>935</td>\n",
       "      <td>301</td>\n",
       "      <td>155.485294</td>\n",
       "      <td>13.750000</td>\n",
       "      <td>4.426471</td>\n",
       "      <td>8.8</td>\n",
       "      <td>7.333333</td>\n",
       "      <td>...</td>\n",
       "      <td>16.133333</td>\n",
       "      <td>139.351961</td>\n",
       "      <td>10</td>\n",
       "      <td>6</td>\n",
       "      <td>4.0</td>\n",
       "      <td>3.0</td>\n",
       "      <td>2.0</td>\n",
       "      <td>1.0</td>\n",
       "      <td>1.0</td>\n",
       "      <td>1</td>\n",
       "    </tr>\n",
       "    <tr>\n",
       "      <th>3</th>\n",
       "      <td>F10019099</td>\n",
       "      <td>4</td>\n",
       "      <td>10</td>\n",
       "      <td>111</td>\n",
       "      <td>48</td>\n",
       "      <td>112.500000</td>\n",
       "      <td>11.100000</td>\n",
       "      <td>4.800000</td>\n",
       "      <td>18.0</td>\n",
       "      <td>5.000000</td>\n",
       "      <td>...</td>\n",
       "      <td>39.000000</td>\n",
       "      <td>73.500000</td>\n",
       "      <td>1</td>\n",
       "      <td>1</td>\n",
       "      <td>1.0</td>\n",
       "      <td>1.0</td>\n",
       "      <td>1.0</td>\n",
       "      <td>1.0</td>\n",
       "      <td>0.0</td>\n",
       "      <td>1</td>\n",
       "    </tr>\n",
       "    <tr>\n",
       "      <th>4</th>\n",
       "      <td>F10020552</td>\n",
       "      <td>1</td>\n",
       "      <td>3</td>\n",
       "      <td>48</td>\n",
       "      <td>15</td>\n",
       "      <td>140.333333</td>\n",
       "      <td>16.000000</td>\n",
       "      <td>5.000000</td>\n",
       "      <td>14.0</td>\n",
       "      <td>0.000000</td>\n",
       "      <td>...</td>\n",
       "      <td>14.000000</td>\n",
       "      <td>126.333333</td>\n",
       "      <td>1</td>\n",
       "      <td>1</td>\n",
       "      <td>0.0</td>\n",
       "      <td>0.0</td>\n",
       "      <td>0.0</td>\n",
       "      <td>0.0</td>\n",
       "      <td>0.0</td>\n",
       "      <td>0</td>\n",
       "    </tr>\n",
       "  </tbody>\n",
       "</table>\n",
       "<p>5 rows × 21 columns</p>\n",
       "</div>"
      ],
      "text/plain": [
       "          ID  Profundidad  sesiones  visualizaciones  visualizacionesUnicas  \\\n",
       "0  F10001681            1         3               53                     16   \n",
       "1  F10004567            1       111             1419                    409   \n",
       "2  F10007287            4        68              935                    301   \n",
       "3  F10019099            4        10              111                     48   \n",
       "4  F10020552            1         3               48                     15   \n",
       "\n",
       "   duracionMediaSesion  visualizacionesPorSesion  \\\n",
       "0          1246.333333                 17.666667   \n",
       "1           167.756757                 12.783784   \n",
       "2           155.485294                 13.750000   \n",
       "3           112.500000                 11.100000   \n",
       "4           140.333333                 16.000000   \n",
       "\n",
       "   visualizacionesUnicasPorSesion  avgTimePage1  avgTimePage2 ...  \\\n",
       "0                        5.333333          10.0      0.000000 ...   \n",
       "1                        3.684685           3.0      0.000000 ...   \n",
       "2                        4.426471           8.8      7.333333 ...   \n",
       "3                        4.800000          18.0      5.000000 ...   \n",
       "4                        5.000000          14.0      0.000000 ...   \n",
       "\n",
       "   avgTimeInTheProcess  avgTimeOutOfTheProcess  visitsToTheProcess  \\\n",
       "0            10.000000             1236.333333                   1   \n",
       "1             3.000000              164.756757                   1   \n",
       "2            16.133333              139.351961                  10   \n",
       "3            39.000000               73.500000                   1   \n",
       "4            14.000000              126.333333                   1   \n",
       "\n",
       "   uniqueVisitsToTheProcess  visitsPage2  uniqueVisitsPage2  visitsPage3  \\\n",
       "0                         1          0.0                0.0          0.0   \n",
       "1                         1          0.0                0.0          0.0   \n",
       "2                         6          4.0                3.0          2.0   \n",
       "3                         1          1.0                1.0          1.0   \n",
       "4                         1          0.0                0.0          0.0   \n",
       "\n",
       "   uniqueVisitsPage3  Errores  Y  \n",
       "0                0.0      0.0  0  \n",
       "1                0.0      0.0  0  \n",
       "2                1.0      1.0  1  \n",
       "3                1.0      0.0  1  \n",
       "4                0.0      0.0  0  \n",
       "\n",
       "[5 rows x 21 columns]"
      ]
     },
     "execution_count": 9,
     "metadata": {},
     "output_type": "execute_result"
    }
   ],
   "source": [
    "tabla = pd.read_csv('../../Archivos_tfm/dataTesting/df_prueba.csv', index_col = 0)\n",
    "tabla.head()\n"
   ]
  },
  {
   "cell_type": "code",
   "execution_count": 36,
   "metadata": {
    "collapsed": false,
    "deletable": true,
    "editable": true
   },
   "outputs": [
    {
     "data": {
      "text/plain": [
       "15130"
      ]
     },
     "execution_count": 36,
     "metadata": {},
     "output_type": "execute_result"
    }
   ],
   "source": [
    "(len(tabla[(tabla['Y']==0) & (tabla['Profundidad']>=1)])+\n",
    " len(tabla[(tabla['Y']==1) & (tabla['Profundidad']>=1)]))"
   ]
  },
  {
   "cell_type": "code",
   "execution_count": 37,
   "metadata": {
    "collapsed": false,
    "deletable": true,
    "editable": true
   },
   "outputs": [
    {
     "data": {
      "text/html": [
       "<div>\n",
       "<style>\n",
       "    .dataframe thead tr:only-child th {\n",
       "        text-align: right;\n",
       "    }\n",
       "\n",
       "    .dataframe thead th {\n",
       "        text-align: left;\n",
       "    }\n",
       "\n",
       "    .dataframe tbody tr th {\n",
       "        vertical-align: top;\n",
       "    }\n",
       "</style>\n",
       "<table border=\"1\" class=\"dataframe\">\n",
       "  <thead>\n",
       "    <tr style=\"text-align: right;\">\n",
       "      <th></th>\n",
       "      <th>y0</th>\n",
       "      <th>y1</th>\n",
       "    </tr>\n",
       "  </thead>\n",
       "  <tbody>\n",
       "    <tr>\n",
       "      <th>Page 1</th>\n",
       "      <td>8476</td>\n",
       "      <td>6654</td>\n",
       "    </tr>\n",
       "    <tr>\n",
       "      <th>Page2</th>\n",
       "      <td>1192</td>\n",
       "      <td>6654</td>\n",
       "    </tr>\n",
       "    <tr>\n",
       "      <th>Page3</th>\n",
       "      <td>321</td>\n",
       "      <td>6654</td>\n",
       "    </tr>\n",
       "    <tr>\n",
       "      <th>Page4</th>\n",
       "      <td>0</td>\n",
       "      <td>6654</td>\n",
       "    </tr>\n",
       "  </tbody>\n",
       "</table>\n",
       "</div>"
      ],
      "text/plain": [
       "          y0    y1\n",
       "Page 1  8476  6654\n",
       "Page2   1192  6654\n",
       "Page3    321  6654\n",
       "Page4      0  6654"
      ]
     },
     "execution_count": 37,
     "metadata": {},
     "output_type": "execute_result"
    }
   ],
   "source": [
    "y0_prof1 = len(tabla[(tabla['Y']==0) & (tabla['Profundidad']>=1)])\n",
    "y0_prof2 = len(tabla[(tabla['Y']==0) & (tabla['Profundidad']>=2)])\n",
    "y0_prof3 = len(tabla[(tabla['Y']==0) & (tabla['Profundidad']>=3)])\n",
    "y0_prof4 = len(tabla[(tabla['Y']==0) & (tabla['Profundidad']>=4)])\n",
    "y1_prof1 = len(tabla[(tabla['Y']==1) & (tabla['Profundidad']>=1)])\n",
    "y1_prof2 = len(tabla[(tabla['Y']==1) & (tabla['Profundidad']>=2)])\n",
    "y1_prof3 = len(tabla[(tabla['Y']==1) & (tabla['Profundidad']>=3)])\n",
    "y1_prof4 = len(tabla[(tabla['Y']==1) & (tabla['Profundidad']>=4)])\n",
    "\n",
    "d = {'y0': [y0_prof1, y0_prof2, y0_prof3, y0_prof4],\n",
    "     'y1': [y1_prof1, y1_prof2, y1_prof3, y1_prof4]}\n",
    "df = pd . DataFrame ( d, index = ['Page 1', 'Page2', 'Page3', 'Page4'] )\n",
    "df"
   ]
  },
  {
   "cell_type": "code",
   "execution_count": null,
   "metadata": {
    "collapsed": true,
    "deletable": true,
    "editable": true
   },
   "outputs": [],
   "source": []
  },
  {
   "cell_type": "code",
   "execution_count": 50,
   "metadata": {
    "collapsed": false,
    "deletable": true,
    "editable": true
   },
   "outputs": [
    {
     "data": {
      "text/plain": [
       "[15130, 7846, 6975, 6654]"
      ]
     },
     "execution_count": 50,
     "metadata": {},
     "output_type": "execute_result"
    }
   ],
   "source": [
    "colors = ['rgb(206,206,206)', 'rgb(255,0,0)']\n",
    "total = [sum(row[1]) for row in df.iterrows()]\n",
    "total"
   ]
  },
  {
   "cell_type": "code",
   "execution_count": 51,
   "metadata": {
    "collapsed": false,
    "deletable": true,
    "editable": true
   },
   "outputs": [
    {
     "data": {
      "text/plain": [
       "(4, 2)"
      ]
     },
     "execution_count": 51,
     "metadata": {},
     "output_type": "execute_result"
    }
   ],
   "source": [
    "n_phase, n_seg = df.shape\n",
    "n_phase, n_seg"
   ]
  },
  {
   "cell_type": "code",
   "execution_count": 52,
   "metadata": {
    "collapsed": true,
    "deletable": true,
    "editable": true
   },
   "outputs": [],
   "source": [
    "plot_width = 600\n",
    "unit_width = plot_width / total[0]\n",
    " \n",
    "phase_w = [int(value * unit_width) for value in total]\n",
    " \n",
    "# height of a section and difference between sections \n",
    "section_h = 100\n",
    "section_d = 10\n",
    "\n",
    "# shapes of the plot\n",
    "shapes = []\n",
    " \n",
    "# plot traces data\n",
    "data = []\n",
    " \n",
    "# height of the phase labels\n",
    "label_y = []"
   ]
  },
  {
   "cell_type": "code",
   "execution_count": 53,
   "metadata": {
    "collapsed": true,
    "deletable": true,
    "editable": true
   },
   "outputs": [],
   "source": [
    "height = section_h * n_phase + section_d * (n_phase-1)\n",
    "\n",
    "# rows of the DataFrame\n",
    "df_rows = list(df.iterrows())\n",
    "\n",
    "# iteration over all the phases\n",
    "for i in range(n_phase):\n",
    "    # phase name\n",
    "    row_name = df.index[i]\n",
    "    \n",
    "    # width of each segment (smaller rectangles) will be calculated\n",
    "    # according to their contribution in the total users of phase\n",
    "    seg_unit_width = phase_w[i] / total[i]\n",
    "    seg_w = [int(df_rows[i][1][j] * seg_unit_width) for j in range(n_seg)]\n",
    "    \n",
    "    # starting point of segment (the rectangle shape) on the X-axis\n",
    "    xl = -1 * (phase_w[i] / 2)\n",
    "    \n",
    "    # iteration over all the segments\n",
    "    for j in range(n_seg):\n",
    "        # name of the segment\n",
    "        seg_name = df.columns[j]\n",
    "        \n",
    "        # corner points of a segment used in the SVG path\n",
    "        points = [xl, height, xl + seg_w[j], height, xl + seg_w[j], height - section_h, xl, height - section_h]\n",
    "        path = 'M {0} {1} L {2} {3} L {4} {5} L {6} {7} Z'.format(*points)\n",
    "        \n",
    "        shape = {\n",
    "                'type': 'path',\n",
    "                'path': path,\n",
    "                'fillcolor': colors[j],\n",
    "                'line': {\n",
    "                    'width': 1,\n",
    "                    'color': colors[j]\n",
    "                }\n",
    "        }\n",
    "        shapes.append(shape)\n",
    "        \n",
    "        # to support hover on shapes\n",
    "        hover_trace = go.Scatter(\n",
    "            x=[xl + (seg_w[j] / 2)],\n",
    "            y=[height - (section_h / 2)],\n",
    "            mode='markers',\n",
    "            marker=dict(\n",
    "                size=min(seg_w[j]/2, (section_h / 2)),\n",
    "                color='rgba(255,255,255,1)'\n",
    "            ),\n",
    "            text=\"Segment : %s\" % (seg_name),\n",
    "            name=\"Value : %d\" % (df[seg_name][row_name])\n",
    "        )\n",
    "        data.append(hover_trace)\n",
    "        \n",
    "        xl = xl + seg_w[j]\n",
    "\n",
    "    label_y.append(height - (section_h / 2))\n",
    "\n",
    "    height = height - (section_h + section_d)"
   ]
  },
  {
   "cell_type": "code",
   "execution_count": 54,
   "metadata": {
    "collapsed": true,
    "deletable": true,
    "editable": true
   },
   "outputs": [],
   "source": [
    "# For phase names\n",
    "label_trace = go.Scatter(\n",
    "    x=[-350]*n_phase,\n",
    "    y=label_y,\n",
    "    mode='text',\n",
    "    text=df.index.tolist(),\n",
    "    textfont=dict(\n",
    "        color='rgb(200,200,200)',\n",
    "        size=15\n",
    "    )\n",
    ")\n",
    "\n",
    "data.append(label_trace)\n",
    " \n",
    "# For phase values (total)\n",
    "value_trace = go.Scatter(\n",
    "    x=[350]*n_phase,\n",
    "    y=label_y,\n",
    "    mode='text',\n",
    "    text=total,\n",
    "    textfont=dict(\n",
    "        color='rgb(200,200,200)',\n",
    "        size=15\n",
    "    )\n",
    ")\n",
    "\n",
    "data.append(value_trace)"
   ]
  },
  {
   "cell_type": "code",
   "execution_count": 55,
   "metadata": {
    "collapsed": false,
    "deletable": true,
    "editable": true
   },
   "outputs": [
    {
     "data": {
      "application/vnd.plotly.v1+json": {
       "data": [
        {
         "marker": {
          "color": "rgba(255,255,255,1)",
          "size": 50
         },
         "mode": "markers",
         "name": "Value : 8476",
         "text": "Segment : y0",
         "type": "scatter",
         "x": [
          -132
         ],
         "y": [
          380
         ]
        },
        {
         "marker": {
          "color": "rgba(255,255,255,1)",
          "size": 50
         },
         "mode": "markers",
         "name": "Value : 6654",
         "text": "Segment : y1",
         "type": "scatter",
         "x": [
          167.5
         ],
         "y": [
          380
         ]
        },
        {
         "marker": {
          "color": "rgba(255,255,255,1)",
          "size": 23.5
         },
         "mode": "markers",
         "name": "Value : 1192",
         "text": "Segment : y0",
         "type": "scatter",
         "x": [
          -132
         ],
         "y": [
          270
         ]
        },
        {
         "marker": {
          "color": "rgba(255,255,255,1)",
          "size": 50
         },
         "mode": "markers",
         "name": "Value : 6654",
         "text": "Segment : y1",
         "type": "scatter",
         "x": [
          23
         ],
         "y": [
          270
         ]
        },
        {
         "marker": {
          "color": "rgba(255,255,255,1)",
          "size": 6
         },
         "mode": "markers",
         "name": "Value : 321",
         "text": "Segment : y0",
         "type": "scatter",
         "x": [
          -132
         ],
         "y": [
          160
         ]
        },
        {
         "marker": {
          "color": "rgba(255,255,255,1)",
          "size": 50
         },
         "mode": "markers",
         "name": "Value : 6654",
         "text": "Segment : y1",
         "type": "scatter",
         "x": [
          5.5
         ],
         "y": [
          160
         ]
        },
        {
         "marker": {
          "color": "rgba(255,255,255,1)",
          "size": 0
         },
         "mode": "markers",
         "name": "Value : 0",
         "text": "Segment : y0",
         "type": "scatter",
         "x": [
          -131.5
         ],
         "y": [
          50
         ]
        },
        {
         "marker": {
          "color": "rgba(255,255,255,1)",
          "size": 50
         },
         "mode": "markers",
         "name": "Value : 6654",
         "text": "Segment : y1",
         "type": "scatter",
         "x": [
          0
         ],
         "y": [
          50
         ]
        },
        {
         "mode": "text",
         "text": [
          "Page 1",
          "Page2",
          "Page3",
          "Page4"
         ],
         "textfont": {
          "color": "rgb(200,200,200)",
          "size": 15
         },
         "type": "scatter",
         "x": [
          -350,
          -350,
          -350,
          -350
         ],
         "y": [
          380,
          270,
          160,
          50
         ]
        },
        {
         "mode": "text",
         "text": [
          15130,
          7846,
          6975,
          6654
         ],
         "textfont": {
          "color": "rgb(200,200,200)",
          "size": 15
         },
         "type": "scatter",
         "x": [
          350,
          350,
          350,
          350
         ],
         "y": [
          380,
          270,
          160,
          50
         ]
        }
       ],
       "layout": {
        "hovermode": "closest",
        "paper_bgcolor": "rgba(44,58,71,1)",
        "plot_bgcolor": "rgba(44,58,71,1)",
        "shapes": [
         {
          "fillcolor": "rgb(206,206,206)",
          "line": {
           "color": "rgb(206,206,206)",
           "width": 1
          },
          "path": "M -300.0 430 L 36.0 430 L 36.0 330 L -300.0 330 Z",
          "type": "path"
         },
         {
          "fillcolor": "rgb(255,0,0)",
          "line": {
           "color": "rgb(255,0,0)",
           "width": 1
          },
          "path": "M 36.0 430 L 299.0 430 L 299.0 330 L 36.0 330 Z",
          "type": "path"
         },
         {
          "fillcolor": "rgb(206,206,206)",
          "line": {
           "color": "rgb(206,206,206)",
           "width": 1
          },
          "path": "M -155.5 320 L -108.5 320 L -108.5 220 L -155.5 220 Z",
          "type": "path"
         },
         {
          "fillcolor": "rgb(255,0,0)",
          "line": {
           "color": "rgb(255,0,0)",
           "width": 1
          },
          "path": "M -108.5 320 L 154.5 320 L 154.5 220 L -108.5 220 Z",
          "type": "path"
         },
         {
          "fillcolor": "rgb(206,206,206)",
          "line": {
           "color": "rgb(206,206,206)",
           "width": 1
          },
          "path": "M -138.0 210 L -126.0 210 L -126.0 110 L -138.0 110 Z",
          "type": "path"
         },
         {
          "fillcolor": "rgb(255,0,0)",
          "line": {
           "color": "rgb(255,0,0)",
           "width": 1
          },
          "path": "M -126.0 210 L 137.0 210 L 137.0 110 L -126.0 110 Z",
          "type": "path"
         },
         {
          "fillcolor": "rgb(206,206,206)",
          "line": {
           "color": "rgb(206,206,206)",
           "width": 1
          },
          "path": "M -131.5 100 L -131.5 100 L -131.5 0 L -131.5 0 Z",
          "type": "path"
         },
         {
          "fillcolor": "rgb(255,0,0)",
          "line": {
           "color": "rgb(255,0,0)",
           "width": 1
          },
          "path": "M -131.5 100 L 131.5 100 L 131.5 0 L -131.5 0 Z",
          "type": "path"
         }
        ],
        "showlegend": false,
        "title": "<b>Segmented Funnel Chart</b>",
        "titlefont": {
         "color": "rgb(230,230,230)",
         "size": 20
        },
        "xaxis": {
         "showticklabels": false,
         "zeroline": false
        },
        "yaxis": {
         "showticklabels": false,
         "zeroline": false
        }
       }
      },
      "text/html": [
       "<div id=\"27fc25dc-e969-4b18-8d50-76802674b2f5\" style=\"height: 525px; width: 100%;\" class=\"plotly-graph-div\"></div><script type=\"text/javascript\">require([\"plotly\"], function(Plotly) { window.PLOTLYENV=window.PLOTLYENV || {};window.PLOTLYENV.BASE_URL=\"https://plot.ly\";Plotly.newPlot(\"27fc25dc-e969-4b18-8d50-76802674b2f5\", [{\"name\": \"Value : 8476\", \"text\": \"Segment : y0\", \"marker\": {\"color\": \"rgba(255,255,255,1)\", \"size\": 50.0}, \"mode\": \"markers\", \"y\": [380.0], \"x\": [-132.0], \"type\": \"scatter\"}, {\"name\": \"Value : 6654\", \"text\": \"Segment : y1\", \"marker\": {\"color\": \"rgba(255,255,255,1)\", \"size\": 50.0}, \"mode\": \"markers\", \"y\": [380.0], \"x\": [167.5], \"type\": \"scatter\"}, {\"name\": \"Value : 1192\", \"text\": \"Segment : y0\", \"marker\": {\"color\": \"rgba(255,255,255,1)\", \"size\": 23.5}, \"mode\": \"markers\", \"y\": [270.0], \"x\": [-132.0], \"type\": \"scatter\"}, {\"name\": \"Value : 6654\", \"text\": \"Segment : y1\", \"marker\": {\"color\": \"rgba(255,255,255,1)\", \"size\": 50.0}, \"mode\": \"markers\", \"y\": [270.0], \"x\": [23.0], \"type\": \"scatter\"}, {\"name\": \"Value : 321\", \"text\": \"Segment : y0\", \"marker\": {\"color\": \"rgba(255,255,255,1)\", \"size\": 6.0}, \"mode\": \"markers\", \"y\": [160.0], \"x\": [-132.0], \"type\": \"scatter\"}, {\"name\": \"Value : 6654\", \"text\": \"Segment : y1\", \"marker\": {\"color\": \"rgba(255,255,255,1)\", \"size\": 50.0}, \"mode\": \"markers\", \"y\": [160.0], \"x\": [5.5], \"type\": \"scatter\"}, {\"name\": \"Value : 0\", \"text\": \"Segment : y0\", \"marker\": {\"color\": \"rgba(255,255,255,1)\", \"size\": 0.0}, \"mode\": \"markers\", \"y\": [50.0], \"x\": [-131.5], \"type\": \"scatter\"}, {\"name\": \"Value : 6654\", \"text\": \"Segment : y1\", \"marker\": {\"color\": \"rgba(255,255,255,1)\", \"size\": 50.0}, \"mode\": \"markers\", \"y\": [50.0], \"x\": [0.0], \"type\": \"scatter\"}, {\"textfont\": {\"color\": \"rgb(200,200,200)\", \"size\": 15}, \"text\": [\"Page 1\", \"Page2\", \"Page3\", \"Page4\"], \"mode\": \"text\", \"y\": [380.0, 270.0, 160.0, 50.0], \"x\": [-350, -350, -350, -350], \"type\": \"scatter\"}, {\"textfont\": {\"color\": \"rgb(200,200,200)\", \"size\": 15}, \"text\": [15130, 7846, 6975, 6654], \"mode\": \"text\", \"y\": [380.0, 270.0, 160.0, 50.0], \"x\": [350, 350, 350, 350], \"type\": \"scatter\"}], {\"showlegend\": false, \"yaxis\": {\"zeroline\": false, \"showticklabels\": false}, \"paper_bgcolor\": \"rgba(44,58,71,1)\", \"plot_bgcolor\": \"rgba(44,58,71,1)\", \"title\": \"<b>Segmented Funnel Chart</b>\", \"shapes\": [{\"path\": \"M -300.0 430 L 36.0 430 L 36.0 330 L -300.0 330 Z\", \"line\": {\"color\": \"rgb(206,206,206)\", \"width\": 1}, \"type\": \"path\", \"fillcolor\": \"rgb(206,206,206)\"}, {\"path\": \"M 36.0 430 L 299.0 430 L 299.0 330 L 36.0 330 Z\", \"line\": {\"color\": \"rgb(255,0,0)\", \"width\": 1}, \"type\": \"path\", \"fillcolor\": \"rgb(255,0,0)\"}, {\"path\": \"M -155.5 320 L -108.5 320 L -108.5 220 L -155.5 220 Z\", \"line\": {\"color\": \"rgb(206,206,206)\", \"width\": 1}, \"type\": \"path\", \"fillcolor\": \"rgb(206,206,206)\"}, {\"path\": \"M -108.5 320 L 154.5 320 L 154.5 220 L -108.5 220 Z\", \"line\": {\"color\": \"rgb(255,0,0)\", \"width\": 1}, \"type\": \"path\", \"fillcolor\": \"rgb(255,0,0)\"}, {\"path\": \"M -138.0 210 L -126.0 210 L -126.0 110 L -138.0 110 Z\", \"line\": {\"color\": \"rgb(206,206,206)\", \"width\": 1}, \"type\": \"path\", \"fillcolor\": \"rgb(206,206,206)\"}, {\"path\": \"M -126.0 210 L 137.0 210 L 137.0 110 L -126.0 110 Z\", \"line\": {\"color\": \"rgb(255,0,0)\", \"width\": 1}, \"type\": \"path\", \"fillcolor\": \"rgb(255,0,0)\"}, {\"path\": \"M -131.5 100 L -131.5 100 L -131.5 0 L -131.5 0 Z\", \"line\": {\"color\": \"rgb(206,206,206)\", \"width\": 1}, \"type\": \"path\", \"fillcolor\": \"rgb(206,206,206)\"}, {\"path\": \"M -131.5 100 L 131.5 100 L 131.5 0 L -131.5 0 Z\", \"line\": {\"color\": \"rgb(255,0,0)\", \"width\": 1}, \"type\": \"path\", \"fillcolor\": \"rgb(255,0,0)\"}], \"titlefont\": {\"color\": \"rgb(230,230,230)\", \"size\": 20}, \"xaxis\": {\"zeroline\": false, \"showticklabels\": false}, \"hovermode\": \"closest\"}, {\"linkText\": \"Export to plot.ly\", \"showLink\": true})});</script>"
      ],
      "text/vnd.plotly.v1+html": [
       "<div id=\"27fc25dc-e969-4b18-8d50-76802674b2f5\" style=\"height: 525px; width: 100%;\" class=\"plotly-graph-div\"></div><script type=\"text/javascript\">require([\"plotly\"], function(Plotly) { window.PLOTLYENV=window.PLOTLYENV || {};window.PLOTLYENV.BASE_URL=\"https://plot.ly\";Plotly.newPlot(\"27fc25dc-e969-4b18-8d50-76802674b2f5\", [{\"name\": \"Value : 8476\", \"text\": \"Segment : y0\", \"marker\": {\"color\": \"rgba(255,255,255,1)\", \"size\": 50.0}, \"mode\": \"markers\", \"y\": [380.0], \"x\": [-132.0], \"type\": \"scatter\"}, {\"name\": \"Value : 6654\", \"text\": \"Segment : y1\", \"marker\": {\"color\": \"rgba(255,255,255,1)\", \"size\": 50.0}, \"mode\": \"markers\", \"y\": [380.0], \"x\": [167.5], \"type\": \"scatter\"}, {\"name\": \"Value : 1192\", \"text\": \"Segment : y0\", \"marker\": {\"color\": \"rgba(255,255,255,1)\", \"size\": 23.5}, \"mode\": \"markers\", \"y\": [270.0], \"x\": [-132.0], \"type\": \"scatter\"}, {\"name\": \"Value : 6654\", \"text\": \"Segment : y1\", \"marker\": {\"color\": \"rgba(255,255,255,1)\", \"size\": 50.0}, \"mode\": \"markers\", \"y\": [270.0], \"x\": [23.0], \"type\": \"scatter\"}, {\"name\": \"Value : 321\", \"text\": \"Segment : y0\", \"marker\": {\"color\": \"rgba(255,255,255,1)\", \"size\": 6.0}, \"mode\": \"markers\", \"y\": [160.0], \"x\": [-132.0], \"type\": \"scatter\"}, {\"name\": \"Value : 6654\", \"text\": \"Segment : y1\", \"marker\": {\"color\": \"rgba(255,255,255,1)\", \"size\": 50.0}, \"mode\": \"markers\", \"y\": [160.0], \"x\": [5.5], \"type\": \"scatter\"}, {\"name\": \"Value : 0\", \"text\": \"Segment : y0\", \"marker\": {\"color\": \"rgba(255,255,255,1)\", \"size\": 0.0}, \"mode\": \"markers\", \"y\": [50.0], \"x\": [-131.5], \"type\": \"scatter\"}, {\"name\": \"Value : 6654\", \"text\": \"Segment : y1\", \"marker\": {\"color\": \"rgba(255,255,255,1)\", \"size\": 50.0}, \"mode\": \"markers\", \"y\": [50.0], \"x\": [0.0], \"type\": \"scatter\"}, {\"textfont\": {\"color\": \"rgb(200,200,200)\", \"size\": 15}, \"text\": [\"Page 1\", \"Page2\", \"Page3\", \"Page4\"], \"mode\": \"text\", \"y\": [380.0, 270.0, 160.0, 50.0], \"x\": [-350, -350, -350, -350], \"type\": \"scatter\"}, {\"textfont\": {\"color\": \"rgb(200,200,200)\", \"size\": 15}, \"text\": [15130, 7846, 6975, 6654], \"mode\": \"text\", \"y\": [380.0, 270.0, 160.0, 50.0], \"x\": [350, 350, 350, 350], \"type\": \"scatter\"}], {\"showlegend\": false, \"yaxis\": {\"zeroline\": false, \"showticklabels\": false}, \"paper_bgcolor\": \"rgba(44,58,71,1)\", \"plot_bgcolor\": \"rgba(44,58,71,1)\", \"title\": \"<b>Segmented Funnel Chart</b>\", \"shapes\": [{\"path\": \"M -300.0 430 L 36.0 430 L 36.0 330 L -300.0 330 Z\", \"line\": {\"color\": \"rgb(206,206,206)\", \"width\": 1}, \"type\": \"path\", \"fillcolor\": \"rgb(206,206,206)\"}, {\"path\": \"M 36.0 430 L 299.0 430 L 299.0 330 L 36.0 330 Z\", \"line\": {\"color\": \"rgb(255,0,0)\", \"width\": 1}, \"type\": \"path\", \"fillcolor\": \"rgb(255,0,0)\"}, {\"path\": \"M -155.5 320 L -108.5 320 L -108.5 220 L -155.5 220 Z\", \"line\": {\"color\": \"rgb(206,206,206)\", \"width\": 1}, \"type\": \"path\", \"fillcolor\": \"rgb(206,206,206)\"}, {\"path\": \"M -108.5 320 L 154.5 320 L 154.5 220 L -108.5 220 Z\", \"line\": {\"color\": \"rgb(255,0,0)\", \"width\": 1}, \"type\": \"path\", \"fillcolor\": \"rgb(255,0,0)\"}, {\"path\": \"M -138.0 210 L -126.0 210 L -126.0 110 L -138.0 110 Z\", \"line\": {\"color\": \"rgb(206,206,206)\", \"width\": 1}, \"type\": \"path\", \"fillcolor\": \"rgb(206,206,206)\"}, {\"path\": \"M -126.0 210 L 137.0 210 L 137.0 110 L -126.0 110 Z\", \"line\": {\"color\": \"rgb(255,0,0)\", \"width\": 1}, \"type\": \"path\", \"fillcolor\": \"rgb(255,0,0)\"}, {\"path\": \"M -131.5 100 L -131.5 100 L -131.5 0 L -131.5 0 Z\", \"line\": {\"color\": \"rgb(206,206,206)\", \"width\": 1}, \"type\": \"path\", \"fillcolor\": \"rgb(206,206,206)\"}, {\"path\": \"M -131.5 100 L 131.5 100 L 131.5 0 L -131.5 0 Z\", \"line\": {\"color\": \"rgb(255,0,0)\", \"width\": 1}, \"type\": \"path\", \"fillcolor\": \"rgb(255,0,0)\"}], \"titlefont\": {\"color\": \"rgb(230,230,230)\", \"size\": 20}, \"xaxis\": {\"zeroline\": false, \"showticklabels\": false}, \"hovermode\": \"closest\"}, {\"linkText\": \"Export to plot.ly\", \"showLink\": true})});</script>"
      ]
     },
     "metadata": {},
     "output_type": "display_data"
    }
   ],
   "source": [
    "layout = go.Layout(\n",
    "    title=\"<b>Segmented Funnel Chart</b>\",\n",
    "    titlefont=dict(\n",
    "        size=20,\n",
    "        color='rgb(230,230,230)'\n",
    "    ),\n",
    "    hovermode='closest',\n",
    "    shapes=shapes,\n",
    "    showlegend=False,\n",
    "    paper_bgcolor='rgba(44,58,71,1)',\n",
    "    plot_bgcolor='rgba(44,58,71,1)',\n",
    "    xaxis=dict(\n",
    "        showticklabels=False,\n",
    "        zeroline=False,\n",
    "    ),\n",
    "    yaxis=dict(\n",
    "        showticklabels=False,\n",
    "        zeroline=False\n",
    "    )\n",
    ")\n",
    "\n",
    "fig = go.Figure(data=data, layout=layout)\n",
    "py.iplot(fig)"
   ]
  },
  {
   "cell_type": "code",
   "execution_count": null,
   "metadata": {
    "collapsed": true,
    "deletable": true,
    "editable": true
   },
   "outputs": [],
   "source": []
  },
  {
   "cell_type": "code",
   "execution_count": null,
   "metadata": {
    "collapsed": true,
    "deletable": true,
    "editable": true
   },
   "outputs": [],
   "source": []
  }
 ],
 "metadata": {
  "kernelspec": {
   "display_name": "Python 2",
   "language": "python",
   "name": "python2"
  },
  "language_info": {
   "codemirror_mode": {
    "name": "ipython",
    "version": 2
   },
   "file_extension": ".py",
   "mimetype": "text/x-python",
   "name": "python",
   "nbconvert_exporter": "python",
   "pygments_lexer": "ipython2",
   "version": "2.7.13"
  }
 },
 "nbformat": 4,
 "nbformat_minor": 2
}
