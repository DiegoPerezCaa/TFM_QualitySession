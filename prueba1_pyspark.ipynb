{
 "cells": [
  {
   "cell_type": "code",
   "execution_count": 11,
   "metadata": {
    "collapsed": false,
    "deletable": true,
    "editable": true
   },
   "outputs": [],
   "source": [
    "sc.textFile??"
   ]
  },
  {
   "cell_type": "code",
   "execution_count": 4,
   "metadata": {
    "collapsed": false,
    "deletable": true,
    "editable": true
   },
   "outputs": [],
   "source": [
    "sessions = sc.textFile(\"../TFM/TFM.csv\", de)"
   ]
  },
  {
   "cell_type": "code",
   "execution_count": 5,
   "metadata": {
    "collapsed": false,
    "deletable": true,
    "editable": true
   },
   "outputs": [
    {
     "data": {
      "text/plain": [
       "[u'Session Id,Duraci\\xf3n de la sesi\\xf3n',\n",
       " u'1505516379703,35330',\n",
       " u'1505556219133,32843']"
      ]
     },
     "execution_count": 5,
     "metadata": {},
     "output_type": "execute_result"
    }
   ],
   "source": [
    "sessions.take(3)"
   ]
  },
  {
   "cell_type": "code",
   "execution_count": 6,
   "metadata": {
    "collapsed": false,
    "deletable": true,
    "editable": true
   },
   "outputs": [
    {
     "name": "stdout",
     "output_type": "stream",
     "text": [
      "Object `pd.read_csv` not found.\n"
     ]
    }
   ],
   "source": [
    "# Para trabajar con una RDD no podemos tener nombres de columnas\n",
    "# Vamos a intentar quitar el nombre de las columnas usando filter"
   ]
  },
  {
   "cell_type": "code",
   "execution_count": 7,
   "metadata": {
    "collapsed": false,
    "deletable": true,
    "editable": true
   },
   "outputs": [
    {
     "data": {
      "text/plain": [
       "u'Session Id,Duraci\\xf3n de la sesi\\xf3n'"
      ]
     },
     "execution_count": 7,
     "metadata": {},
     "output_type": "execute_result"
    }
   ],
   "source": [
    "# Nos quedamos con el nombre de las columnas usando first()\n",
    "header = sessions.first()\n",
    "header"
   ]
  },
  {
   "cell_type": "code",
   "execution_count": 8,
   "metadata": {
    "collapsed": true
   },
   "outputs": [],
   "source": [
    "sessionsRDD = sessions.filter(lambda row: row != header)"
   ]
  },
  {
   "cell_type": "code",
   "execution_count": 9,
   "metadata": {
    "collapsed": false
   },
   "outputs": [
    {
     "data": {
      "text/plain": [
       "[u'1505516379703,35330',\n",
       " u'1505556219133,32843',\n",
       " u'1505538345391,15449',\n",
       " u'1505565729664,11947',\n",
       " u'1505585533998,11466']"
      ]
     },
     "execution_count": 9,
     "metadata": {},
     "output_type": "execute_result"
    }
   ],
   "source": [
    "sessionsRDD.take(5)"
   ]
  },
  {
   "cell_type": "code",
   "execution_count": 16,
   "metadata": {
    "collapsed": false
   },
   "outputs": [
    {
     "data": {
      "text/plain": [
       "[[u'1505516379703', 35330.0],\n",
       " [u'1505556219133', 32843.0],\n",
       " [u'1505538345391', 15449.0],\n",
       " [u'1505565729664', 11947.0],\n",
       " [u'1505585533998', 11466.0],\n",
       " [u'1505564943262', 11227.0],\n",
       " [u'1505549958462', 9744.0],\n",
       " [u'1505565962317', 9644.0]]"
      ]
     },
     "execution_count": 16,
     "metadata": {},
     "output_type": "execute_result"
    }
   ],
   "source": [
    "# Creamos una función que nos separa cada columna y convierta la fila de segundos en formato float\n",
    "def splitAndFloat (row, delim = ','):\n",
    "    \"\"\"\n",
    "    :param row: sesión de entrada como un string separado por comas\n",
    "    :return una lista con id de sesiín y duración de la sesión en segundos.\n",
    "    \n",
    "    \"\"\"\n",
    "    \n",
    "    out = row.split(delim)\n",
    "    return [out[0],float(out[1])]\n",
    "    \n",
    "\n",
    "sessionsRDD.map(lambda l: splitAndFloat(l)).take(8)"
   ]
  },
  {
   "cell_type": "code",
   "execution_count": 17,
   "metadata": {
    "collapsed": true
   },
   "outputs": [],
   "source": [
    "sessionsRDD2 = sessionsRDD.map(lambda l: splitAndFloat(l))"
   ]
  },
  {
   "cell_type": "code",
   "execution_count": 19,
   "metadata": {
    "collapsed": false
   },
   "outputs": [
    {
     "data": {
      "text/plain": [
       "(count: 337370, mean: 153.730222011, stdev: 356.554459068, max: 35330.0, min: 1.0)"
      ]
     },
     "execution_count": 19,
     "metadata": {},
     "output_type": "execute_result"
    }
   ],
   "source": [
    "sessionsRDD2.map(lambda l: l[1]).stats()"
   ]
  },
  {
   "cell_type": "code",
   "execution_count": null,
   "metadata": {
    "collapsed": true
   },
   "outputs": [],
   "source": []
  }
 ],
 "metadata": {
  "kernelspec": {
   "display_name": "Python 2",
   "language": "python",
   "name": "python2"
  },
  "language_info": {
   "codemirror_mode": {
    "name": "ipython",
    "version": 2
   },
   "file_extension": ".py",
   "mimetype": "text/x-python",
   "name": "python",
   "nbconvert_exporter": "python",
   "pygments_lexer": "ipython2",
   "version": "2.7.13"
  }
 },
 "nbformat": 4,
 "nbformat_minor": 2
}
