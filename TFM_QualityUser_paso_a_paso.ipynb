{
 "cells": [
  {
   "cell_type": "markdown",
   "metadata": {
    "collapsed": true,
    "deletable": true,
    "editable": true
   },
   "source": [
    "**Nota**: Leer antes el archivo \"memoria_TFM.pdf\" "
   ]
  },
  {
   "cell_type": "markdown",
   "metadata": {},
   "source": [
    "# TFM CÁLIDAD DEL USUARIO\n",
    "\n",
    "## Este notebook consta de las siguientes partes:\n",
    "\n",
    "- Importación de librerías\n",
    "- Preparación del data frame\n",
    "- Análisis y estudio del proceso\n"
   ]
  },
  {
   "cell_type": "code",
   "execution_count": 1,
   "metadata": {
    "collapsed": true
   },
   "outputs": [],
   "source": [
    "import pandas as pd\n",
    "import numpy as np"
   ]
  },
  {
   "cell_type": "markdown",
   "metadata": {},
   "source": [
    "### Preparación del data frame\n",
    "\n",
    "**Nota1**: La mayoría de los archivos que usaremos han sido previeamente modificados por motivos de privacidad, por lo que al importarlos usaremos *index_col=0* ya que ya tenían indice. Ninguna de estas modificaciones afecta al resultado del proyecto.\n",
    "\n",
    "**Nota2**: Todos los archivos que importaremos son .csv y estaran en la misma carpeta de este notebook."
   ]
  },
  {
   "cell_type": "markdown",
   "metadata": {},
   "source": [
    "Importamos la primera consulta que hemos realizado (usuarios_proceso_y_so.csv) en google analytics. Este archivo contiene a los usuarios que han accedido al proceso y el sistema operativo desde el que han accedido (Mac OS o Windows OS). También tenemos otra columna de usuarios pero la eliminaremos ya que no nos es útil."
   ]
  },
  {
   "cell_type": "code",
   "execution_count": 25,
   "metadata": {
    "collapsed": false
   },
   "outputs": [
    {
     "name": "stdout",
     "output_type": "stream",
     "text": [
      "  identificador Sistema operativo  Usuarios\n",
      "0       245701u        Windows OS         1\n",
      "1         1120u        Windows OS         1\n",
      "2       267373u            Mac OS         1\n",
      "3       149066u        Windows OS         1\n",
      "4        90480u        Windows OS         1\n",
      "\n",
      "Tenemos 28960 filas y 3 columnas\n"
     ]
    }
   ],
   "source": [
    "# Importamos usando pandas\n",
    "usu_so = pd.read_csv('./usuarios_proceso_y_so.csv', index_col=0)\n",
    "# Veamos que pinta tiene el archivo\n",
    "print usu_so.head()\n",
    "print \"\"\n",
    "print 'Tenemos %i filas y %i columnas' %(usu_so.shape[0], usu_so.shape[1])"
   ]
  },
  {
   "cell_type": "code",
   "execution_count": 26,
   "metadata": {
    "collapsed": true
   },
   "outputs": [],
   "source": [
    "# Modificamos el nombre de las columnas por motivos de uniformidad.\n",
    "# El formato siempre sera: minúsculas, sin tildes y con barra baja como espacio.\n",
    "usu_so.columns = ['identificador', 'so', 'usuarios']\n",
    "# Eliminamos la columna usuarios ya que no nos aporta nada.\n",
    "usu_so.drop('usuarios', 1, inplace = True)"
   ]
  },
  {
   "cell_type": "markdown",
   "metadata": {},
   "source": [
    "Para empezar a preparar nuestro data frame debemos quedarnos con los identificadores únicos de usu_so. Obviamente un usuario ha podido acceder al proceso desde un solo sistema operativo o desde los dos, por tanto, tenemos que eliminar identificadores duplicados."
   ]
  },
  {
   "cell_type": "code",
   "execution_count": 34,
   "metadata": {
    "collapsed": false
   },
   "outputs": [
    {
     "name": "stdout",
     "output_type": "stream",
     "text": [
      "Había 125 usuarios duplicados\n",
      "Han entrado 28835 usuarios en el periodo seleccionado en la consulta\n"
     ]
    }
   ],
   "source": [
    "# Esto podemos hacerlo con pandas o con un bucle for con numpy.\n",
    "# Bajo mi punto de vista la forma más fácil es con pandas.\n",
    "\n",
    "# Con pandas\n",
    "# Copiamos usu_so en un nuevo dataframe.\n",
    "df = usu_so.copy()\n",
    "# Ordenamos por la columna identificador y eliminamos los duplicados\n",
    "df.sort_values('identificador', inplace=True)\n",
    "df.drop_duplicates('identificador', inplace=True)\n",
    "# Eliminamos la columna del sistema operativo para quedarnos solo con el identificador\n",
    "df.drop('so', 1, inplace=True)\n",
    "\n",
    "print 'Había %i usuarios duplicados' %(len(usu_so)-len(df))\n",
    "print 'Han entrado %i usuarios en el periodo seleccionado en la consulta' %(len(df))"
   ]
  },
  {
   "cell_type": "code",
   "execution_count": null,
   "metadata": {
    "collapsed": true
   },
   "outputs": [],
   "source": [
    "# Faltaría hacer la celda anterior con un bucle for en numpy"
   ]
  },
  {
   "cell_type": "markdown",
   "metadata": {},
   "source": [
    "Ya tenemos la primera columna de nuestro data frame. Iremos añadiendo nuevas variables a este.\n",
    "\n",
    "Como primera variable y aprovechando que tenemos importado el archivo de los sistemas operativos, crearemos una nueva variable que pueda tener 3 valores diferentes:\n",
    "- 0 si el sistema operativo solo es Mac OS.\n",
    "- 1 si el sistema operativo solo es Windows OS.\n",
    "- 2 si el sistema operativo han sido ambos."
   ]
  },
  {
   "cell_type": "code",
   "execution_count": 53,
   "metadata": {
    "collapsed": false
   },
   "outputs": [],
   "source": [
    "# Primero ordenamos el data frame por identificador de usuario\n",
    "usu_so.sort_values('identificador', inplace=True)\n",
    "\n",
    "sist_ope = [] # Creamos una lista vacía donde iremos añadiendo el resultado 0,1 o 2.\n",
    "usuarios = [] # Creamos otra lista vacía donde iremos añadiendo los usuarios que ya tenemos.\n",
    "\n",
    "# La idea es hacer un bucle que recorra una lista de tuplas e ir añadiendo los identificadores\n",
    "# a la lista creada 'usuarios' y conforme añadamos usuarios, si el identificador ya está en la lista\n",
    "# sabremos que ese usuario ha accedido desde ambos sistemas operativos y por tanto sera un 2 en 'sist_ope'\n",
    "for usuario_so in usu_so.values.tolist():\n",
    "    \n",
    "    if usuario_so[0] in usuarios: # Con usuario_so[0] accedemos a el primer valor de la tupla\n",
    "        \n",
    "        # Si el usuario ya estaba cambiamos el ultimo valor añadido por un 2\n",
    "        # El último valor añadido era 0 o 1 de ese mismo usuario.\n",
    "        sist_ope[len(sist_ope)-1] = 2\n",
    "        \n",
    "    else:\n",
    "        usuarios.append(usuario_so[0]) # Si no estaba en la lista de usuarios, lo añadimos\n",
    "        if usuario_so[1] == 'Mac OS':  # Si es Mac OS añadimos un 0 a sist_ope\n",
    "            sist_ope.append(0)\n",
    "        else:\n",
    "            sist_ope.append(1)         # Si no, será Windows OS y añadimos un 1"
   ]
  },
  {
   "cell_type": "code",
   "execution_count": 54,
   "metadata": {
    "collapsed": true
   },
   "outputs": [],
   "source": [
    "# Pendiente hacer una función"
   ]
  },
  {
   "cell_type": "code",
   "execution_count": 64,
   "metadata": {
    "collapsed": false
   },
   "outputs": [
    {
     "name": "stdout",
     "output_type": "stream",
     "text": [
      "125\n",
      "28835\n",
      "28835\n"
     ]
    }
   ],
   "source": [
    "# Si hemos hecho bien el bucle anterior el número de valores 2 en sist_ope\n",
    "# debería ser igual a 125 (usuarios duplicados)\n",
    "print len ([l for l in sist_ope if l==2])\n",
    "\n",
    "# len(sist_ope)  y len(usuarios) deberían ser igual que len(df)\n",
    "print len(sist_ope)\n",
    "print len(usuarios)\n",
    "print len(df)"
   ]
  },
  {
   "cell_type": "code",
   "execution_count": 66,
   "metadata": {
    "collapsed": false
   },
   "outputs": [
    {
     "data": {
      "text/html": [
       "<div>\n",
       "<style>\n",
       "    .dataframe thead tr:only-child th {\n",
       "        text-align: right;\n",
       "    }\n",
       "\n",
       "    .dataframe thead th {\n",
       "        text-align: left;\n",
       "    }\n",
       "\n",
       "    .dataframe tbody tr th {\n",
       "        vertical-align: top;\n",
       "    }\n",
       "</style>\n",
       "<table border=\"1\" class=\"dataframe\">\n",
       "  <thead>\n",
       "    <tr style=\"text-align: right;\">\n",
       "      <th></th>\n",
       "      <th>identificador</th>\n",
       "      <th>ssoo</th>\n",
       "    </tr>\n",
       "  </thead>\n",
       "  <tbody>\n",
       "    <tr>\n",
       "      <th>0</th>\n",
       "      <td>100016u</td>\n",
       "      <td>0</td>\n",
       "    </tr>\n",
       "    <tr>\n",
       "      <th>1</th>\n",
       "      <td>100018u</td>\n",
       "      <td>0</td>\n",
       "    </tr>\n",
       "    <tr>\n",
       "      <th>2</th>\n",
       "      <td>100026u</td>\n",
       "      <td>1</td>\n",
       "    </tr>\n",
       "    <tr>\n",
       "      <th>3</th>\n",
       "      <td>100027u</td>\n",
       "      <td>1</td>\n",
       "    </tr>\n",
       "    <tr>\n",
       "      <th>4</th>\n",
       "      <td>100036u</td>\n",
       "      <td>1</td>\n",
       "    </tr>\n",
       "  </tbody>\n",
       "</table>\n",
       "</div>"
      ],
      "text/plain": [
       "  identificador  ssoo\n",
       "0       100016u     0\n",
       "1       100018u     0\n",
       "2       100026u     1\n",
       "3       100027u     1\n",
       "4       100036u     1"
      ]
     },
     "execution_count": 66,
     "metadata": {},
     "output_type": "execute_result"
    }
   ],
   "source": [
    "# Vamos a convertir 'sist_ope' y 'usuarios' en un dataframe para hacer un merfe por el identificador\n",
    "temp = pd.DataFrame({'identificador':usuarios, 'ssoo':sist_ope})\n",
    "\n",
    "# Unimos los dataframes y ya tenemos nuestra primera variable.\n",
    "df = pd.merge(df, temp, on='identificador', how='left')\n",
    "\n",
    "df.head()"
   ]
  },
  {
   "cell_type": "markdown",
   "metadata": {},
   "source": [
    "Importamos la segunda consulta que hemos hecho en google analytics. En este archivo encontramos lás páginas del proceso que ha visitado cada usuario, el tiempo medio que ha estado en cada una de ellas, el número de veces que ha visto cada página y el número de visualizaciones únicas de cada página."
   ]
  },
  {
   "cell_type": "code",
   "execution_count": 69,
   "metadata": {
    "collapsed": false
   },
   "outputs": [
    {
     "data": {
      "text/html": [
       "<div>\n",
       "<style>\n",
       "    .dataframe thead tr:only-child th {\n",
       "        text-align: right;\n",
       "    }\n",
       "\n",
       "    .dataframe thead th {\n",
       "        text-align: left;\n",
       "    }\n",
       "\n",
       "    .dataframe tbody tr th {\n",
       "        vertical-align: top;\n",
       "    }\n",
       "</style>\n",
       "<table border=\"1\" class=\"dataframe\">\n",
       "  <thead>\n",
       "    <tr style=\"text-align: right;\">\n",
       "      <th></th>\n",
       "      <th>identificador</th>\n",
       "      <th>página</th>\n",
       "      <th>Promedio de tiempo en la página</th>\n",
       "      <th>Número de visitas a páginas</th>\n",
       "      <th>Número de visitas a páginas únicas</th>\n",
       "    </tr>\n",
       "  </thead>\n",
       "  <tbody>\n",
       "    <tr>\n",
       "      <th>0</th>\n",
       "      <td>195567u</td>\n",
       "      <td>page1</td>\n",
       "      <td>1627.0</td>\n",
       "      <td>1</td>\n",
       "      <td>1</td>\n",
       "    </tr>\n",
       "    <tr>\n",
       "      <th>1</th>\n",
       "      <td>121943u</td>\n",
       "      <td>page1</td>\n",
       "      <td>1623.0</td>\n",
       "      <td>1</td>\n",
       "      <td>1</td>\n",
       "    </tr>\n",
       "    <tr>\n",
       "      <th>2</th>\n",
       "      <td>110307u</td>\n",
       "      <td>page2</td>\n",
       "      <td>1557.0</td>\n",
       "      <td>1</td>\n",
       "      <td>1</td>\n",
       "    </tr>\n",
       "    <tr>\n",
       "      <th>3</th>\n",
       "      <td>238327u</td>\n",
       "      <td>page1</td>\n",
       "      <td>1548.0</td>\n",
       "      <td>1</td>\n",
       "      <td>1</td>\n",
       "    </tr>\n",
       "    <tr>\n",
       "      <th>4</th>\n",
       "      <td>236613u</td>\n",
       "      <td>page2</td>\n",
       "      <td>1498.0</td>\n",
       "      <td>1</td>\n",
       "      <td>1</td>\n",
       "    </tr>\n",
       "  </tbody>\n",
       "</table>\n",
       "</div>"
      ],
      "text/plain": [
       "  identificador página  Promedio de tiempo en la página  \\\n",
       "0       195567u  page1                           1627.0   \n",
       "1       121943u  page1                           1623.0   \n",
       "2       110307u  page2                           1557.0   \n",
       "3       238327u  page1                           1548.0   \n",
       "4       236613u  page2                           1498.0   \n",
       "\n",
       "   Número de visitas a páginas  Número de visitas a páginas únicas  \n",
       "0                            1                                   1  \n",
       "1                            1                                   1  \n",
       "2                            1                                   1  \n",
       "3                            1                                   1  \n",
       "4                            1                                   1  "
      ]
     },
     "execution_count": 69,
     "metadata": {},
     "output_type": "execute_result"
    }
   ],
   "source": [
    "datos_proceso = pd.read_csv('./datos_proceso.csv', index_col=0)\n",
    "datos_proceso.head()"
   ]
  },
  {
   "cell_type": "markdown",
   "metadata": {},
   "source": [
    "Vamos a tratar este archivo para añadir varias variables a nuestro dataframe. Empezaremos cálculando la profundidad del usuario, es decir, lo lejos que ha llegado el usuario en el proceso. El valor irá de 1 a 4 en función de si se quedo en la página 1,2,3 o 4."
   ]
  },
  {
   "cell_type": "code",
   "execution_count": 75,
   "metadata": {
    "collapsed": false
   },
   "outputs": [],
   "source": [
    "# Puesto que un usuario aparece una vez para cada página que ha visto, para calcular la profundidad\n",
    "# solo necesitamos la columna 'identificador' y contar cuantas veces aparece cada usuario\n",
    "# Básicamente vamos a hacer el \"The word-count problem\" con nuestro identificadores.\n",
    "\n",
    "def countUsers(lista): # Definimos la función que cálcula la profundidad.\n",
    "    \"\"\"\n",
    "    method para contar veces que aparece un usuario\n",
    "    inputs:\n",
    "        *lista: lista de usuarios\n",
    "    output: diccionario de {'ID usuario':profundidad en el proceso}\n",
    "    \"\"\"\n",
    "    hist = {} # Creamos un diccionario vacío\n",
    "    for user in lista:\n",
    "        if user in hist:\n",
    "            hist[user] += 1\n",
    "        else:\n",
    "            hist[user] = 1\n",
    "    return hist\n",
    "\n",
    "dict_user = countUsers(datos_proceso['identificador']) # aplicamos la función a nuestra lista de usuarios\n",
    "profundidad = pd.DataFrame(dict_user.items(), columns=['identificador','profundidad']) # Diccionario a dataframe\n",
    "\n",
    "# Añadimos la nueva variable anuestro dataframe\n",
    "df = pd.merge(df,profundidad, on ='identificador', how='left')"
   ]
  },
  {
   "cell_type": "code",
   "execution_count": 76,
   "metadata": {
    "collapsed": false
   },
   "outputs": [
    {
     "data": {
      "text/html": [
       "<div>\n",
       "<style>\n",
       "    .dataframe thead tr:only-child th {\n",
       "        text-align: right;\n",
       "    }\n",
       "\n",
       "    .dataframe thead th {\n",
       "        text-align: left;\n",
       "    }\n",
       "\n",
       "    .dataframe tbody tr th {\n",
       "        vertical-align: top;\n",
       "    }\n",
       "</style>\n",
       "<table border=\"1\" class=\"dataframe\">\n",
       "  <thead>\n",
       "    <tr style=\"text-align: right;\">\n",
       "      <th></th>\n",
       "      <th>identificador</th>\n",
       "      <th>ssoo</th>\n",
       "      <th>profundidad</th>\n",
       "    </tr>\n",
       "  </thead>\n",
       "  <tbody>\n",
       "    <tr>\n",
       "      <th>0</th>\n",
       "      <td>100016u</td>\n",
       "      <td>0</td>\n",
       "      <td>1</td>\n",
       "    </tr>\n",
       "    <tr>\n",
       "      <th>1</th>\n",
       "      <td>100018u</td>\n",
       "      <td>0</td>\n",
       "      <td>4</td>\n",
       "    </tr>\n",
       "    <tr>\n",
       "      <th>2</th>\n",
       "      <td>100026u</td>\n",
       "      <td>1</td>\n",
       "      <td>1</td>\n",
       "    </tr>\n",
       "    <tr>\n",
       "      <th>3</th>\n",
       "      <td>100027u</td>\n",
       "      <td>1</td>\n",
       "      <td>1</td>\n",
       "    </tr>\n",
       "    <tr>\n",
       "      <th>4</th>\n",
       "      <td>100036u</td>\n",
       "      <td>1</td>\n",
       "      <td>1</td>\n",
       "    </tr>\n",
       "  </tbody>\n",
       "</table>\n",
       "</div>"
      ],
      "text/plain": [
       "  identificador  ssoo  profundidad\n",
       "0       100016u     0            1\n",
       "1       100018u     0            4\n",
       "2       100026u     1            1\n",
       "3       100027u     1            1\n",
       "4       100036u     1            1"
      ]
     },
     "execution_count": 76,
     "metadata": {},
     "output_type": "execute_result"
    }
   ],
   "source": [
    "df.head()"
   ]
  },
  {
   "cell_type": "markdown",
   "metadata": {},
   "source": [
    "El siguiente paso es añadir 12 variables usando el archivo que hemos importado previamente (datos_proceso.csv)\n",
    "Estas variables representaran el tiempo, número de visitas y número de visitas únicas que cada usuario está en cada página.\n",
    "\n",
    "Para conseguir esto, tendremos que hacer un merge para cada página del proceso."
   ]
  },
  {
   "cell_type": "code",
   "execution_count": 77,
   "metadata": {
    "collapsed": true
   },
   "outputs": [],
   "source": [
    "# añadimos datos pagina 1\n",
    "# A la vez que añadimos filtramos por page 1, eliminamos la columna página y\n",
    "# cambiamos el nombre a las columnas\n",
    "df = (pd.merge(df, datos_proceso[datos_proceso['página']=='page1'].\n",
    "               drop('página',1).\n",
    "                   rename(columns = {'Promedio de tiempo en la página':'avg_tiempo_pag1',\n",
    "                                     'Número de visitas a páginas':'vistas_pag1',\n",
    "                                     'Número de visitas a páginas únicas':'vistas_unicas_pag1'}),\n",
    "               how='left', on='identificador'\n",
    "              ))\n",
    "\n",
    "\n",
    "# añadimos datos pagina 2\n",
    "# A la vez que añadimos filtramos por page 2, eliminamos la columna página y\n",
    "# cambiamos el nombre a las columnas\n",
    "df = (pd.merge(df, datos_proceso[datos_proceso['página']=='page2'].\n",
    "               drop('página',1).\n",
    "                   rename(columns = {'Promedio de tiempo en la página':'avg_tiempo_pag2',\n",
    "                                     'Número de visitas a páginas':'vistas_pag2',\n",
    "                                     'Número de visitas a páginas únicas':'vistas_unicas_pag2'}),\n",
    "               how='left', on='identificador'\n",
    "              ))\n",
    "\n",
    "\n",
    "# añadimos datos pagina 3\n",
    "# A la vez que añadimos filtramos por page 3, eliminamos la columna página y\n",
    "# cambiamos el nombre a las columnas\n",
    "df = (pd.merge(df, datos_proceso[datos_proceso['página']=='page3'].\n",
    "               drop('página',1).\n",
    "                   rename(columns = {'Promedio de tiempo en la página':'avg_tiempo_pag3',\n",
    "                                     'Número de visitas a páginas':'vistas_pag3',\n",
    "                                     'Número de visitas a páginas únicas':'vistas_unicas_pag3'}),\n",
    "               how='left', on='identificador'\n",
    "              ))\n",
    "\n",
    "\n",
    "# añadimos datos pagina 4\n",
    "# A la vez que añadimos filtramos por page 4, eliminamos la columna página y\n",
    "# cambiamos el nombre a las columnas\n",
    "df = (pd.merge(df, datos_proceso[datos_proceso['página']=='page4'].\n",
    "               drop('página',1).\n",
    "                   rename(columns = {'Promedio de tiempo en la página':'avg_tiempo_pag4',\n",
    "                                     'Número de visitas a páginas':'vistas_pag4',\n",
    "                                     'Número de visitas a páginas únicas':'vistas_unicas_pag4'}),\n",
    "               how='left', on='identificador'\n",
    "              ))"
   ]
  },
  {
   "cell_type": "code",
   "execution_count": 78,
   "metadata": {
    "collapsed": false
   },
   "outputs": [
    {
     "data": {
      "text/html": [
       "<div>\n",
       "<style>\n",
       "    .dataframe thead tr:only-child th {\n",
       "        text-align: right;\n",
       "    }\n",
       "\n",
       "    .dataframe thead th {\n",
       "        text-align: left;\n",
       "    }\n",
       "\n",
       "    .dataframe tbody tr th {\n",
       "        vertical-align: top;\n",
       "    }\n",
       "</style>\n",
       "<table border=\"1\" class=\"dataframe\">\n",
       "  <thead>\n",
       "    <tr style=\"text-align: right;\">\n",
       "      <th></th>\n",
       "      <th>identificador</th>\n",
       "      <th>ssoo</th>\n",
       "      <th>profundidad</th>\n",
       "      <th>avg_tiempo_pag1</th>\n",
       "      <th>vistas_pag1</th>\n",
       "      <th>vistas_unicas_pag1</th>\n",
       "      <th>avg_tiempo_pag2</th>\n",
       "      <th>vistas_pag2</th>\n",
       "      <th>vistas_unicas_pag2</th>\n",
       "      <th>avg_tiempo_pag3</th>\n",
       "      <th>vistas_pag3</th>\n",
       "      <th>vistas_unicas_pag3</th>\n",
       "      <th>avg_tiempo_pag4</th>\n",
       "      <th>vistas_pag4</th>\n",
       "      <th>vistas_unicas_pag4</th>\n",
       "    </tr>\n",
       "  </thead>\n",
       "  <tbody>\n",
       "    <tr>\n",
       "      <th>0</th>\n",
       "      <td>100016u</td>\n",
       "      <td>0</td>\n",
       "      <td>1</td>\n",
       "      <td>15.000000</td>\n",
       "      <td>1</td>\n",
       "      <td>1</td>\n",
       "      <td>NaN</td>\n",
       "      <td>NaN</td>\n",
       "      <td>NaN</td>\n",
       "      <td>NaN</td>\n",
       "      <td>NaN</td>\n",
       "      <td>NaN</td>\n",
       "      <td>NaN</td>\n",
       "      <td>NaN</td>\n",
       "      <td>NaN</td>\n",
       "    </tr>\n",
       "    <tr>\n",
       "      <th>1</th>\n",
       "      <td>100018u</td>\n",
       "      <td>0</td>\n",
       "      <td>4</td>\n",
       "      <td>24.000000</td>\n",
       "      <td>1</td>\n",
       "      <td>1</td>\n",
       "      <td>5.0</td>\n",
       "      <td>1.0</td>\n",
       "      <td>1.0</td>\n",
       "      <td>NaN</td>\n",
       "      <td>NaN</td>\n",
       "      <td>NaN</td>\n",
       "      <td>4.0</td>\n",
       "      <td>1.0</td>\n",
       "      <td>1.0</td>\n",
       "    </tr>\n",
       "    <tr>\n",
       "      <th>2</th>\n",
       "      <td>100026u</td>\n",
       "      <td>1</td>\n",
       "      <td>1</td>\n",
       "      <td>33.666667</td>\n",
       "      <td>3</td>\n",
       "      <td>3</td>\n",
       "      <td>NaN</td>\n",
       "      <td>NaN</td>\n",
       "      <td>NaN</td>\n",
       "      <td>NaN</td>\n",
       "      <td>NaN</td>\n",
       "      <td>NaN</td>\n",
       "      <td>NaN</td>\n",
       "      <td>NaN</td>\n",
       "      <td>NaN</td>\n",
       "    </tr>\n",
       "    <tr>\n",
       "      <th>3</th>\n",
       "      <td>100027u</td>\n",
       "      <td>1</td>\n",
       "      <td>1</td>\n",
       "      <td>19.000000</td>\n",
       "      <td>1</td>\n",
       "      <td>1</td>\n",
       "      <td>NaN</td>\n",
       "      <td>NaN</td>\n",
       "      <td>NaN</td>\n",
       "      <td>NaN</td>\n",
       "      <td>NaN</td>\n",
       "      <td>NaN</td>\n",
       "      <td>NaN</td>\n",
       "      <td>NaN</td>\n",
       "      <td>NaN</td>\n",
       "    </tr>\n",
       "    <tr>\n",
       "      <th>4</th>\n",
       "      <td>100036u</td>\n",
       "      <td>1</td>\n",
       "      <td>1</td>\n",
       "      <td>5.000000</td>\n",
       "      <td>1</td>\n",
       "      <td>1</td>\n",
       "      <td>NaN</td>\n",
       "      <td>NaN</td>\n",
       "      <td>NaN</td>\n",
       "      <td>NaN</td>\n",
       "      <td>NaN</td>\n",
       "      <td>NaN</td>\n",
       "      <td>NaN</td>\n",
       "      <td>NaN</td>\n",
       "      <td>NaN</td>\n",
       "    </tr>\n",
       "  </tbody>\n",
       "</table>\n",
       "</div>"
      ],
      "text/plain": [
       "  identificador  ssoo  profundidad  avg_tiempo_pag1  vistas_pag1  \\\n",
       "0       100016u     0            1        15.000000            1   \n",
       "1       100018u     0            4        24.000000            1   \n",
       "2       100026u     1            1        33.666667            3   \n",
       "3       100027u     1            1        19.000000            1   \n",
       "4       100036u     1            1         5.000000            1   \n",
       "\n",
       "   vistas_unicas_pag1  avg_tiempo_pag2  vistas_pag2  vistas_unicas_pag2  \\\n",
       "0                   1              NaN          NaN                 NaN   \n",
       "1                   1              5.0          1.0                 1.0   \n",
       "2                   3              NaN          NaN                 NaN   \n",
       "3                   1              NaN          NaN                 NaN   \n",
       "4                   1              NaN          NaN                 NaN   \n",
       "\n",
       "   avg_tiempo_pag3  vistas_pag3  vistas_unicas_pag3  avg_tiempo_pag4  \\\n",
       "0              NaN          NaN                 NaN              NaN   \n",
       "1              NaN          NaN                 NaN              4.0   \n",
       "2              NaN          NaN                 NaN              NaN   \n",
       "3              NaN          NaN                 NaN              NaN   \n",
       "4              NaN          NaN                 NaN              NaN   \n",
       "\n",
       "   vistas_pag4  vistas_unicas_pag4  \n",
       "0          NaN                 NaN  \n",
       "1          1.0                 1.0  \n",
       "2          NaN                 NaN  \n",
       "3          NaN                 NaN  \n",
       "4          NaN                 NaN  "
      ]
     },
     "execution_count": 78,
     "metadata": {},
     "output_type": "execute_result"
    }
   ],
   "source": [
    "df.head()"
   ]
  },
  {
   "cell_type": "code",
   "execution_count": null,
   "metadata": {
    "collapsed": true
   },
   "outputs": [],
   "source": [
    "# Eliminar NaN de la página 1, explicando el porque y demostrandolo\n",
    "# Toca hacer una reflexion explicando porque debemos eliminar columnas de la página 4\n",
    "\n"
   ]
  }
 ],
 "metadata": {
  "kernelspec": {
   "display_name": "Python 2",
   "language": "python",
   "name": "python2"
  },
  "language_info": {
   "codemirror_mode": {
    "name": "ipython",
    "version": 2
   },
   "file_extension": ".py",
   "mimetype": "text/x-python",
   "name": "python",
   "nbconvert_exporter": "python",
   "pygments_lexer": "ipython2",
   "version": "2.7.13"
  }
 },
 "nbformat": 4,
 "nbformat_minor": 2
}
